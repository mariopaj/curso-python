{
 "cells": [
  {
   "cell_type": "markdown",
   "id": "4e38697d-8256-4d81-94ec-67b7576983bc",
   "metadata": {},
   "source": [
    "# Tema 4- Operadores de deisión y variables booleanas"
   ]
  },
  {
   "cell_type": "markdown",
   "id": "0bffdc67-513e-4ee5-8439-f4250ce43713",
   "metadata": {},
   "source": [
    "## Booleanos\n",
    "\n",
    "**Dato booleano.** Es un tipo de dato que solamente puede tomar 2 valores: `True` (verdadero) o `False` (falso).\n",
    "\n",
    "**Variable lógica.** Variable que almacena datos booleanos."
   ]
  },
  {
   "cell_type": "code",
   "execution_count": 1,
   "id": "d978d510-ab14-4be2-af67-dc0dea41062f",
   "metadata": {},
   "outputs": [
    {
     "data": {
      "text/plain": [
       "bool"
      ]
     },
     "execution_count": 1,
     "metadata": {},
     "output_type": "execute_result"
    }
   ],
   "source": [
    "is_adult = True\n",
    "type(is_adult)"
   ]
  },
  {
   "cell_type": "markdown",
   "id": "03e60d60-df09-456b-b52f-3e55c597e8a9",
   "metadata": {
    "tags": []
   },
   "source": [
    "**Observación.** Observad que tanto `True` como `False` únicamente tienen la primera letra mayúscula. Además, a diferencia de otros lenguajes de programación, como por ejemplo `R`, `Python` solamente admite los booleanos escritos de esta forma: `True` o `False`.\n"
   ]
  },
  {
   "cell_type": "markdown",
   "id": "19aed5f1-0244-4f97-a510-581d0e2c91c2",
   "metadata": {},
   "source": [
    "### Tablas de verdad\n",
    "\n",
    "Dadas dos variables lógicas, $A$ y $B$, , podemos definir los operadores básicos mediante tablas de verdad, donde el valor verdadero se representa con la letra $V$ o bien con un $1$, mientras que el valor falso se representa mediante la letra $F$ o bien con un $0$.\n",
    "\n",
    "La tabla de verdad para la variable $A$ sería\n",
    "\n",
    "| $A$ |\n",
    "| :---: |\n",
    "| $V$ |\n",
    "| $F$ |\n",
    "\n",
    "La tabla de verdad para la variable $B$ sería\n",
    "\n",
    "| $B$ |\n",
    "| :---: |\n",
    "| $V$ |\n",
    "| $F$ |\n",
    "\n"
   ]
  },
  {
   "cell_type": "markdown",
   "id": "6897b708-b11e-472b-96ce-b86f444229fe",
   "metadata": {},
   "source": [
    "#### Negación\n",
    "\n",
    "El operador negación aplicado a una variable se representa con $\\neg$ y devuelve el valor contrario.\n",
    "\n",
    "| $A$ | $\\neg A$ |\n",
    "| :---: | :---: |\n",
    "| $V$ | $F$ |\n",
    "| $F$ | $V$ |"
   ]
  },
  {
   "cell_type": "markdown",
   "id": "49829ce5-75b1-4f03-8206-143351ccd3f5",
   "metadata": {},
   "source": [
    "#### Conjunción\n",
    "\n",
    "La conjunción entre dos variables se representa con $\\wedge$ y devuelve verdadero únicamente cuando ambas variables valen verdadero.\n",
    "\n",
    "| $A$ | $B$ | $A\\wedge B$ |\n",
    "| :---: | :---: | :---: |\n",
    "| $V$ | $V$ | $V$ |\n",
    "| $V$ | $F$ | $F$ |\n",
    "| $F$ | $V$ | $F$ |\n",
    "| $F$ | $F$ | $F$ |"
   ]
  },
  {
   "cell_type": "markdown",
   "id": "6512d37a-f845-45c4-8b4a-9340ff0af7bb",
   "metadata": {},
   "source": [
    "#### Disyunción\n",
    "\n",
    "La disyunción entre dos variables se representa con $\\vee$ y devuelve verdadero cuando almenos una de las variables lógicas vale verdadero.\n",
    "\n",
    "| $A$ | $B$ | $A\\vee B$ |\n",
    "| :---: | :---: | :---: |\n",
    "| $V$ | $V$ | $V$ |\n",
    "| $V$ | $F$ | $V$ |\n",
    "| $F$ | $V$ | $V$ |\n",
    "| $F$ | $F$ | $F$ |"
   ]
  },
  {
   "cell_type": "markdown",
   "id": "f59fc2ca-cec1-44e5-9f9d-c558861c437a",
   "metadata": {},
   "source": [
    "### Operadores lógicos en `Python`\n",
    "\n",
    "Para hacer la negación, utilizamos el operador `not`."
   ]
  },
  {
   "cell_type": "code",
   "execution_count": 2,
   "id": "bec203b8-0830-46fd-813e-eeda808f3494",
   "metadata": {},
   "outputs": [
    {
     "data": {
      "text/plain": [
       "False"
      ]
     },
     "execution_count": 2,
     "metadata": {},
     "output_type": "execute_result"
    }
   ],
   "source": [
    "A = True\n",
    "not A"
   ]
  },
  {
   "cell_type": "markdown",
   "id": "128c7ebe-351c-4201-ab77-11a906cc4623",
   "metadata": {},
   "source": [
    "Para hacer la conjunción entre dos variables lógicas, utilizamos el operador `and`."
   ]
  },
  {
   "cell_type": "code",
   "execution_count": 3,
   "id": "20c4ff4f-58bb-48cd-b82a-0a3c603210ae",
   "metadata": {},
   "outputs": [
    {
     "data": {
      "text/plain": [
       "True"
      ]
     },
     "execution_count": 3,
     "metadata": {},
     "output_type": "execute_result"
    }
   ],
   "source": [
    "B = False\n",
    "not B"
   ]
  },
  {
   "cell_type": "code",
   "execution_count": 6,
   "id": "8834a81b-4417-465f-85f0-25c62f42c869",
   "metadata": {},
   "outputs": [
    {
     "data": {
      "text/plain": [
       "True"
      ]
     },
     "execution_count": 6,
     "metadata": {},
     "output_type": "execute_result"
    }
   ],
   "source": [
    "A, B = True, True\n",
    "A and B"
   ]
  },
  {
   "cell_type": "code",
   "execution_count": 7,
   "id": "b5325d96-3692-4ec4-8769-b986348d36b5",
   "metadata": {},
   "outputs": [
    {
     "data": {
      "text/plain": [
       "False"
      ]
     },
     "execution_count": 7,
     "metadata": {},
     "output_type": "execute_result"
    }
   ],
   "source": [
    "A and (not B)"
   ]
  },
  {
   "cell_type": "markdown",
   "id": "0e942f68-2103-43b4-afda-eac278108464",
   "metadata": {},
   "source": [
    "Para hacer la disyunción entre dos variables lógicas, utilizamos el operador `or`."
   ]
  },
  {
   "cell_type": "code",
   "execution_count": 8,
   "id": "9587e191-f0c3-4e94-8ddb-87580046f52d",
   "metadata": {},
   "outputs": [
    {
     "data": {
      "text/plain": [
       "False"
      ]
     },
     "execution_count": 8,
     "metadata": {},
     "output_type": "execute_result"
    }
   ],
   "source": [
    "A, B = False, False\n",
    "A or B"
   ]
  },
  {
   "cell_type": "code",
   "execution_count": 9,
   "id": "e36227c9-678c-4db7-ba69-6b4e07c63066",
   "metadata": {},
   "outputs": [
    {
     "data": {
      "text/plain": [
       "True"
      ]
     },
     "execution_count": 9,
     "metadata": {},
     "output_type": "execute_result"
    }
   ],
   "source": [
    "(not A) or B"
   ]
  },
  {
   "cell_type": "markdown",
   "id": "d5a5e990-69df-4039-8027-772e2830ef24",
   "metadata": {},
   "source": [
    "### Operadores de comparación\n",
    "\n",
    "En `Python` podemos comparar datos y obtener un resultado booleano. Los operadores de comparación disponibles son\n",
    "\n",
    "| Operador | Significado |\n",
    "| :---: | :--- |\n",
    "| $>$ | Estrictamente mayor |\n",
    "| $\\ge$ | Mayor o igual |\n",
    "| $<$ | Estrictamente menor |\n",
    "| $\\le$ | Menor o igual |\n",
    "| $==$ | Igual |\n",
    "| $!=$ | Diferente |"
   ]
  },
  {
   "cell_type": "code",
   "execution_count": 10,
   "id": "41e647b3-50fd-418c-b468-f534e73bde12",
   "metadata": {},
   "outputs": [
    {
     "data": {
      "text/plain": [
       "True"
      ]
     },
     "execution_count": 10,
     "metadata": {},
     "output_type": "execute_result"
    }
   ],
   "source": [
    "7 == 7.0"
   ]
  },
  {
   "cell_type": "code",
   "execution_count": 11,
   "id": "735b3563-7928-4fb9-8fdb-586462d38c17",
   "metadata": {},
   "outputs": [
    {
     "data": {
      "text/plain": [
       "False"
      ]
     },
     "execution_count": 11,
     "metadata": {},
     "output_type": "execute_result"
    }
   ],
   "source": [
    "3.14 > 9"
   ]
  },
  {
   "cell_type": "code",
   "execution_count": 12,
   "id": "fbf43b85-afe4-482c-8344-0a36deb41346",
   "metadata": {},
   "outputs": [
    {
     "data": {
      "text/plain": [
       "True"
      ]
     },
     "execution_count": 12,
     "metadata": {},
     "output_type": "execute_result"
    }
   ],
   "source": [
    "7 != '7'"
   ]
  },
  {
   "cell_type": "code",
   "execution_count": 13,
   "id": "55f5cd17-a605-4e5b-adf9-07f7da6ecc4c",
   "metadata": {},
   "outputs": [
    {
     "data": {
      "text/plain": [
       "True"
      ]
     },
     "execution_count": 13,
     "metadata": {},
     "output_type": "execute_result"
    }
   ],
   "source": [
    "0.01 <= 1"
   ]
  },
  {
   "cell_type": "markdown",
   "id": "deef61e3-765b-431e-9f8d-f684e44f1155",
   "metadata": {},
   "source": [
    "**Observación.** Observad que cuando hemos comparado el número 7 en formato integer y en formato float, hemos obtenido que eran iguales, mientras que al haber comparado el número 7 en formato integer con el mismo número, pero en formato string, nos ha devuelto que son diferentes. Esto lo que nos viene a decir es que numéricamente, `Python` considera iguales los números enteros tanto si están en formato integer como en formato float. No obstante, nunca considerará iguales dos datos donde uno esté en formato numérico y el otro, en formato string.\n"
   ]
  },
  {
   "cell_type": "markdown",
   "id": "47b48222-4234-473f-b287-c00699fc3fa4",
   "metadata": {},
   "source": [
    "#### Múltiples comparaciones simultáneas\n",
    "\n",
    "Podemos realizar múltiples comparaciones a la vez.\n",
    "\n",
    "Supongamos que tenemos que tener 16 años o más, pero como mucho 40 para poder concertar una entrevista y aspirar a ser miembros de la tripulación del pirata Pyratilla.\n",
    "\n",
    "Queremos saber si nos concederá una entrevista si tenemos 17 años."
   ]
  },
  {
   "cell_type": "code",
   "execution_count": 14,
   "id": "9d6bba0f-bde9-47c1-beab-4c2cc3be9c04",
   "metadata": {},
   "outputs": [
    {
     "data": {
      "text/plain": [
       "True"
      ]
     },
     "execution_count": 14,
     "metadata": {},
     "output_type": "execute_result"
    }
   ],
   "source": [
    "edad = 17\n",
    "(edad >= 16) and (edad <= 40)"
   ]
  },
  {
   "cell_type": "markdown",
   "id": "0491b5e3-4cfb-4fab-9511-3810e648ff64",
   "metadata": {},
   "source": [
    "Hemos obtenido `True`, por tanto podemos concertar una entrevista. Que nos admita o no en su tripulación tras la entrevista, eso ya es otra cosa."
   ]
  },
  {
   "cell_type": "markdown",
   "id": "211f1e23-f890-486e-8a2b-c38d00184d66",
   "metadata": {},
   "source": [
    "#### Comparaciones de strings\n",
    "\n",
    "No solamente podemos comparar datos numéricos, sino que también podemos comparar strings en relación al orden alfabético."
   ]
  },
  {
   "cell_type": "code",
   "execution_count": 15,
   "id": "ca3b8754-0cd4-43f4-8756-6cc391e591e4",
   "metadata": {},
   "outputs": [
    {
     "data": {
      "text/plain": [
       "False"
      ]
     },
     "execution_count": 15,
     "metadata": {},
     "output_type": "execute_result"
    }
   ],
   "source": [
    "'Mallorca' < 'Dubai'"
   ]
  },
  {
   "cell_type": "markdown",
   "id": "70824c38-9fe5-4e24-9b87-ba358d0fac2c",
   "metadata": {},
   "source": [
    "El resultado que obtenemos no se debe a que Mallorca sea mejor que Dubai, sino a que la primera letra de la primera palabra, M, no se encuentra antes en el abecedario que la primera letra de la segunda palabra, D.\n",
    "\n",
    "**Observación.** En caso de que la primera letra de cada una de las palabras comparadas coincidan, se comparan los caracteres que se encuentran en la siguiente posición. En caso de empate, seguiríamos comparando los caracteres de la tercera posición y así sucesivamente."
   ]
  },
  {
   "cell_type": "code",
   "execution_count": 16,
   "id": "a4de8df0-ef00-4eaf-be80-e19f2f6aca84",
   "metadata": {},
   "outputs": [
    {
     "data": {
      "text/plain": [
       "True"
      ]
     },
     "execution_count": 16,
     "metadata": {},
     "output_type": "execute_result"
    }
   ],
   "source": [
    "'Malloraca' >= 'Madrid'"
   ]
  },
  {
   "cell_type": "markdown",
   "id": "139e7929-391c-44ff-a593-b66325c3f530",
   "metadata": {},
   "source": [
    "### Más métodos de string\n",
    "\n",
    "El método `.startswith()` nos devuelve verdadero si el string empieza con el caracter o la cadena de caracteres indicado."
   ]
  },
  {
   "cell_type": "code",
   "execution_count": 19,
   "id": "8f7c79b5-5f08-45c6-a216-78133ab43802",
   "metadata": {},
   "outputs": [
    {
     "data": {
      "text/plain": [
       "False"
      ]
     },
     "execution_count": 19,
     "metadata": {},
     "output_type": "execute_result"
    }
   ],
   "source": [
    "s = 'Mallorca es una isla preciosa'\n",
    "s.startswith('m')"
   ]
  },
  {
   "cell_type": "code",
   "execution_count": 20,
   "id": "588b65ae-b53b-46c7-972a-3a2527f4f679",
   "metadata": {},
   "outputs": [
    {
     "data": {
      "text/plain": [
       "True"
      ]
     },
     "execution_count": 20,
     "metadata": {},
     "output_type": "execute_result"
    }
   ],
   "source": [
    "s.startswith('Mallorca')"
   ]
  },
  {
   "cell_type": "markdown",
   "id": "7b2cfc27-1326-48b2-8011-5ac526c0ec1c",
   "metadata": {},
   "source": [
    "**Observación.** Como podéis observar, `Python` diferencia entre letras en mayúscula y letras en minúscula. Por eso es que obtenemos falso al preguntar si el string empieza por m, en vez de M.\n",
    "\n",
    "El método `.endswith()` nos devuelve verdadero si el string acaba con el caracter o la cadena de caracteres indicado."
   ]
  },
  {
   "cell_type": "code",
   "execution_count": 23,
   "id": "6e4cc9f0-8246-49cc-a601-328fadfb5b5b",
   "metadata": {},
   "outputs": [
    {
     "data": {
      "text/plain": [
       "True"
      ]
     },
     "execution_count": 23,
     "metadata": {},
     "output_type": "execute_result"
    }
   ],
   "source": [
    "s = 'Mallorca es una isla preciosa'\n",
    "s.endswith('a')"
   ]
  },
  {
   "cell_type": "code",
   "execution_count": 24,
   "id": "c72f29f4-df66-4aae-b80b-5b5a91161d92",
   "metadata": {},
   "outputs": [
    {
     "data": {
      "text/plain": [
       "False"
      ]
     },
     "execution_count": 24,
     "metadata": {},
     "output_type": "execute_result"
    }
   ],
   "source": [
    "s.endswith('boita')"
   ]
  },
  {
   "cell_type": "markdown",
   "id": "57df71c0-ce40-4541-807e-52a0b172311d",
   "metadata": {},
   "source": [
    "El método `.isalnum()` nos devuelve verdadero si todos los caracteres del string son alfanuméricos."
   ]
  },
  {
   "cell_type": "code",
   "execution_count": 26,
   "id": "19b346f7-0357-405d-a3cb-b99bb3cba9b8",
   "metadata": {},
   "outputs": [
    {
     "data": {
      "text/plain": [
       "True"
      ]
     },
     "execution_count": 26,
     "metadata": {},
     "output_type": "execute_result"
    }
   ],
   "source": [
    "s = 'Python365'\n",
    "s.isalnum()"
   ]
  },
  {
   "cell_type": "code",
   "execution_count": 28,
   "id": "b6d6c103-90a6-4f82-918d-676553bbdefb",
   "metadata": {},
   "outputs": [
    {
     "data": {
      "text/plain": [
       "False"
      ]
     },
     "execution_count": 28,
     "metadata": {},
     "output_type": "execute_result"
    }
   ],
   "source": [
    "s = 'Han creado un blog llamado Python365'\n",
    "s.isalnum()"
   ]
  },
  {
   "cell_type": "markdown",
   "id": "c8d2fcf6-48b4-4423-8848-6d690304a462",
   "metadata": {},
   "source": [
    "**¡Cuidado!** No se consideran caracteres alfanuméricos los siguientes: espacio en blanco, !, %, ?, & y un largo etcétera.\n",
    "\n",
    "El método `.isalpha()` nos devuelve verdadero si todos los caracteres del string son del alfabeto."
   ]
  },
  {
   "cell_type": "code",
   "execution_count": 29,
   "id": "05f171c7-aa59-4792-a365-c2aa50fe87b2",
   "metadata": {},
   "outputs": [
    {
     "data": {
      "text/plain": [
       "True"
      ]
     },
     "execution_count": 29,
     "metadata": {},
     "output_type": "execute_result"
    }
   ],
   "source": [
    "s = 'Cachalote'\n",
    "s.isalpha()"
   ]
  },
  {
   "cell_type": "code",
   "execution_count": 32,
   "id": "df319080-97d9-4790-a385-b384a899df61",
   "metadata": {},
   "outputs": [
    {
     "data": {
      "text/plain": [
       "False"
      ]
     },
     "execution_count": 32,
     "metadata": {},
     "output_type": "execute_result"
    }
   ],
   "source": [
    "s = 'Mi perro se llama guindilla'\n",
    "s.isalpha()"
   ]
  },
  {
   "cell_type": "markdown",
   "id": "ee1659f5-a67b-49d5-91c9-5e9c6a6f4bc0",
   "metadata": {},
   "source": [
    "El método `.isdigit()` nos devuelve verdadero si todos los caracteres del string son dígitos."
   ]
  },
  {
   "cell_type": "code",
   "execution_count": 33,
   "id": "803d61c9-dc95-4d54-80fc-5813bba57ba9",
   "metadata": {},
   "outputs": [
    {
     "data": {
      "text/plain": [
       "True"
      ]
     },
     "execution_count": 33,
     "metadata": {},
     "output_type": "execute_result"
    }
   ],
   "source": [
    "s = '365'\n",
    "s.isdigit()"
   ]
  },
  {
   "cell_type": "code",
   "execution_count": 34,
   "id": "7f9c784c-96cc-4440-948b-d061169d8c84",
   "metadata": {},
   "outputs": [
    {
     "data": {
      "text/plain": [
       "False"
      ]
     },
     "execution_count": 34,
     "metadata": {},
     "output_type": "execute_result"
    }
   ],
   "source": [
    "s = 'Pyo356'\n",
    "s.isdigit()"
   ]
  },
  {
   "cell_type": "markdown",
   "id": "3a094c69-528d-4901-adf6-c389cb9af5be",
   "metadata": {},
   "source": [
    "El método `.isspace()` nos devuelve verdadero si todos los caracteres del string son espacios en blanco."
   ]
  },
  {
   "cell_type": "code",
   "execution_count": 35,
   "id": "6836c9fa-4eb5-48dc-afbf-209b41815205",
   "metadata": {},
   "outputs": [
    {
     "data": {
      "text/plain": [
       "True"
      ]
     },
     "execution_count": 35,
     "metadata": {},
     "output_type": "execute_result"
    }
   ],
   "source": [
    "s = '     '\n",
    "s.isspace()"
   ]
  },
  {
   "cell_type": "markdown",
   "id": "8a5d259e-f2a1-4fa9-9c02-6436955abf1d",
   "metadata": {},
   "source": [
    "El método `.islower()` nos devuelve verdadero si todos los caracteres del string están en minúscula."
   ]
  },
  {
   "cell_type": "code",
   "execution_count": 36,
   "id": "43535ed1-b8e9-4ddb-ad3d-d0b6ae943395",
   "metadata": {},
   "outputs": [
    {
     "data": {
      "text/plain": [
       "False"
      ]
     },
     "execution_count": 36,
     "metadata": {},
     "output_type": "execute_result"
    }
   ],
   "source": [
    "s = 'Mi gato se llama Bigotes'\n",
    "s.islower()"
   ]
  },
  {
   "cell_type": "code",
   "execution_count": 37,
   "id": "f7cde37b-59c7-4b37-bc4b-8a1b2c14c759",
   "metadata": {},
   "outputs": [
    {
     "data": {
      "text/plain": [
       "True"
      ]
     },
     "execution_count": 37,
     "metadata": {},
     "output_type": "execute_result"
    }
   ],
   "source": [
    "s = 'me gusta hacer puzzles'\n",
    "s.islower()"
   ]
  },
  {
   "cell_type": "markdown",
   "id": "596616c0-d35a-4f85-9182-d2a06ba638af",
   "metadata": {},
   "source": [
    "El método `.isupper()` nos devuelve verdadero si todos los caracteres del string están en mayúscula."
   ]
  },
  {
   "cell_type": "code",
   "execution_count": 38,
   "id": "c53ac7c4-d0f3-4281-90ac-2f67b0396d15",
   "metadata": {},
   "outputs": [
    {
     "data": {
      "text/plain": [
       "False"
      ]
     },
     "execution_count": 38,
     "metadata": {},
     "output_type": "execute_result"
    }
   ],
   "source": [
    "s = 'Mi gato se llama Bigotes'\n",
    "s.isupper()"
   ]
  },
  {
   "cell_type": "code",
   "execution_count": 39,
   "id": "b5e20a97-31ca-4a09-a9bb-71b4cb5a6feb",
   "metadata": {},
   "outputs": [
    {
     "data": {
      "text/plain": [
       "True"
      ]
     },
     "execution_count": 39,
     "metadata": {},
     "output_type": "execute_result"
    }
   ],
   "source": [
    "s = 'ME GUSTA HACER PUZZLES'\n",
    "s.isupper()"
   ]
  },
  {
   "cell_type": "markdown",
   "id": "ef7ed764-b1d1-4ce3-accd-6343696386e5",
   "metadata": {},
   "source": [
    "El método `.istitle()` nos devuelve verdadero si todas las palabras del string empiezan en mayúscula y el resto de las letras de la palabra están en minúscula."
   ]
  },
  {
   "cell_type": "code",
   "execution_count": 40,
   "id": "fce5ccd3-854f-4b66-8186-f6972bb32a6e",
   "metadata": {},
   "outputs": [
    {
     "data": {
      "text/plain": [
       "True"
      ]
     },
     "execution_count": 40,
     "metadata": {},
     "output_type": "execute_result"
    }
   ],
   "source": [
    "s = 'Platero Y Yo'\n",
    "s.istitle()"
   ]
  },
  {
   "cell_type": "code",
   "execution_count": 41,
   "id": "df5c353b-9b03-49d1-a31e-94e1289f5c77",
   "metadata": {},
   "outputs": [
    {
     "data": {
      "text/plain": [
       "False"
      ]
     },
     "execution_count": 41,
     "metadata": {},
     "output_type": "execute_result"
    }
   ],
   "source": [
    "s = 'PLATERO Y YO'\n",
    "s.istitle()"
   ]
  },
  {
   "cell_type": "markdown",
   "id": "31297fac-037a-4123-ac98-8c0b4e41faf5",
   "metadata": {},
   "source": [
    "## Operadores de decisión"
   ]
  },
  {
   "cell_type": "markdown",
   "id": "03467f07-1edd-417a-b97d-e8a96575acc8",
   "metadata": {},
   "source": [
    "### `if`\n",
    "\n",
    "Cuando queremos comprobar si se cumple alguna condición, utilizamos el operador de decisión `if`. La sintaxis que debemos seguir es la siguiente:\n"
   ]
  },
  {
   "cell_type": "code",
   "execution_count": null,
   "id": "6415d998-8304-49ec-9f34-0cb1badabfc4",
   "metadata": {},
   "outputs": [],
   "source": [
    "if condición:\n",
    "    consecuencia"
   ]
  },
  {
   "cell_type": "markdown",
   "id": "7534a0ec-58de-4428-a018-9cf319e75165",
   "metadata": {},
   "source": [
    "**¡Cuidado!** La sintaxis de los dos puntos después de la condición y la indentación (equivalente a una tabulación, un total de 4 espacios en blanco) que precede a la consecuencia es muy importante. De hecho, si se omite alguna de las dos cosas o bien nos pasamos de indentación, nos saltará error.\n",
    "\n",
    "- Si queréis hacer una tabulación, debéis pulsar el tabulador una vez. \n",
    "- Podéis hacer tabulaciones en bloque seleccionando las líneas de código que queráis indentar y, a continuación, pulsando el tabulador.\n",
    "- Podéis deshacer tabulaciones pulsando Shift + Tab\n",
    "- Podéis deshacer tabulaciones en bloque seleccionando las líneas de código que queráis desindentar y, a continuación, pulsando el Shift + Tab.\n",
    "\n",
    "Siguiendo con nuestro ejemplo, si el usuario tiene más de 16 años, pero menos de 40, entonces puede formar parte de la tripulación de Pyratilla."
   ]
  },
  {
   "cell_type": "code",
   "execution_count": 1,
   "id": "0c72cec7-6ca2-44f5-9f56-8d6ca6685453",
   "metadata": {},
   "outputs": [
    {
     "name": "stdout",
     "output_type": "stream",
     "text": [
      "Puedes formar parte d ela tripulación de Pyratilla\n"
     ]
    }
   ],
   "source": [
    "age = 23\n",
    "if (age >= 16 and age <= 40):\n",
    "    print('Puedes formar parte de la tripulación de Pyratilla')"
   ]
  },
  {
   "cell_type": "markdown",
   "id": "b644b011-f71c-49d9-8b09-af795cc14dd1",
   "metadata": {},
   "source": [
    "### Ejercicio 1\n",
    "\n",
    "Dado un string, vamso a comprobar si contiene espacios en blanco y, en ese caso de ser cierto, contaremos cuántos tiene.\n",
    "Pista: investiga el operador in."
   ]
  },
  {
   "cell_type": "code",
   "execution_count": 3,
   "id": "b6a2f7b7-262f-4bc0-9ea3-5e49b8b8f002",
   "metadata": {},
   "outputs": [
    {
     "name": "stdout",
     "output_type": "stream",
     "text": [
      "El string tiene 3 espacios en blanco\n"
     ]
    }
   ],
   "source": [
    "s = 'Mi gato mola mucho'\n",
    "blank = ' '\n",
    "\n",
    "if blank in s:\n",
    "    print('El string tiene {} espacios en blanco'.format(s.count(blank)))"
   ]
  },
  {
   "cell_type": "markdown",
   "id": "7775fea0-b7b7-43e0-825d-ef6622301ac4",
   "metadata": {
    "tags": []
   },
   "source": [
    "### `else`\n",
    "\n",
    "Ahora, nos podríamos preguntar qué le podríamos decir al usuario en el caso en que no satisfaga la condición. Ahí es donde entra en juego el operador de decisión `else`. Esta vez, la sintaxis a seguir es la siguiente:"
   ]
  },
  {
   "cell_type": "code",
   "execution_count": null,
   "id": "f5245adc-8816-4ffb-ab02-1555ce159856",
   "metadata": {},
   "outputs": [],
   "source": [
    "if condicion:\n",
    "    consecuencia\n",
    "else:\n",
    "    consecuencia"
   ]
  },
  {
   "cell_type": "markdown",
   "id": "e89b2536-e14f-4352-aa52-19b49d9fc392",
   "metadata": {},
   "source": [
    "Siguiendo el ejemplo anterior, si el usuario tiene 16 años o más, pero menos de 40, entonces puede formar parte de la tripulación de Pyratilla. Si no, le diremos que no satisface una necesidad básica para ser miembro."
   ]
  },
  {
   "cell_type": "code",
   "execution_count": 6,
   "id": "8cff0b98-3d83-4a85-a4a8-63bd47fbad28",
   "metadata": {},
   "outputs": [
    {
     "name": "stdout",
     "output_type": "stream",
     "text": [
      "No satisfaces una necesidad básica para ser miembro de la tripulación del gran Pyratilla\n"
     ]
    }
   ],
   "source": [
    "age = 13\n",
    "\n",
    "if (age >=16 and age <= 40):\n",
    "    print('Puedes formar parte d ela tripulaciín de Pyratilla')\n",
    "else:\n",
    "    print('No satisfaces una necesidad básica para ser miembro de la tripulación del gran Pyratilla')"
   ]
  },
  {
   "cell_type": "markdown",
   "id": "8c39ae71-69a4-424d-a84c-1c214e846adc",
   "metadata": {},
   "source": [
    "### Ejercicio 2\n",
    "\n",
    "Vamos a hacer un programa que resulva ecuaciones de primer grado de la forma $Ax + B = 0$ proporcionadas por el usuario donde $A \\ne 0$."
   ]
  },
  {
   "cell_type": "code",
   "execution_count": 12,
   "id": "894aa189-b278-4338-888a-54189997e751",
   "metadata": {},
   "outputs": [
    {
     "name": "stdin",
     "output_type": "stream",
     "text": [
      "Coeficiente A =  4\n",
      "Coeficiente B =  -2\n"
     ]
    },
    {
     "name": "stdout",
     "output_type": "stream",
     "text": [
      "La solución es x = 0.5\n"
     ]
    }
   ],
   "source": [
    "A = float(input('Coeficiente A = '))\n",
    "B = float(input('Coeficiente B = '))\n",
    "\n",
    "if A != 0:\n",
    "    x = -B/A\n",
    "    print('La solución es x =', x)\n",
    "else:\n",
    "    print('A no puede tomar el valor 0')"
   ]
  },
  {
   "cell_type": "markdown",
   "id": "9c0564bd-87e4-4b65-8e61-2e23ec6500ab",
   "metadata": {},
   "source": [
    "### `elif`\n",
    "\n",
    "Ahora, en vez de comprobar si se cumple o no una condición, nos podríamos preguntar cómo haríamos para comprobar más de una condición. Podríamos hacerlo a lo bruto anidando operadores `if`, esto es, metiendo un `if` dentro de otro; o bien, podríamos hacerlo utilizando el operador de decisión `elif`.\n",
    "\n",
    "El operador `elif` funciona del siguiente modo: se empieza con un operador `if`; si la condición de este no se cumple, pasamos a la siguiente condición posible precedida de un `elif`; si esta tampoco se cumple, pasamos al siguiente `elif`; seguimos así hasta que o bien se satisface alguna condición y realizamos su consecuencia, o hasta llegar al `else`, que implica que no se ha satisfecho ninguna de las condiciones anteriores.\n",
    "\n",
    "La sintaxis del operador de decisión `elif` es la siguiente:"
   ]
  },
  {
   "cell_type": "code",
   "execution_count": null,
   "id": "422e1335-a38b-4f20-a383-0c3fb2a89e7d",
   "metadata": {},
   "outputs": [],
   "source": [
    "if condición_1:\n",
    "    consecuencia\n",
    "elif condición_2:\n",
    "    consecuencia\n",
    "elif condición_3:\n",
    "    consecuencaia\n",
    "else:\n",
    "    consecuencia"
   ]
  },
  {
   "cell_type": "markdown",
   "id": "3f94146f-708d-4355-8964-f50c6f084ded",
   "metadata": {},
   "source": [
    "Recuperemos el ejemplo de que tenemos que tener 16 años o más, pero menos de 40 para ser miembros de la tripulación del pirata Pyratilla. Vamos a mejorar lo que habíamos conseguido con el `if` y el `else`, añadiendo el operador `elif`.\n",
    "\n",
    "Además, veremos que nos dice con la edad de 20 años."
   ]
  },
  {
   "cell_type": "code",
   "execution_count": 13,
   "id": "8a833384-4645-4dc9-ab04-f2beae73f363",
   "metadata": {},
   "outputs": [
    {
     "name": "stdout",
     "output_type": "stream",
     "text": [
      "Podrás optar a pertenecer a la tripulación\n"
     ]
    }
   ],
   "source": [
    "age = 20\n",
    "\n",
    "if age > 40:\n",
    "    print('No puedes pertenecer a la tripulación, te pasas de la edad límite')\n",
    "elif age >= 16:\n",
    "    print('Podrás optar a pertenecer a la tripulación')\n",
    "else:\n",
    "    print('Eres muy pequeño todavía para la vida pirata')"
   ]
  },
  {
   "cell_type": "markdown",
   "id": "e542a588-d814-4b0f-884c-82d1b5a13f64",
   "metadata": {},
   "source": [
    "El funcionamiento del código anterior es el siguiente:\n",
    "\n",
    "- El `if` comprueba si la edad introducida es mayor a 40.\n",
    "- El `elif` comprueba si la edad se encuentra en el intervalo [16, 40]\n",
    "- El `else` implica que la edad introducida es menor a 16"
   ]
  },
  {
   "cell_type": "markdown",
   "id": "597e5268-e43a-4988-b7e5-b3f6e163155f",
   "metadata": {},
   "source": [
    "### Operador ternario\n",
    "\n",
    "Si queremos hacer un simple `if` / `else` en una sola línea de código, podemos utilizar el operador ternario, que tiene la siguiente estructura:"
   ]
  },
  {
   "cell_type": "code",
   "execution_count": null,
   "id": "33539796-9e3c-4df9-9177-da3a9c64f49b",
   "metadata": {},
   "outputs": [],
   "source": [
    "consecuencia_cierto if condición else consecuencia_falso"
   ]
  },
  {
   "cell_type": "markdown",
   "id": "2fc2af77-fb79-4637-9258-7d52f979cff1",
   "metadata": {},
   "source": [
    "Por ejemplo, hagamos el caso de mayor de edad. Si la edad es mayor o igual a 18, entonces es mayor de edad en España. Si no, entonces es menor de edad en España."
   ]
  },
  {
   "cell_type": "code",
   "execution_count": 14,
   "id": "43543761-c64e-4656-8cea-12afcd061428",
   "metadata": {},
   "outputs": [
    {
     "name": "stdout",
     "output_type": "stream",
     "text": [
      "Eres mayor de edad en España\n"
     ]
    }
   ],
   "source": [
    "age = 20\n",
    "texto_mayor = 'Eres mayor de edad en España'\n",
    "texto_menor = 'Eres menor de edad en España'\n",
    "\n",
    "print(texto_mayor) if age >= 18 else print(texto_menor)"
   ]
  },
  {
   "cell_type": "markdown",
   "id": "dee4e3f1-b8c7-4572-b541-18641154b72d",
   "metadata": {},
   "source": [
    "### Ejercicio 3\n",
    "\n",
    "Vamos a comprobar si un número es par o impar haciendo uso del operador ternario"
   ]
  },
  {
   "cell_type": "code",
   "execution_count": 19,
   "id": "70157782-2c03-4957-9f91-0f2291338a36",
   "metadata": {},
   "outputs": [
    {
     "name": "stdin",
     "output_type": "stream",
     "text": [
      "Introduce un número entero: 131\n"
     ]
    },
    {
     "name": "stdout",
     "output_type": "stream",
     "text": [
      "El número es impar\n"
     ]
    }
   ],
   "source": [
    "# A if condición else B\n",
    "\n",
    "n = int(input('Introduce un número entero:'))\n",
    "\n",
    "print('El número es par') if n % 2 == 0 else print('El número es impar')"
   ]
  },
  {
   "cell_type": "markdown",
   "id": "d4e648a8-2689-4b70-ac8e-1a0271f6c9e5",
   "metadata": {},
   "source": [
    "### Ejercicio 4\n",
    "\n",
    "Vamos a comprobar si un punto del plano euclidiano de la forma $(x, y)$ pertenece o no al cuadrado unidad.\n",
    "\n",
    "El cuadrado unidad es el que tiene por vértices los puntos $(0, 0)$, $(0, 1)$, $(1, 0)$ y $(1, 1)$"
   ]
  },
  {
   "cell_type": "code",
   "execution_count": 22,
   "id": "f6151e18-f0f0-4372-8c15-f27762de7f71",
   "metadata": {},
   "outputs": [
    {
     "name": "stdin",
     "output_type": "stream",
     "text": [
      "Introduce el valor x del vector: 1\n",
      "Introduce el valor y del vector: 0.5\n"
     ]
    },
    {
     "name": "stdout",
     "output_type": "stream",
     "text": [
      "El punto (1.0, 0.5) pertenec al cuadardo unidad\n"
     ]
    }
   ],
   "source": [
    "x = float(input('Introduce el valor x del vector:'))\n",
    "y = float(input('Introduce el valor y del vector:'))\n",
    "\n",
    "if x >= 0 and x <= 1 and y >= 0 and y <= 1:\n",
    "    print('El punto ({}, {}) pertenec al cuadardo unidad'.format(x, y))\n",
    "else:\n",
    "    print('El punto ({}, {}) no pertenece al cuadrado unidad'.format(x, y))"
   ]
  },
  {
   "cell_type": "markdown",
   "id": "a4107e55-70fb-4f36-a515-30a6c4a39106",
   "metadata": {},
   "source": [
    "### Operadores Anidados"
   ]
  },
  {
   "cell_type": "code",
   "execution_count": 24,
   "id": "4b1b1413-d0f4-4a31-a28e-bcc5803bb862",
   "metadata": {},
   "outputs": [
    {
     "name": "stdout",
     "output_type": "stream",
     "text": [
      "Eres mayor de edad pues tienes 20 años y tu nombre que es Martin, empieza por M\n"
     ]
    }
   ],
   "source": [
    "age = 20\n",
    "name = 'Martin'\n",
    "\n",
    "if age >= 18:\n",
    "    if name.startswith('M') or name.startswith('m'):\n",
    "        print('Eres mayor de edad pues tienes {} años y tu nombre que es {}, empieza por M'.format(age, name))\n",
    "    else:\n",
    "        print('Eres mayor de edad pues tienes {} años'.format(age))\n",
    "else:\n",
    "    print('Eres muy joven')"
   ]
  },
  {
   "cell_type": "markdown",
   "id": "1e0831a1-9d16-45ca-a0e0-9bf1ef2b3c8a",
   "metadata": {},
   "source": [
    "### Ejercicio 5\n",
    "\n",
    "Vamos a comprobar si un año es bisiesto o no.\n",
    "\n",
    "Un año es bisiesto si es divisible entre cuatro pero no es múltiplo de cien a no ser que lo sea de 400."
   ]
  },
  {
   "cell_type": "code",
   "execution_count": 29,
   "id": "36aa61b7-a7e5-4baf-917a-8e091313f17b",
   "metadata": {},
   "outputs": [
    {
     "name": "stdin",
     "output_type": "stream",
     "text": [
      "Introduce un año: 2016\n"
     ]
    },
    {
     "name": "stdout",
     "output_type": "stream",
     "text": [
      "El año 2016 es bisiesto\n"
     ]
    }
   ],
   "source": [
    "year = int(input('Introduce un año:'))\n",
    "\n",
    "if year % 4 == 0 and year % 100 != 0 and year % 400 != 0:\n",
    "    print('El año {} es bisiesto'.format(year))\n",
    "else:\n",
    "    print('El año {} NO es bisiesto'.format(year))"
   ]
  },
  {
   "cell_type": "markdown",
   "id": "21736aa3-5daa-4ea5-b394-82a63f43719b",
   "metadata": {},
   "source": [
    "## Tarea tema 4"
   ]
  },
  {
   "cell_type": "markdown",
   "id": "959df7cc-c3c6-451d-a9ff-4e81631cf5f2",
   "metadata": {},
   "source": [
    "#### Ejercicio 1 \n",
    "\n",
    "Haz que un usuario introduzca un número real y evalúa si dicho número es positivo, negativo o cero. Devuelve\n",
    "por pantalla el resultado en cada caso."
   ]
  },
  {
   "cell_type": "code",
   "execution_count": 33,
   "id": "152213f6-00d1-4010-95e3-0ed2dbdf8090",
   "metadata": {},
   "outputs": [
    {
     "name": "stdin",
     "output_type": "stream",
     "text": [
      "Introduce un número real: 1.3\n"
     ]
    },
    {
     "name": "stdout",
     "output_type": "stream",
     "text": [
      "1.3 es positivo\n"
     ]
    }
   ],
   "source": [
    "n = float(input('Introduce un número real:'))\n",
    "\n",
    "if n > 0:\n",
    "    print('{} es positivo'.format(n))\n",
    "elif n < 0:\n",
    "    print('{} es negativo'.format(n))\n",
    "else:\n",
    "    print('El número es 0')"
   ]
  },
  {
   "cell_type": "markdown",
   "id": "e95026e6-06bd-451e-be1d-038adc3f5352",
   "metadata": {},
   "source": [
    "#### Ejercicio 2\n",
    "\n",
    "Haz que un usuario introduzca su nombre y evalúa con operadores if y else si dicho nombre tiene una\n",
    "longitud mayor a 10 caracteres o no. Devuelve por pantalla el resultado en cada caso."
   ]
  },
  {
   "cell_type": "code",
   "execution_count": 37,
   "id": "c0adce63-cdff-4230-8728-a6e08655e1bf",
   "metadata": {},
   "outputs": [
    {
     "name": "stdin",
     "output_type": "stream",
     "text": [
      "Introduce tu nombre: Mario\n"
     ]
    },
    {
     "name": "stdout",
     "output_type": "stream",
     "text": [
      "Tu nombre NO tiene más de 10 caracteres\n"
     ]
    }
   ],
   "source": [
    "nombre = input('Introduce tu nombre:')\n",
    "\n",
    "if len(nombre) > 10:\n",
    "    print('Tu nombre tiene más de 10 caracteres')\n",
    "else:\n",
    "    print('Tu nombre NO tiene más de 10 caracteres')"
   ]
  },
  {
   "cell_type": "markdown",
   "id": "7c2b5113-34d0-404d-ac7a-250b41986229",
   "metadata": {},
   "source": [
    "#### Ejercicio 3\n",
    "\n",
    "Realiza el ejercicio anterior con el uso del operador ternario."
   ]
  },
  {
   "cell_type": "code",
   "execution_count": 68,
   "id": "0aca2ecb-f016-4ba6-a697-d462cc6948f7",
   "metadata": {},
   "outputs": [
    {
     "name": "stdin",
     "output_type": "stream",
     "text": [
      "Introduce tu nombre: Mario\n"
     ]
    },
    {
     "name": "stdout",
     "output_type": "stream",
     "text": [
      "Tu nombre NO tiene más de 10 caracteres\n"
     ]
    }
   ],
   "source": [
    "nombre = input('Introduce tu nombre:')\n",
    "\n",
    "print('Tu nombre tiene más de 10 caracteres') if len(nombre) > 10 else  print('Tu nombre NO tiene más de 10 caracteres')"
   ]
  },
  {
   "cell_type": "markdown",
   "id": "86ba1471-5106-472f-bda4-fa1167696a7c",
   "metadata": {},
   "source": [
    "#### Ejercicio 4\n",
    "\n",
    "Haz que un usuario introduzca dos números enteros positivos. Comprueba si el primer número introducido\n",
    "por el usuario es mayor o igual que el segundo número introducido por el usuario. Devuelve por pantalla el\n",
    "resultado en cada caso.\n",
    "PISTA: Asegúrate de hacer uso de la función int() donde pertoque."
   ]
  },
  {
   "cell_type": "code",
   "execution_count": 38,
   "id": "03ddca64-cb82-4d2b-a21e-c2e395176a27",
   "metadata": {},
   "outputs": [
    {
     "name": "stdin",
     "output_type": "stream",
     "text": [
      "Introduzca el primer número entero positivo: 2\n",
      "Introduzca el segundo número entero positivo: 1\n"
     ]
    },
    {
     "name": "stdout",
     "output_type": "stream",
     "text": [
      "2 es mayor o igual que 1\n"
     ]
    }
   ],
   "source": [
    "n_1 = int(input('Introduzca el primer número entero positivo:'))\n",
    "n_2 = int(input('Introduzca el segundo número entero positivo:'))\n",
    "\n",
    "if n_1 >= n_2:\n",
    "    print('{} es mayor o igual que {}'.format(n_1, n_2))\n",
    "else:\n",
    "    print('{} es menor que {}'.format(n_1, n_2))"
   ]
  },
  {
   "cell_type": "markdown",
   "id": "ebdab213-ebe8-4b53-9523-bf7b210433a4",
   "metadata": {},
   "source": [
    "#### Ejercicio 5\n",
    "\n",
    "Haz que un usuario introduzca dos números enteros positivos. Suponiendo que el primer número introducido\n",
    "por el usuario es mayor o igual al segundo número introducido por el usuario, comprueba que la división del\n",
    "primer número entre el segundo número es exacta.\n",
    "En caso de la división ser exacta, devuelve el cociente por pantalla e indica que la división en efecto es exacta.\n",
    "En caso de la división no ser exacta, devuelve el cociente y el resto por pantalla e indica que la división entre\n",
    "los dos números no es exacta"
   ]
  },
  {
   "cell_type": "code",
   "execution_count": 43,
   "id": "94076cf7-700b-4db3-9e41-24a392fbba5e",
   "metadata": {},
   "outputs": [
    {
     "name": "stdin",
     "output_type": "stream",
     "text": [
      "Introduzca el primer número entero positivo: 5\n",
      "Introduzca el segundo número entero positivo: 3\n"
     ]
    },
    {
     "name": "stdout",
     "output_type": "stream",
     "text": [
      "5 es mayor que 3, la división NO es exacta. El cociente y el resto de la división es: 1.6666666666666667 , 2\n"
     ]
    }
   ],
   "source": [
    "n_1 = int(input('Introduzca el primer número entero positivo:'))\n",
    "n_2 = int(input('Introduzca el segundo número entero positivo:'))\n",
    "\n",
    "if n_1 >= n_2:\n",
    "    if n_1 % n_2 == 0:\n",
    "        print('{} es mayor que {}, la división es exacta y el cociente es:'.format(n_1, n_2), n_1/n_2)\n",
    "    else:\n",
    "        print('{} es mayor que {} pero la división NO es exacta. El cociente y el resto de la división es:'.format(n_1, n_2), n_1/n_2, ',',n_1 % n_2)\n",
    "else:\n",
    "    print('{} es menor que {}'.format(n_1, n_2))"
   ]
  },
  {
   "cell_type": "markdown",
   "id": "3ab79d90-bc6d-4885-825a-fc7cd6da8b7b",
   "metadata": {},
   "source": [
    "#### Ejercicio 6\n",
    "\n",
    "Fusiona lo hecho en los ejercicios 4 y 5 para que\n",
    "\n",
    "1. Un usuario introduzca dos números enteros por pantalla.\n",
    "2. Comprobar si el primer número es mayor o igual al segundo número introducido por el usuario. Devolver\n",
    "por pantalla en que caso nos encontramos.\n",
    "3. Hacer la división entera pertinente en cada caso.\n",
    "4. Si la división es exacta, entonces devolver por pantalla el cociente e indicar que la división es exacta.\n",
    "Si la división no es exacta, entonces devolver por pantalla el cociente y el resto e indicar que la división\n",
    "realizada no es exacta."
   ]
  },
  {
   "cell_type": "code",
   "execution_count": 47,
   "id": "bd053eb9-de17-4a23-9f48-3ee58bb54cd7",
   "metadata": {},
   "outputs": [
    {
     "name": "stdin",
     "output_type": "stream",
     "text": [
      "Introduzca el primer número entero positivo: 4\n",
      "Introduzca el segundo número entero positivo: 2\n"
     ]
    },
    {
     "name": "stdout",
     "output_type": "stream",
     "text": [
      "4 es mayor o igual que 2\n",
      "La división es exacta y el cociente es: 2.0\n"
     ]
    }
   ],
   "source": [
    "n_1 = int(input('Introduzca el primer número entero positivo:'))\n",
    "n_2 = int(input('Introduzca el segundo número entero positivo:'))\n",
    "\n",
    "if n_1 >= n_2:\n",
    "    print('{} es mayor o igual que {}'.format(n_1, n_2))\n",
    "    if n_1 % n_2 == 0:\n",
    "        print('La división es exacta y el cociente es:'.format(n_1, n_2), n_1/n_2)\n",
    "    else:\n",
    "        print('La división NO es exacta. El cociente y el resto de la división es:'.format(n_1, n_2), n_1/n_2, ',',n_1 % n_2)\n",
    "else:\n",
    "    print('{} es menor que {}'.format(n_1, n_2))"
   ]
  },
  {
   "cell_type": "markdown",
   "id": "f23c5ca9-37ad-4fdb-bd8d-ca87b207b09b",
   "metadata": {},
   "source": [
    "#### Ejercicio 7\n",
    "\n",
    "Haz que un usuario introduzca dos números enteros positivos. Comprueba si el mayor es múltiplo del menor.\n",
    "Devuelve por pantalla el resultado en cada caso."
   ]
  },
  {
   "cell_type": "code",
   "execution_count": 51,
   "id": "c234d221-9793-4b3c-8707-bfa0863c7a5b",
   "metadata": {},
   "outputs": [
    {
     "name": "stdin",
     "output_type": "stream",
     "text": [
      "Introduzca el primer número entero positivo: 6\n",
      "Introduzca el segundo número entero positivo: 2\n"
     ]
    },
    {
     "name": "stdout",
     "output_type": "stream",
     "text": [
      "6 es múltiplo de 2\n"
     ]
    }
   ],
   "source": [
    "n_1 = int(input('Introduzca el primer número entero positivo:'))\n",
    "n_2 = int(input('Introduzca el segundo número entero positivo:'))\n",
    "\n",
    "if n_2 > n_1 and n_2 % n_1 == 0:\n",
    "    print('{} es múltiplo de {}'.format(n_2, n_1))\n",
    "elif n_2 < n_1 and n_1 % n_2 == 0:\n",
    "    print('{} es múltiplo de {}'.format(n_1, n_2))\n",
    "else:\n",
    "    print('Los núemros no son múltiplos')\n",
    "    "
   ]
  },
  {
   "cell_type": "markdown",
   "id": "57670f28-18ad-4256-94a2-9eb8919e19d7",
   "metadata": {},
   "source": [
    "#### Ejercicio 8\n",
    "\n",
    "Haz que un usuario introduzca una palabra y comprueba si dicha palabra empieza por mayúscula. Devuelve\n",
    "por pantalla el resultado en cada caso.\n"
   ]
  },
  {
   "cell_type": "code",
   "execution_count": 54,
   "id": "71cf99dd-a9d0-4227-a541-2c32cc645910",
   "metadata": {},
   "outputs": [
    {
     "name": "stdin",
     "output_type": "stream",
     "text": [
      "Introduzca una palabra: Hola\n"
     ]
    },
    {
     "name": "stdout",
     "output_type": "stream",
     "text": [
      "Hola empieza por mayúscula\n"
     ]
    }
   ],
   "source": [
    "word = str(input('Introduzca una palabra:'))\n",
    "\n",
    "if word.istitle():\n",
    "    print('{} empieza por mayúscula'.format(word))\n",
    "else:\n",
    "    print('{} NO empieza por mayúscula'.format(word))"
   ]
  },
  {
   "cell_type": "markdown",
   "id": "bc617aa3-f6b3-41ba-a434-754cced7dbfc",
   "metadata": {},
   "source": [
    "#### Ejercicio 9\n",
    "\n",
    "Haz un usuario introduza una letra y comprueba si se trata de una vocal. Si el usuario introduce un string\n",
    "de más de un carácter, infórmale de que no se puede procesar el dato, pues debe tener como máximo tamaño\n",
    "1.\n",
    "PISTA: Convierte la letra introducida a minúsculas para tener que realizar menos comprobaciones\n"
   ]
  },
  {
   "cell_type": "code",
   "execution_count": 62,
   "id": "301dda90-54bf-486e-ac45-8e2372b8e055",
   "metadata": {},
   "outputs": [
    {
     "name": "stdin",
     "output_type": "stream",
     "text": [
      "Introduzca una letra: i\n"
     ]
    },
    {
     "name": "stdout",
     "output_type": "stream",
     "text": [
      "i es una vocal\n"
     ]
    }
   ],
   "source": [
    "l = str(input('Introduzca una letra:')).lower()\n",
    "\n",
    "if len(l) == 1:\n",
    "    if l == 'a' or l == 'e' or l == 'i' or l == 'o' or l == 'u':\n",
    "        print('{} es una vocal'.format(l))\n",
    "    else:\n",
    "        print('{} NO es una vocal'.format(l))    \n",
    "else:\n",
    "    print('ERROR: Ha introducido más de un carácter')"
   ]
  },
  {
   "attachments": {
    "f531addc-5f96-4cb1-b4e9-ac1b86afc0b0.PNG": {
     "image/png": "[encoded data removed]"
    }
   },
   "cell_type": "markdown",
   "id": "e03edfec-223f-4d53-8c9a-b8ba92b0026c",
   "metadata": {},
   "source": [
    "#### Ejercicio 10\n",
    "\n",
    "![Captura.PNG](attachment:f531addc-5f96-4cb1-b4e9-ac1b86afc0b0.PNG)"
   ]
  },
  {
   "cell_type": "code",
   "execution_count": 67,
   "id": "edd27bd3-4ec0-4acf-b216-d3ddf8322d77",
   "metadata": {},
   "outputs": [
    {
     "name": "stdin",
     "output_type": "stream",
     "text": [
      "Introduzca el valor de a: 1\n",
      "Introduzca el valor de b: 7\n",
      "Introduzca el valor de c: 2\n"
     ]
    },
    {
     "name": "stdout",
     "output_type": "stream",
     "text": [
      "Las soluciones a la ecuación son:-0.29843788128357573, -6.701562118716424\n"
     ]
    }
   ],
   "source": [
    "import math\n",
    "\n",
    "a = float(input('Introduzca el valor de a:'))\n",
    "b = float(input('Introduzca el valor de b:'))\n",
    "c = float(input('Introduzca el valor de c:'))\n",
    "\n",
    "if a != 0:\n",
    "    x_1 = (-b + math.sqrt(b**2 -4*a*c))/2*a\n",
    "    x_2 = (-b - math.sqrt(b**2 -4*a*c))/2*a\n",
    "    print('Las soluciones a la ecuación son:{}, {}'.format(x_1, x_2))\n",
    "else:\n",
    "    print('La ecuación no tiene solución ya que a = 0')"
   ]
  }
 ],
 "metadata": {
  "kernelspec": {
   "display_name": "Python 3 (ipykernel)",
   "language": "python",
   "name": "python3"
  },
  "language_info": {
   "codemirror_mode": {
    "name": "ipython",
    "version": 3
   },
   "file_extension": ".py",
   "mimetype": "text/x-python",
   "name": "python",
   "nbconvert_exporter": "python",
   "pygments_lexer": "ipython3",
   "version": "3.8.12"
  }
 },
 "nbformat": 4,
 "nbformat_minor": 5
}
