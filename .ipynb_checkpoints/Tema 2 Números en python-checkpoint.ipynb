{
 "cells": [
  {
   "cell_type": "markdown",
   "id": "dd805760-c9fe-48e9-9ea2-353a5cd6be91",
   "metadata": {},
   "source": [
    "# Tema 2 - Números en Python"
   ]
  },
  {
   "cell_type": "markdown",
   "id": "0df2df4a-170c-47b4-b8d9-15a50d1ca894",
   "metadata": {},
   "source": [
    "## Tipos de números\n",
    "\n",
    "- int: número entero\n",
    "- float: número en coma flotante\n",
    "\n",
    "Para saber el tipo de datos utilizaremos type()"
   ]
  },
  {
   "cell_type": "code",
   "execution_count": 2,
   "id": "d32ba488-33ee-4ee0-a891-291340874bac",
   "metadata": {},
   "outputs": [
    {
     "data": {
      "text/plain": [
       "int"
      ]
     },
     "execution_count": 2,
     "metadata": {},
     "output_type": "execute_result"
    }
   ],
   "source": [
    "type(5)"
   ]
  },
  {
   "cell_type": "code",
   "execution_count": 3,
   "id": "293a1acf-b684-41ba-854c-e250a78610cb",
   "metadata": {},
   "outputs": [
    {
     "data": {
      "text/plain": [
       "float"
      ]
     },
     "execution_count": 3,
     "metadata": {},
     "output_type": "execute_result"
    }
   ],
   "source": [
    "type(5.5)"
   ]
  },
  {
   "cell_type": "code",
   "execution_count": 4,
   "id": "8b3f7f8e-6495-4295-a989-1c60f69c3b42",
   "metadata": {},
   "outputs": [
    {
     "data": {
      "text/plain": [
       "(float, float)"
      ]
     },
     "execution_count": 4,
     "metadata": {},
     "output_type": "execute_result"
    }
   ],
   "source": [
    "type(3.0), type(3.)"
   ]
  },
  {
   "cell_type": "markdown",
   "id": "78686996-2095-4928-be3c-df0f800350f3",
   "metadata": {},
   "source": [
    "## Transfrmación de un datos en otro"
   ]
  },
  {
   "cell_type": "code",
   "execution_count": 6,
   "id": "ef4ca514-c01e-4b36-acc7-a8e0ab2a50c2",
   "metadata": {},
   "outputs": [
    {
     "data": {
      "text/plain": [
       "int"
      ]
     },
     "execution_count": 6,
     "metadata": {},
     "output_type": "execute_result"
    }
   ],
   "source": [
    "type(int(7.0))"
   ]
  },
  {
   "cell_type": "code",
   "execution_count": 7,
   "id": "bbbbe28a-053a-40f0-9f1c-6923d132ac25",
   "metadata": {},
   "outputs": [
    {
     "data": {
      "text/plain": [
       "int"
      ]
     },
     "execution_count": 7,
     "metadata": {},
     "output_type": "execute_result"
    }
   ],
   "source": [
    "type(int(9.))"
   ]
  },
  {
   "cell_type": "code",
   "execution_count": 8,
   "id": "1dd8eab8-6eb3-4172-975b-1917ec573e55",
   "metadata": {},
   "outputs": [
    {
     "data": {
      "text/plain": [
       "float"
      ]
     },
     "execution_count": 8,
     "metadata": {},
     "output_type": "execute_result"
    }
   ],
   "source": [
    "type(float(3))"
   ]
  },
  {
   "cell_type": "code",
   "execution_count": 9,
   "id": "df343250-76a9-43ac-a3d7-ee27bb416af6",
   "metadata": {},
   "outputs": [
    {
     "data": {
      "text/plain": [
       "3"
      ]
     },
     "execution_count": 9,
     "metadata": {},
     "output_type": "execute_result"
    }
   ],
   "source": [
    "int(3.5) # Perdmeos la parte decimal"
   ]
  },
  {
   "cell_type": "code",
   "execution_count": 10,
   "id": "fdddcadd-77cd-4035-ab7c-944df469f844",
   "metadata": {},
   "outputs": [
    {
     "data": {
      "text/plain": [
       "-8"
      ]
     },
     "execution_count": 10,
     "metadata": {},
     "output_type": "execute_result"
    }
   ],
   "source": [
    "int(-8.6)"
   ]
  },
  {
   "cell_type": "markdown",
   "id": "dcc46718-fc02-4396-a4a1-aa38b617aefa",
   "metadata": {},
   "source": [
    "## Operaciones aritméticas"
   ]
  },
  {
   "cell_type": "markdown",
   "id": "427c9490-1cfc-4ba3-ad98-23e32d3fd413",
   "metadata": {},
   "source": [
    "#### Suma"
   ]
  },
  {
   "cell_type": "code",
   "execution_count": 13,
   "id": "711473de-fbd4-41c9-885b-934a0bc5d42f",
   "metadata": {},
   "outputs": [
    {
     "data": {
      "text/plain": [
       "3"
      ]
     },
     "execution_count": 13,
     "metadata": {},
     "output_type": "execute_result"
    }
   ],
   "source": [
    "2 + 1 # Da de resultado un int"
   ]
  },
  {
   "cell_type": "code",
   "execution_count": 14,
   "id": "e42ba560-4f08-45af-b282-1b4aae6d426a",
   "metadata": {},
   "outputs": [
    {
     "data": {
      "text/plain": [
       "3.0"
      ]
     },
     "execution_count": 14,
     "metadata": {},
     "output_type": "execute_result"
    }
   ],
   "source": [
    "2.0 + 1.0 # Da un float"
   ]
  },
  {
   "cell_type": "code",
   "execution_count": 15,
   "id": "bc51636d-3668-45a8-bb2b-215285d2a1d1",
   "metadata": {},
   "outputs": [
    {
     "data": {
      "text/plain": [
       "5.0"
      ]
     },
     "execution_count": 15,
     "metadata": {},
     "output_type": "execute_result"
    }
   ],
   "source": [
    "2 + 3.0 # Da un float"
   ]
  },
  {
   "cell_type": "markdown",
   "id": "174abc49-2a5d-4285-bba0-1eebcd524def",
   "metadata": {},
   "source": [
    "#### Resta"
   ]
  },
  {
   "cell_type": "code",
   "execution_count": 16,
   "id": "29978be0-efcc-4484-84e6-231fe99db353",
   "metadata": {},
   "outputs": [
    {
     "data": {
      "text/plain": [
       "4"
      ]
     },
     "execution_count": 16,
     "metadata": {},
     "output_type": "execute_result"
    }
   ],
   "source": [
    "7 - 3"
   ]
  },
  {
   "cell_type": "code",
   "execution_count": 17,
   "id": "41bd7f11-a9ed-4e87-b6c5-c1ff03df8c08",
   "metadata": {},
   "outputs": [
    {
     "data": {
      "text/plain": [
       "3.0"
      ]
     },
     "execution_count": 17,
     "metadata": {},
     "output_type": "execute_result"
    }
   ],
   "source": [
    "7.0 - 4.0"
   ]
  },
  {
   "cell_type": "markdown",
   "id": "3d3a395b-da3a-4a18-b404-37848b522e0f",
   "metadata": {},
   "source": [
    "#### Producto"
   ]
  },
  {
   "cell_type": "code",
   "execution_count": 18,
   "id": "3b96972e-efa5-4860-95ad-1ad0354abc8c",
   "metadata": {},
   "outputs": [
    {
     "data": {
      "text/plain": [
       "108"
      ]
     },
     "execution_count": 18,
     "metadata": {},
     "output_type": "execute_result"
    }
   ],
   "source": [
    "18 * 6"
   ]
  },
  {
   "cell_type": "code",
   "execution_count": 19,
   "id": "03d595cc-a7cd-4245-9ad9-1652c6fa6c00",
   "metadata": {},
   "outputs": [
    {
     "data": {
      "text/plain": [
       "54.900000000000006"
      ]
     },
     "execution_count": 19,
     "metadata": {},
     "output_type": "execute_result"
    }
   ],
   "source": [
    "18.3 * 3"
   ]
  },
  {
   "cell_type": "markdown",
   "id": "5a227443-2385-4e6d-be3f-62356ad441c9",
   "metadata": {},
   "source": [
    "#### División"
   ]
  },
  {
   "cell_type": "code",
   "execution_count": 20,
   "id": "8c8e8fcf-d053-4d4d-9442-d5b03b5fc53b",
   "metadata": {},
   "outputs": [
    {
     "data": {
      "text/plain": [
       "1.2"
      ]
     },
     "execution_count": 20,
     "metadata": {},
     "output_type": "execute_result"
    }
   ],
   "source": [
    "6/5"
   ]
  },
  {
   "cell_type": "code",
   "execution_count": 21,
   "id": "25325ad6-39b5-40c8-a48f-31f918008748",
   "metadata": {},
   "outputs": [
    {
     "data": {
      "text/plain": [
       "1.0"
      ]
     },
     "execution_count": 21,
     "metadata": {},
     "output_type": "execute_result"
    }
   ],
   "source": [
    "6/6"
   ]
  },
  {
   "cell_type": "markdown",
   "id": "0730e814-fa05-4e98-a220-66895c180cfd",
   "metadata": {},
   "source": [
    "Cualquier división va a dar de resultado un float"
   ]
  },
  {
   "cell_type": "markdown",
   "id": "0b034ee4-59c5-4417-b9c5-ef16394cc70b",
   "metadata": {},
   "source": [
    "#### División entera (cociente)"
   ]
  },
  {
   "cell_type": "code",
   "execution_count": 23,
   "id": "f035d281-c9b3-4ded-85e6-54ebb6774366",
   "metadata": {},
   "outputs": [
    {
     "data": {
      "text/plain": [
       "1"
      ]
     },
     "execution_count": 23,
     "metadata": {},
     "output_type": "execute_result"
    }
   ],
   "source": [
    "4//3 # Elimina la parte decimal"
   ]
  },
  {
   "cell_type": "code",
   "execution_count": 24,
   "id": "64741fcc-4711-4c8e-bd23-5330be63f484",
   "metadata": {},
   "outputs": [
    {
     "data": {
      "text/plain": [
       "2.0"
      ]
     },
     "execution_count": 24,
     "metadata": {},
     "output_type": "execute_result"
    }
   ],
   "source": [
    "4.3//2.1 # Elimina la parte decimal pero al dividir 2 floats nos devuleve un float "
   ]
  },
  {
   "cell_type": "markdown",
   "id": "5938d077-91df-4ff9-bf87-677bd4e98266",
   "metadata": {},
   "source": [
    "#### División entera (resto)"
   ]
  },
  {
   "cell_type": "code",
   "execution_count": 26,
   "id": "dfd36ab8-2ebc-49b9-a7c5-10d94979b314",
   "metadata": {},
   "outputs": [
    {
     "data": {
      "text/plain": [
       "1"
      ]
     },
     "execution_count": 26,
     "metadata": {},
     "output_type": "execute_result"
    }
   ],
   "source": [
    "10 % 3 # Nos da el resto de la división"
   ]
  },
  {
   "cell_type": "markdown",
   "id": "08c6653d-0a9f-40de-928e-0f1268346e6e",
   "metadata": {},
   "source": [
    "#### Potencia"
   ]
  },
  {
   "cell_type": "code",
   "execution_count": 28,
   "id": "33b731ca-550e-4dbb-825f-d9d60025b46e",
   "metadata": {},
   "outputs": [
    {
     "data": {
      "text/plain": [
       "3375"
      ]
     },
     "execution_count": 28,
     "metadata": {},
     "output_type": "execute_result"
    }
   ],
   "source": [
    "15 ** 3"
   ]
  },
  {
   "cell_type": "code",
   "execution_count": 29,
   "id": "4bd0ec06-75f2-4002-9961-104829bf5e40",
   "metadata": {},
   "outputs": [
    {
     "data": {
      "text/plain": [
       "4"
      ]
     },
     "execution_count": 29,
     "metadata": {},
     "output_type": "execute_result"
    }
   ],
   "source": [
    "2 ** 2"
   ]
  },
  {
   "cell_type": "markdown",
   "id": "824b9bf3-2fe8-4597-8b03-0a7463342bb5",
   "metadata": {},
   "source": [
    "Para calcular la potencia n-ésima de un número, también podemos usar la función pow()"
   ]
  },
  {
   "cell_type": "code",
   "execution_count": 30,
   "id": "d7b921c0-3b56-47a8-8b7d-07143f8d210e",
   "metadata": {},
   "outputs": [
    {
     "data": {
      "text/plain": [
       "125"
      ]
     },
     "execution_count": 30,
     "metadata": {},
     "output_type": "execute_result"
    }
   ],
   "source": [
    "pow(5,3) # Sería 5 ** 3"
   ]
  },
  {
   "cell_type": "markdown",
   "id": "4d196755-3556-4a8c-b1ef-f502082fc6b6",
   "metadata": {},
   "source": [
    "## Orden de las operaciones aritméticas\n",
    "\n",
    "- Primero paréntesis y corchetes\n",
    "- Segundo potencias\n",
    "- Tercero, productos y divisiones\n",
    "- Finalmente, sumas y restas"
   ]
  },
  {
   "cell_type": "code",
   "execution_count": 32,
   "id": "6c7118d0-25de-47c0-826a-da6c8e7f4fda",
   "metadata": {},
   "outputs": [
    {
     "data": {
      "text/plain": [
       "2.0"
      ]
     },
     "execution_count": 32,
     "metadata": {},
     "output_type": "execute_result"
    }
   ],
   "source": [
    "6 + 2 * 8 / 4 - 2 ** 3"
   ]
  },
  {
   "cell_type": "code",
   "execution_count": 33,
   "id": "e22d9af4-f4ab-4fd2-a9a8-4fced0b63329",
   "metadata": {},
   "outputs": [
    {
     "data": {
      "text/plain": [
       "512.0"
      ]
     },
     "execution_count": 33,
     "metadata": {},
     "output_type": "execute_result"
    }
   ],
   "source": [
    "(6 + 2) * (8 / (4 - 2)) ** 3"
   ]
  },
  {
   "cell_type": "code",
   "execution_count": 34,
   "id": "53d39f25-f2e7-4ea6-84a8-f35486616f1b",
   "metadata": {},
   "outputs": [
    {
     "data": {
      "text/plain": [
       "8.0"
      ]
     },
     "execution_count": 34,
     "metadata": {},
     "output_type": "execute_result"
    }
   ],
   "source": [
    "(6 + 2) * 8 / (4 - 2) ** 3"
   ]
  },
  {
   "cell_type": "markdown",
   "id": "123e1a21-5ff9-4817-ba5e-a7b479d999a5",
   "metadata": {},
   "source": [
    "## Números complejos"
   ]
  },
  {
   "cell_type": "markdown",
   "id": "73581551-ba27-409f-91e9-3316cf0828d3",
   "metadata": {},
   "source": [
    "### Definiciones\n",
    "\n",
    "- **Número complejo.** Es un par ordenado de números reales $z = (a, b)$, con $a,b\\in\\mathbb{R}$.\n",
    "- **Parte real.** Es el primer elemento del par ordenado, $\\text{Re}(z) = a$.\n",
    "- **Parte imaginaria.** Es el segundo elemento del par ordenado, $\\text{Im}(z) = b$.\n",
    "- **Complejo real.** $z = (a, 0)$.\n",
    "- **Imaginario puro.** $z = (0, b)$.\n",
    "- **Unidad imaginaria.** $i = (0, 1)$.\n",
    "- **Conjunto de números complejos.** $\\mathbb{C} = \\{z = (a,b)\\ :\\ a,b\\in\\mathbb{R}\\}$.\n"
   ]
  },
  {
   "cell_type": "markdown",
   "id": "29f2433e-dbb2-4cbe-ba9f-c869ecb6a110",
   "metadata": {},
   "source": [
    "### Operaciones\n",
    "\n",
    "- Suma: $(a, b) + (c, d) = (a + c, b + d)$\n",
    "- Resta: $(a, b) - (c, d) = (a - c, b - d)$\n",
    "- Producto: $(a, b) \\cdot (c, d) = (a \\cdot c - b \\cdot d, a\\cdot d + b\\cdot c)$\n",
    "- División: $(a, b) \\div (c, d) = \\frac{(a \\cdot c + b \\cdot d, b \\cdot c - a \\cdot d)}{c^2 + d^2} = \\left(\\frac{a \\cdot c + b \\cdot d}{c^2 + d^2},\\frac{b \\cdot c - a \\cdot d}{c^2 + d^2}\\right)$"
   ]
  },
  {
   "cell_type": "markdown",
   "id": "93ebedfb-dcc8-4ee4-9916-3ef7fe69439e",
   "metadata": {},
   "source": [
    "### Conjugado, Módulo y Argumento\n",
    "\n",
    "Dado un complejo $z = (a,b)$,\n",
    "\n",
    "- **Conjugado.** $\\bar{z} = (a, -b)$.\n",
    "- **Módulo.** $\\text{Mod}(z) = |z| = \\sqrt{\\text{Re}(z)^2 + \\text{Im}(z)^2} = \\sqrt{a^2 + b^2}$.\n",
    "- **Argumento.** $\\text{Arg}(z) = \\arctan\\left(\\frac{\\text{Im}(z)}{\\text{Re}(z)}\\right) = \\arctan\\left(\\frac{b}{a}\\right)$"
   ]
  },
  {
   "cell_type": "markdown",
   "id": "4fce6944-4c00-4247-ab44-22e24421602a",
   "metadata": {},
   "source": [
    "### Unidad imaginaria\n",
    "\n",
    "$i = (0, 1)$ satisface\n",
    "\n",
    "$$i^2 = (0, 1)^2 = (0, 1)\\cdot (0, 1) = (-1, 0)$$\n",
    "\n",
    "De aquí obtenemos la igualdad $i = \\sqrt{-1}$, que es otra de las definiciones que se le da a la unidad imaginaria.\n",
    "\n"
   ]
  },
  {
   "cell_type": "markdown",
   "id": "f544bb10-7186-4dfb-baf3-a45368196112",
   "metadata": {},
   "source": [
    "### Otras representaciones\n",
    "\n",
    "Representación binómica: $z = a + bi$\n",
    "\n",
    "- $a = \\text{Re}(z)$\n",
    "- $b = \\text{Im}(z)$\n",
    "\n",
    "Representación polar: $z = re^{i\\phi}$\n",
    "\n",
    "- $r = \\text{Mod}(z)$\n",
    "- $\\phi = \\text{Arg}(z)$"
   ]
  },
  {
   "cell_type": "markdown",
   "id": "456c5073-faec-4691-9968-dc8da727b718",
   "metadata": {},
   "source": [
    "**Observación.** En `Python`, los números complejos se definen en forma binómica y en vez de utilizar una `i`, se utiliza la letra `j` para representar la unidad imaginaria."
   ]
  },
  {
   "cell_type": "code",
   "execution_count": 35,
   "id": "f31b59e4-8b14-470c-8423-e48d391ade7a",
   "metadata": {},
   "outputs": [
    {
     "data": {
      "text/plain": [
       "(2+5j)"
      ]
     },
     "execution_count": 35,
     "metadata": {},
     "output_type": "execute_result"
    }
   ],
   "source": [
    "z = 2 + 5j\n",
    "\n",
    "z"
   ]
  },
  {
   "cell_type": "code",
   "execution_count": 36,
   "id": "982c0188-4c17-41ee-87d5-95f12fba0b28",
   "metadata": {},
   "outputs": [
    {
     "data": {
      "text/plain": [
       "complex"
      ]
     },
     "execution_count": 36,
     "metadata": {},
     "output_type": "execute_result"
    }
   ],
   "source": [
    "type(z)"
   ]
  },
  {
   "cell_type": "code",
   "execution_count": 38,
   "id": "0eeea918-e621-4585-b8de-3a050be02c54",
   "metadata": {},
   "outputs": [
    {
     "data": {
      "text/plain": [
       "(1-7j)"
      ]
     },
     "execution_count": 38,
     "metadata": {},
     "output_type": "execute_result"
    }
   ],
   "source": [
    "z = complex(1, -7)\n",
    "\n",
    "z"
   ]
  },
  {
   "cell_type": "code",
   "execution_count": 39,
   "id": "78abfe4d-7b5c-437c-ae83-c9de4a815357",
   "metadata": {},
   "outputs": [
    {
     "data": {
      "text/plain": [
       "complex"
      ]
     },
     "execution_count": 39,
     "metadata": {},
     "output_type": "execute_result"
    }
   ],
   "source": [
    "type(z)"
   ]
  },
  {
   "cell_type": "markdown",
   "id": "0eb37256-3967-4362-9c97-6c223e6fbf7c",
   "metadata": {},
   "source": [
    "Para obtener la parte real, utilizamos el método `.real`"
   ]
  },
  {
   "cell_type": "code",
   "execution_count": 40,
   "id": "5e7d7ba0-33a2-4c1b-877a-d7948087ff57",
   "metadata": {},
   "outputs": [
    {
     "data": {
      "text/plain": [
       "1.0"
      ]
     },
     "execution_count": 40,
     "metadata": {},
     "output_type": "execute_result"
    }
   ],
   "source": [
    "z.real"
   ]
  },
  {
   "cell_type": "code",
   "execution_count": 41,
   "id": "112fed07-9e9c-4ea4-8d7e-27dd57d82b21",
   "metadata": {},
   "outputs": [
    {
     "data": {
      "text/plain": [
       "-7.0"
      ]
     },
     "execution_count": 41,
     "metadata": {},
     "output_type": "execute_result"
    }
   ],
   "source": [
    "z.imag"
   ]
  },
  {
   "cell_type": "markdown",
   "id": "9662caf3-e403-4707-8f26-80a6ab764586",
   "metadata": {},
   "source": [
    "Para sumar los números complejos utilizamos `+`"
   ]
  },
  {
   "cell_type": "code",
   "execution_count": 42,
   "id": "75dec313-fa4b-4a2b-adf8-4ca00ef2b675",
   "metadata": {},
   "outputs": [
    {
     "data": {
      "text/plain": [
       "(7-2j)"
      ]
     },
     "execution_count": 42,
     "metadata": {},
     "output_type": "execute_result"
    }
   ],
   "source": [
    "z1 = 2 - 6j\n",
    "z2 = 5 + 4j\n",
    "\n",
    "z1 + z2"
   ]
  },
  {
   "cell_type": "markdown",
   "id": "801b00f5-b8c9-4522-9f9e-c2ce2f22b438",
   "metadata": {},
   "source": [
    "Para restar números complejos utilizamos `-`"
   ]
  },
  {
   "cell_type": "code",
   "execution_count": 43,
   "id": "108893bd-5b3a-4efa-acfb-29042463c04e",
   "metadata": {},
   "outputs": [
    {
     "data": {
      "text/plain": [
       "(-3-10j)"
      ]
     },
     "execution_count": 43,
     "metadata": {},
     "output_type": "execute_result"
    }
   ],
   "source": [
    "z1 - z2"
   ]
  },
  {
   "cell_type": "markdown",
   "id": "f809c9b1-6106-4575-9c4d-9852c01fefaf",
   "metadata": {},
   "source": [
    "Para multiplicar números complejos utilizamos `*`"
   ]
  },
  {
   "cell_type": "code",
   "execution_count": 45,
   "id": "8d158be1-e2cb-457a-9465-635e61891c41",
   "metadata": {},
   "outputs": [
    {
     "data": {
      "text/plain": [
       "(-2+6j)"
      ]
     },
     "execution_count": 45,
     "metadata": {},
     "output_type": "execute_result"
    }
   ],
   "source": [
    "-1 * z1"
   ]
  },
  {
   "cell_type": "code",
   "execution_count": 46,
   "id": "ffaf7e68-d895-421f-93e8-b957fd0795c7",
   "metadata": {},
   "outputs": [
    {
     "data": {
      "text/plain": [
       "(34-22j)"
      ]
     },
     "execution_count": 46,
     "metadata": {},
     "output_type": "execute_result"
    }
   ],
   "source": [
    "z1 * z2"
   ]
  },
  {
   "cell_type": "markdown",
   "id": "80c16e27-7475-4b74-8057-4a7a5603539c",
   "metadata": {},
   "source": [
    "Para dividir números complejos utilizamos `/`"
   ]
  },
  {
   "cell_type": "code",
   "execution_count": 47,
   "id": "3a738422-5402-4fb5-a0ce-fff479dc35eb",
   "metadata": {},
   "outputs": [
    {
     "data": {
      "text/plain": [
       "-1j"
      ]
     },
     "execution_count": 47,
     "metadata": {},
     "output_type": "execute_result"
    }
   ],
   "source": [
    "z1 = -1 -1j\n",
    "z2 = 1 -1j\n",
    "\n",
    "z1/z2"
   ]
  },
  {
   "cell_type": "markdown",
   "id": "5beae9a5-aef3-4a45-934e-d9f243698c93",
   "metadata": {},
   "source": [
    "**Observación.** Si queremos indicar que la parte imaginaria es 1 o -1, no basta con poner `j` o `-j`, sino que hay que escribir `1j` o `-1j`, siempre que definamos el número complejo en su forma binómica.\n",
    "\n",
    "Para calcular el conjugado de un número complejo, utilizamos el método `.conjugate()`"
   ]
  },
  {
   "cell_type": "code",
   "execution_count": 48,
   "id": "31e00076-a74a-42da-8aaa-dbdb2c0f2195",
   "metadata": {},
   "outputs": [
    {
     "data": {
      "text/plain": [
       "(-2-1j)"
      ]
     },
     "execution_count": 48,
     "metadata": {},
     "output_type": "execute_result"
    }
   ],
   "source": [
    "z = -2 + 1j\n",
    "z.conjugate()"
   ]
  },
  {
   "cell_type": "markdown",
   "id": "32c32aff-6cb7-44f4-be8b-3d07b3cf4372",
   "metadata": {},
   "source": [
    "Para calcular el módulo de un número complejo, utilizamos la función `abs()`"
   ]
  },
  {
   "cell_type": "code",
   "execution_count": 49,
   "id": "6ffaec50-487b-4996-adac-0139db70fbfa",
   "metadata": {},
   "outputs": [
    {
     "data": {
      "text/plain": [
       "2.0"
      ]
     },
     "execution_count": 49,
     "metadata": {},
     "output_type": "execute_result"
    }
   ],
   "source": [
    "z = -2j\n",
    "abs(z)"
   ]
  },
  {
   "cell_type": "markdown",
   "id": "1cda7488-454e-43f4-8939-f91e04592707",
   "metadata": {},
   "source": [
    "Para calcular el argumento de un número complejo, utilizamos la función `phase()` del paquete `cmath`."
   ]
  },
  {
   "cell_type": "code",
   "execution_count": 52,
   "id": "9d3cdc1c-0191-41f2-bdb6-e0a3922ad1f1",
   "metadata": {},
   "outputs": [
    {
     "data": {
      "text/plain": [
       "-1.5707963267948966"
      ]
     },
     "execution_count": 52,
     "metadata": {},
     "output_type": "execute_result"
    }
   ],
   "source": [
    "import cmath\n",
    "cmath.phase(z)"
   ]
  },
  {
   "cell_type": "markdown",
   "id": "bdb6346b-ea3e-44df-be0f-522fee4813c3",
   "metadata": {},
   "source": [
    "Para pasar de forma binómica a forma polar, usamos la función `polar()` del paquete `cmath`."
   ]
  },
  {
   "cell_type": "code",
   "execution_count": 55,
   "id": "8a1e6c5a-4da4-4f7b-a8c2-1ec3a4d42324",
   "metadata": {
    "tags": []
   },
   "outputs": [
    {
     "data": {
      "text/plain": [
       "(-0-2j)"
      ]
     },
     "execution_count": 55,
     "metadata": {},
     "output_type": "execute_result"
    }
   ],
   "source": [
    "z"
   ]
  },
  {
   "cell_type": "code",
   "execution_count": 53,
   "id": "3bb2bcb2-da4e-4955-8f8b-32536bd60957",
   "metadata": {},
   "outputs": [
    {
     "data": {
      "text/plain": [
       "(2.0, -1.5707963267948966)"
      ]
     },
     "execution_count": 53,
     "metadata": {},
     "output_type": "execute_result"
    }
   ],
   "source": [
    "cmath.polar(z)"
   ]
  },
  {
   "cell_type": "markdown",
   "id": "4a573444-1a32-4134-87f2-0b4277212bf7",
   "metadata": {},
   "source": [
    "Para pasar de forma polar a forma binómica, usamos la función `rect()` del paquete `cmath`."
   ]
  },
  {
   "cell_type": "code",
   "execution_count": 54,
   "id": "117d2467-168b-4331-94de-58e8d9e2146e",
   "metadata": {},
   "outputs": [
    {
     "data": {
      "text/plain": [
       "(1.2246467991473532e-16-2j)"
      ]
     },
     "execution_count": 54,
     "metadata": {},
     "output_type": "execute_result"
    }
   ],
   "source": [
    "cmath.rect(abs(z), cmath.phase(z))"
   ]
  },
  {
   "cell_type": "markdown",
   "id": "e3123165-3542-46ab-a73a-fab687d4777c",
   "metadata": {},
   "source": [
    "## Ejercicios números en Python"
   ]
  },
  {
   "cell_type": "markdown",
   "id": "c153e120-7f74-489d-aa3e-07b7f0098c82",
   "metadata": {},
   "source": [
    "1) Calcula la división entera de 45 entre 6"
   ]
  },
  {
   "cell_type": "code",
   "execution_count": 56,
   "id": "fe6a6751-f5e7-4761-b0ef-4aeffc41f194",
   "metadata": {},
   "outputs": [
    {
     "data": {
      "text/plain": [
       "7"
      ]
     },
     "execution_count": 56,
     "metadata": {},
     "output_type": "execute_result"
    }
   ],
   "source": [
    "45//6"
   ]
  },
  {
   "cell_type": "markdown",
   "id": "90d363c2-9e18-400b-8c76-8cc423f955b0",
   "metadata": {},
   "source": [
    "2) Calcula el resto de la división entera entre 45 y 6"
   ]
  },
  {
   "cell_type": "code",
   "execution_count": 57,
   "id": "03506c34-9a60-4bab-b9c5-cac76ebf5e99",
   "metadata": {},
   "outputs": [
    {
     "data": {
      "text/plain": [
       "3"
      ]
     },
     "execution_count": 57,
     "metadata": {},
     "output_type": "execute_result"
    }
   ],
   "source": [
    "45%6"
   ]
  },
  {
   "cell_type": "markdown",
   "id": "427cbf41-26c8-4ee7-ab0a-70dd38aac895",
   "metadata": {},
   "source": [
    "3) Realiza la siguiente operación en Python, donde ÷ indica la división entera:\n",
    "\n",
    "    10 + 20 ÷ 7 − 2"
   ]
  },
  {
   "cell_type": "code",
   "execution_count": 58,
   "id": "7f1136de-a7dc-4759-adc2-270245ee74e1",
   "metadata": {},
   "outputs": [
    {
     "data": {
      "text/plain": [
       "10"
      ]
     },
     "execution_count": 58,
     "metadata": {},
     "output_type": "execute_result"
    }
   ],
   "source": [
    "10 + 20//7 - 2"
   ]
  },
  {
   "cell_type": "markdown",
   "id": "4c32a38e-8dc8-497b-95cd-572556fce22d",
   "metadata": {},
   "source": [
    "4) Realiza la siguiente operación en Python:\n",
    "    \n",
    "    9-[(25+5-2)/(7x4)]/2^3"
   ]
  },
  {
   "cell_type": "code",
   "execution_count": 60,
   "id": "7c1900bc-782a-46ac-b06d-066e7022e0db",
   "metadata": {},
   "outputs": [
    {
     "data": {
      "text/plain": [
       "-0.875"
      ]
     },
     "execution_count": 60,
     "metadata": {},
     "output_type": "execute_result"
    }
   ],
   "source": [
    "(9-((25+5-2)//7*4))/2**3"
   ]
  },
  {
   "cell_type": "markdown",
   "id": "c694ebde-94a2-46ae-b521-0b567693dbfd",
   "metadata": {},
   "source": [
    "5) Realiza la siguiente operación en Python:"
   ]
  },
  {
   "cell_type": "code",
   "execution_count": 61,
   "id": "ade78398-c063-49ce-97bd-df857cfb9c92",
   "metadata": {},
   "outputs": [
    {
     "data": {
      "text/plain": [
       "-4"
      ]
     },
     "execution_count": 61,
     "metadata": {},
     "output_type": "execute_result"
    }
   ],
   "source": [
    "(2+2**3-2*(2-2**5)+2**2*2+2)//(2*(2*2-2**4)+2**2)"
   ]
  },
  {
   "cell_type": "markdown",
   "id": "aab4ac8d-cc00-4850-9ef1-d22191dd74c4",
   "metadata": {},
   "source": [
    "6) Realiza la siguiente operación en Python:"
   ]
  },
  {
   "cell_type": "code",
   "execution_count": 64,
   "id": "8a36a8ec-3500-4526-b6a0-015090264358",
   "metadata": {},
   "outputs": [
    {
     "data": {
      "text/plain": [
       "(-8+4j)"
      ]
     },
     "execution_count": 64,
     "metadata": {},
     "output_type": "execute_result"
    }
   ],
   "source": [
    "6j - (4 + 1j) * 2"
   ]
  },
  {
   "cell_type": "markdown",
   "id": "f46e512e-d7df-4ee3-b87f-08432cced62f",
   "metadata": {},
   "source": [
    "7) Realiza la siguiente operación en Python:"
   ]
  },
  {
   "cell_type": "code",
   "execution_count": 66,
   "id": "cc2078fa-93c5-4e8b-89c1-cfbc42807c64",
   "metadata": {},
   "outputs": [
    {
     "data": {
      "text/plain": [
       "(-1+0j)"
      ]
     },
     "execution_count": 66,
     "metadata": {},
     "output_type": "execute_result"
    }
   ],
   "source": [
    "(1 + 1j)/(1-1j) + 2/(-1 + 1j)"
   ]
  },
  {
   "cell_type": "markdown",
   "id": "89f9ea56-bac9-4a48-99ed-3684b22042ac",
   "metadata": {},
   "source": [
    "8) Realiza la siguiente operación en Python:"
   ]
  },
  {
   "cell_type": "code",
   "execution_count": 67,
   "id": "a249591b-9fee-45e8-a648-8bd4e648873b",
   "metadata": {},
   "outputs": [
    {
     "data": {
      "text/plain": [
       "2j"
      ]
     },
     "execution_count": 67,
     "metadata": {},
     "output_type": "execute_result"
    }
   ],
   "source": [
    "(1 + 1j)**2"
   ]
  },
  {
   "cell_type": "markdown",
   "id": "af928d2c-11e1-4618-870d-30b26d924bff",
   "metadata": {},
   "source": [
    "9) Realiza la siguiente operación en Python, donde Mod(z) indica módulo del complejo z:"
   ]
  },
  {
   "cell_type": "code",
   "execution_count": 71,
   "id": "4883df80-0116-4fd2-92fb-25fc16624129",
   "metadata": {},
   "outputs": [
    {
     "data": {
      "text/plain": [
       "4.242640687119285"
      ]
     },
     "execution_count": 71,
     "metadata": {},
     "output_type": "execute_result"
    }
   ],
   "source": [
    "z = (9 - 3j)/(-2 - 1j)\n",
    "\n",
    "abs(z)"
   ]
  },
  {
   "cell_type": "markdown",
   "id": "c2f1dbdb-53c0-43f1-8de6-34f4dd96235b",
   "metadata": {},
   "source": [
    "10) ¿Cuál es el argumento del número complejo i?:"
   ]
  },
  {
   "cell_type": "code",
   "execution_count": 72,
   "id": "6d91f1f9-8f8c-49d1-885d-97ee61e78bbc",
   "metadata": {},
   "outputs": [
    {
     "data": {
      "text/plain": [
       "1.5707963267948966"
      ]
     },
     "execution_count": 72,
     "metadata": {},
     "output_type": "execute_result"
    }
   ],
   "source": [
    "import cmath\n",
    "\n",
    "cmath.phase(1j)"
   ]
  }
 ],
 "metadata": {
  "kernelspec": {
   "display_name": "Python 3 (ipykernel)",
   "language": "python",
   "name": "python3"
  },
  "language_info": {
   "codemirror_mode": {
    "name": "ipython",
    "version": 3
   },
   "file_extension": ".py",
   "mimetype": "text/x-python",
   "name": "python",
   "nbconvert_exporter": "python",
   "pygments_lexer": "ipython3",
   "version": "3.8.12"
  }
 },
 "nbformat": 4,
 "nbformat_minor": 5
}
