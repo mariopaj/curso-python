{
 "cells": [
  {
   "cell_type": "markdown",
   "id": "d0ba05aa-57e6-4d91-8ebe-e95927aa0215",
   "metadata": {},
   "source": [
    "# Tema 1 - Python basico"
   ]
  },
  {
   "cell_type": "markdown",
   "id": "15481643-91ee-4810-81b2-936aff2f5ece",
   "metadata": {},
   "source": [
    "## Variables\n",
    "\n",
    "Variable. Consta de un espacio en el sistema de almacenaje (memoria principal de un ordenador) y un nombre simbólico (identificador) que está asocado a dicho espacio.\n",
    "\n",
    "nombre = variable"
   ]
  },
  {
   "cell_type": "code",
   "execution_count": 2,
   "id": "e74eba20-0018-474f-939e-a958f29a386e",
   "metadata": {},
   "outputs": [
    {
     "data": {
      "text/plain": [
       "(1, 'hola')"
      ]
     },
     "execution_count": 2,
     "metadata": {},
     "output_type": "execute_result"
    }
   ],
   "source": [
    "x = 1\n",
    "y = 'hola'\n",
    "\n",
    "x, y"
   ]
  },
  {
   "cell_type": "code",
   "execution_count": 4,
   "id": "49b3131d-ae11-48a8-8b83-78f74963bcca",
   "metadata": {},
   "outputs": [
    {
     "data": {
      "text/plain": [
       "(int, str)"
      ]
     },
     "execution_count": 4,
     "metadata": {},
     "output_type": "execute_result"
    }
   ],
   "source": [
    "type(x), type(y)"
   ]
  },
  {
   "cell_type": "markdown",
   "id": "a4a85065-a988-4b31-94fb-ef095c4a02e2",
   "metadata": {},
   "source": [
    "#### Restricciones sobre los nombres de las variables\n",
    "\n",
    "- No puede contener caracteres especiales\n",
    "- No puede empezar por números\n",
    "- No puede contener espacios\n",
    "- No puede ser llamada una variable igual que una palabra reservada de python"
   ]
  },
  {
   "cell_type": "code",
   "execution_count": 6,
   "id": "4e339c4d-e150-4f79-9789-e98dfcf3c7a7",
   "metadata": {},
   "outputs": [
    {
     "ename": "SyntaxError",
     "evalue": "invalid syntax (Temp/ipykernel_14932/757177274.py, line 1)",
     "output_type": "error",
     "traceback": [
      "\u001b[1;36m  File \u001b[1;32m\"C:\\Users\\HP\\AppData\\Local\\Temp/ipykernel_14932/757177274.py\"\u001b[1;36m, line \u001b[1;32m1\u001b[0m\n\u001b[1;33m    1xcal = 5\u001b[0m\n\u001b[1;37m     ^\u001b[0m\n\u001b[1;31mSyntaxError\u001b[0m\u001b[1;31m:\u001b[0m invalid syntax\n"
     ]
    }
   ],
   "source": [
    "1xcal = 5"
   ]
  },
  {
   "cell_type": "markdown",
   "id": "3d1f14bf-b8ce-45ca-87a0-7a5f260e5f77",
   "metadata": {},
   "source": [
    "#### Palabras clabe en Python\n",
    "\n",
    "Las palabras clave en Python son las siguientes"
   ]
  },
  {
   "cell_type": "code",
   "execution_count": 9,
   "id": "0b6ee19c-0cc3-4a41-96f7-f42917c59167",
   "metadata": {},
   "outputs": [
    {
     "data": {
      "text/plain": [
       "['False',\n",
       " 'None',\n",
       " 'True',\n",
       " 'and',\n",
       " 'as',\n",
       " 'assert',\n",
       " 'async',\n",
       " 'await',\n",
       " 'break',\n",
       " 'class',\n",
       " 'continue',\n",
       " 'def',\n",
       " 'del',\n",
       " 'elif',\n",
       " 'else',\n",
       " 'except',\n",
       " 'finally',\n",
       " 'for',\n",
       " 'from',\n",
       " 'global',\n",
       " 'if',\n",
       " 'import',\n",
       " 'in',\n",
       " 'is',\n",
       " 'lambda',\n",
       " 'nonlocal',\n",
       " 'not',\n",
       " 'or',\n",
       " 'pass',\n",
       " 'raise',\n",
       " 'return',\n",
       " 'try',\n",
       " 'while',\n",
       " 'with',\n",
       " 'yield']"
      ]
     },
     "execution_count": 9,
     "metadata": {},
     "output_type": "execute_result"
    }
   ],
   "source": [
    "import keyword as k\n",
    "k.kwlist"
   ]
  },
  {
   "cell_type": "markdown",
   "id": "3a804062-f380-4f6d-bd7e-1db4e63648d1",
   "metadata": {},
   "source": [
    "#### Declarando variables en un sola línea\n",
    "\n",
    "Se hace del siguiente modo:"
   ]
  },
  {
   "cell_type": "code",
   "execution_count": 11,
   "id": "ba6ca969-4591-40e0-9e95-5086900513a2",
   "metadata": {},
   "outputs": [
    {
     "data": {
      "text/plain": [
       "(22, 'Mario')"
      ]
     },
     "execution_count": 11,
     "metadata": {},
     "output_type": "execute_result"
    }
   ],
   "source": [
    "age, name = 22, 'Mario'\n",
    "\n",
    "age, name"
   ]
  },
  {
   "cell_type": "markdown",
   "id": "3234c934-17dc-42ee-be5e-ca5fe7d4379c",
   "metadata": {},
   "source": [
    "#### Operando con variables numéricas\n",
    "\n",
    "Podemos operar o sobreescribir con las variables de la soguiente manera"
   ]
  },
  {
   "cell_type": "code",
   "execution_count": 12,
   "id": "27b451ac-b6b7-4498-a18a-6d90f493f934",
   "metadata": {},
   "outputs": [
    {
     "data": {
      "text/plain": [
       "4"
      ]
     },
     "execution_count": 12,
     "metadata": {},
     "output_type": "execute_result"
    }
   ],
   "source": [
    "x = 3\n",
    "x + 1"
   ]
  },
  {
   "cell_type": "code",
   "execution_count": 13,
   "id": "0eba3a53-8cdb-43fa-be58-f01062e5f699",
   "metadata": {},
   "outputs": [
    {
     "data": {
      "text/plain": [
       "4"
      ]
     },
     "execution_count": 13,
     "metadata": {},
     "output_type": "execute_result"
    }
   ],
   "source": [
    "y = x + 1\n",
    "\n",
    "y"
   ]
  },
  {
   "cell_type": "code",
   "execution_count": 14,
   "id": "df98d8b3-d779-4fcd-a6b4-07c51b630174",
   "metadata": {},
   "outputs": [
    {
     "data": {
      "text/plain": [
       "4"
      ]
     },
     "execution_count": 14,
     "metadata": {},
     "output_type": "execute_result"
    }
   ],
   "source": [
    "x = x + 1\n",
    "\n",
    "x"
   ]
  },
  {
   "cell_type": "markdown",
   "id": "801d8208-c4be-423d-aba9-85e21ce284ba",
   "metadata": {},
   "source": [
    "En Python, si queremso sobreescribir una variable numérica smándole a esta una cantidad, lo podemos hacer del siguiente modo:"
   ]
  },
  {
   "cell_type": "code",
   "execution_count": 15,
   "id": "98befaa5-7f50-4d35-a057-88dbaf9f86d0",
   "metadata": {},
   "outputs": [
    {
     "data": {
      "text/plain": [
       "7"
      ]
     },
     "execution_count": 15,
     "metadata": {},
     "output_type": "execute_result"
    }
   ],
   "source": [
    "x = 7\n",
    "\n",
    "x"
   ]
  },
  {
   "cell_type": "code",
   "execution_count": 16,
   "id": "d945a936-a6e6-4b88-94e7-5e6a7df06232",
   "metadata": {},
   "outputs": [
    {
     "data": {
      "text/plain": [
       "9"
      ]
     },
     "execution_count": 16,
     "metadata": {},
     "output_type": "execute_result"
    }
   ],
   "source": [
    "x+=2\n",
    "\n",
    "x"
   ]
  },
  {
   "cell_type": "markdown",
   "id": "94212d6c-1955-4a0b-b33e-8b837a8e1b5e",
   "metadata": {},
   "source": [
    "Observación.También tenemos -=, *=, /=, //=, %=, **="
   ]
  },
  {
   "cell_type": "markdown",
   "id": "4b685307-d681-43e8-88dd-a6f2e8ff4d34",
   "metadata": {},
   "source": [
    "## Comentarios\n",
    "\n",
    "La manera de hacer comentarios es através de #, de esta manera no se ejecutará la línea de código que tenga delante este símbolo."
   ]
  },
  {
   "cell_type": "code",
   "execution_count": 2,
   "id": "3ef5b990-1c90-4001-b1d2-defac73f818e",
   "metadata": {},
   "outputs": [
    {
     "data": {
      "text/plain": [
       "1"
      ]
     },
     "execution_count": 2,
     "metadata": {},
     "output_type": "execute_result"
    }
   ],
   "source": [
    "# Vamos a definir la variable x y le asignaremos el valor 1\n",
    "\n",
    "x = 1 # Aquí está nuestra variable x\n",
    "\n",
    "x"
   ]
  },
  {
   "cell_type": "markdown",
   "id": "598eeea6-fd4c-4ac1-be7c-b15d612f2cc6",
   "metadata": {},
   "source": [
    "## Función import\n",
    "\n",
    "Esta función sirve para importar librerías.\n",
    "\n",
    "- Algoritmo: Conjunto ordenado de operaciones sistemáticas que permite hacer un cálculo y hallar la solución de un problema.\n",
    "- Función: Bloque de código con un nombre asociado, que recibe 0 o más argumentos de entrada.\n",
    "- Script: Archivo diseñado para ser ejecutado.\n",
    "- Módulo: Script que contiene colecciones de funciones, definiciones y declaraciones de Python."
   ]
  },
  {
   "cell_type": "code",
   "execution_count": 3,
   "id": "ab3eba87-16bb-4e9f-bc16-4722101c774c",
   "metadata": {},
   "outputs": [],
   "source": [
    "import math"
   ]
  },
  {
   "cell_type": "markdown",
   "id": "564663e0-c5e0-4f5e-a049-680ec86a161d",
   "metadata": {},
   "source": [
    "Esto nos sirve para cargar el módulo math, permitir así trabajar con todas las funciones que contiene"
   ]
  },
  {
   "cell_type": "code",
   "execution_count": 4,
   "id": "98b5230a-bf8f-40aa-944a-7d8aa237b3d7",
   "metadata": {},
   "outputs": [],
   "source": [
    "import math as mt"
   ]
  },
  {
   "cell_type": "markdown",
   "id": "eb500d38-0f85-4e80-a169-4ec050600d8a",
   "metadata": {},
   "source": [
    "Esto nos permite darle un alias al módulo para que así podamos utilizar menos código sería mt.function()"
   ]
  },
  {
   "cell_type": "code",
   "execution_count": 5,
   "id": "94c1ddaa-df17-43f1-b329-0abd7cd40f97",
   "metadata": {},
   "outputs": [],
   "source": [
    "from math import pi"
   ]
  },
  {
   "cell_type": "markdown",
   "id": "cb1f2668-f374-456e-8fc8-aef270a97c09",
   "metadata": {},
   "source": [
    "Del módulo math importame SOLO la función pi, computaionalmente es más eficiente."
   ]
  },
  {
   "cell_type": "code",
   "execution_count": 7,
   "id": "992899ac-44a1-4420-9312-12f9b5582462",
   "metadata": {},
   "outputs": [
    {
     "data": {
      "text/plain": [
       "3.141592653589793"
      ]
     },
     "execution_count": 7,
     "metadata": {},
     "output_type": "execute_result"
    }
   ],
   "source": [
    "pi # esta variable ya forma parte de nuestro fichero"
   ]
  },
  {
   "cell_type": "code",
   "execution_count": 8,
   "id": "45a0e7c9-8c9b-4dd2-9b3a-fc79acd32b13",
   "metadata": {},
   "outputs": [],
   "source": [
    "from math import pi, log, exp # Esto es para cargar más d euna función"
   ]
  },
  {
   "cell_type": "code",
   "execution_count": 12,
   "id": "1c79bdbf-3813-4b9e-aed6-a35910c3d96f",
   "metadata": {},
   "outputs": [
    {
     "data": {
      "text/plain": [
       "(3.141592653589793, 0.0, 148.4131591025766)"
      ]
     },
     "execution_count": 12,
     "metadata": {},
     "output_type": "execute_result"
    }
   ],
   "source": [
    "pi, log(1), exp(5)"
   ]
  },
  {
   "cell_type": "code",
   "execution_count": 13,
   "id": "cbd58400-7228-4f36-a07c-e9398263d172",
   "metadata": {},
   "outputs": [],
   "source": [
    "from math import * # No es muy recomendable puede haber funciones que se llaman de la misma manera de diferentes módulos"
   ]
  },
  {
   "cell_type": "markdown",
   "id": "b7c873fe-2c71-44be-b579-50c0cdb039bc",
   "metadata": {},
   "source": [
    "De esta menaer asolo tenemos que utilizar las funciones del módulo, nos evitamos la sintaxis math.function()"
   ]
  }
 ],
 "metadata": {
  "kernelspec": {
   "display_name": "Python 3 (ipykernel)",
   "language": "python",
   "name": "python3"
  },
  "language_info": {
   "codemirror_mode": {
    "name": "ipython",
    "version": 3
   },
   "file_extension": ".py",
   "mimetype": "text/x-python",
   "name": "python",
   "nbconvert_exporter": "python",
   "pygments_lexer": "ipython3",
   "version": "3.8.12"
  }
 },
 "nbformat": 4,
 "nbformat_minor": 5
}
