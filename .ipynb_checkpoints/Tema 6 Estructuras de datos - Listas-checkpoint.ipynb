{
 "cells": [
  {
   "cell_type": "markdown",
   "id": "5555335e-82f6-4fc2-8b24-c30583208244",
   "metadata": {},
   "source": [
    "# Tema 6 - Estructuras de datos: Listas"
   ]
  },
  {
   "cell_type": "markdown",
   "id": "967cba67-43c2-44d9-b945-f105bcb10b64",
   "metadata": {},
   "source": [
    "## Lista"
   ]
  },
  {
   "cell_type": "markdown",
   "id": "cbc62e6c-81e0-4cc4-8616-ca3cba96bf3f",
   "metadata": {},
   "source": [
    "La primera estructura de datos que veremos son las **listas**. Éstas son un conjunto de elementos ordenados separados por comas y escritos entre claudators, `[]`. \n",
    "\n",
    "Las listas son:\n",
    "- hetereogéneas: los elementos pueden ser de distinto tipo en una misma lista\n",
    "- mutables: los elementos pueden ser modificados\n",
    "\n",
    "Un ejemplo de lista sería"
   ]
  },
  {
   "cell_type": "code",
   "execution_count": 1,
   "id": "2e08146b-c49f-4980-af78-c2be80d42fad",
   "metadata": {},
   "outputs": [
    {
     "name": "stdout",
     "output_type": "stream",
     "text": [
      "['Juan', 31, 22, 172.32, True]\n"
     ]
    }
   ],
   "source": [
    "l = ['Juan', 31, 22, 172.32, True]\n",
    "print(l)"
   ]
  },
  {
   "cell_type": "code",
   "execution_count": 5,
   "id": "f1e41bdf-506f-4602-a215-42dcd955d6c0",
   "metadata": {},
   "outputs": [
    {
     "data": {
      "text/plain": [
       "list"
      ]
     },
     "execution_count": 5,
     "metadata": {},
     "output_type": "execute_result"
    }
   ],
   "source": [
    "type(l)"
   ]
  },
  {
   "cell_type": "markdown",
   "id": "0791984b-412f-4812-9410-899248f5f21e",
   "metadata": {},
   "source": [
    "### Tamaño de una lista\n",
    "\n",
    "Para saber la longitud o el tamaño de una lista, podemos hacer uso de la función `len()`"
   ]
  },
  {
   "cell_type": "code",
   "execution_count": 4,
   "id": "a1faf560-35f5-41a3-b73c-356f353a3874",
   "metadata": {},
   "outputs": [
    {
     "data": {
      "text/plain": [
       "9"
      ]
     },
     "execution_count": 4,
     "metadata": {},
     "output_type": "execute_result"
    }
   ],
   "source": [
    "l = [1, 2, 3, 4, 5, 6, 7, 8, 9]\n",
    "len(l)"
   ]
  },
  {
   "cell_type": "code",
   "execution_count": 6,
   "id": "7bbbf1cf-b7cd-4ed2-aed4-aa21511400a9",
   "metadata": {},
   "outputs": [
    {
     "data": {
      "text/plain": [
       "4"
      ]
     },
     "execution_count": 6,
     "metadata": {},
     "output_type": "execute_result"
    }
   ],
   "source": [
    "l = ['Zoe', 'Pablo', 'Miguel', 'Silvia']\n",
    "len(l)"
   ]
  },
  {
   "cell_type": "markdown",
   "id": "1695eb3d-137a-4b0a-88c4-e9d11d242e71",
   "metadata": {},
   "source": [
    "### Elementos de una lista\n",
    "\n",
    "Cada elemento en la lista tiene su propio índice"
   ]
  },
  {
   "cell_type": "code",
   "execution_count": null,
   "id": "e3db94c5-1e63-44e9-8173-694286ee0f74",
   "metadata": {},
   "outputs": [],
   "source": []
  },
  {
   "cell_type": "markdown",
   "id": "61898be2-a38d-4c4a-8d95-0a75d0b7872d",
   "metadata": {},
   "source": [
    "A `María` le corresponde el índice 0; a `Juan`, el 1; a `Claudia` el 2; a `Jorge`, el 3; y a `Avelina`, el 4.\n",
    "\n",
    "**¡Cuidado!** En `Python`, los índices siempre empiezan en 0. De este modo, al primer elemento le corresponde el índice 0; al segundo, el índice 1; y al $n$-ésimo, le corresponde el índice $n−1$."
   ]
  },
  {
   "cell_type": "markdown",
   "id": "cf160ff8-c1be-413e-b771-b3cb295d3f07",
   "metadata": {},
   "source": [
    "Dada una lista, podemos acceder a sus elementos utilizando la sintaxis `[]`."
   ]
  },
  {
   "cell_type": "code",
   "execution_count": null,
   "id": "b838b9e6-37a0-4797-8c06-095fec8f28e9",
   "metadata": {},
   "outputs": [],
   "source": []
  },
  {
   "cell_type": "markdown",
   "id": "166b237e-b32e-4ac9-9d76-f89927a46fbe",
   "metadata": {},
   "source": [
    "**¡Cuidado!** Si dada una lista llamamos a un elemento cuyo índice no existe para dicha lista, `Python` automáticamente nos devolverá error.\n",
    "\n",
    "Podemos acceder a los últimos elementos de la lista haciendo uso de índices negativos."
   ]
  },
  {
   "cell_type": "code",
   "execution_count": null,
   "id": "d92a9a56-fdd4-47ae-86b1-e3631d9ca365",
   "metadata": {},
   "outputs": [],
   "source": []
  },
  {
   "cell_type": "markdown",
   "id": "243029e1-746a-417a-a17d-7fabab648159",
   "metadata": {},
   "source": [
    "Si en vez de querer acceder a los elementos uno por uno estamos interesados en acceder a avarios elementos a la vez, podemos hacer uso de la función `:`"
   ]
  },
  {
   "cell_type": "code",
   "execution_count": null,
   "id": "dd308e64-7c95-49e7-80d6-433724a78b18",
   "metadata": {},
   "outputs": [],
   "source": []
  },
  {
   "cell_type": "markdown",
   "id": "d75a51fb-f8a6-4012-baec-1274a70ec99c",
   "metadata": {},
   "source": [
    "**Observación.** En cuanto a la función `:`\n",
    "\n",
    "- El índice indicado a la derecha de los `:` nunca es incluido\n",
    "- Si no indicamos elemento a la izquierda de los `:`, por defecto `Python` interpreta que se trata del 0\n",
    "- Si no indicamos elemento a la derecha, por defecto `Python`interpreta que debe mostrar los elemetos desde el índice indicado a la izquierda hasta el último."
   ]
  },
  {
   "cell_type": "markdown",
   "id": "04ac23af-136d-4754-a41a-871c59f5e0f4",
   "metadata": {},
   "source": [
    "Podemos añadir nuevos elementos a una lista con el método `.append()`"
   ]
  },
  {
   "cell_type": "code",
   "execution_count": null,
   "id": "f3ae64fe-3d3a-405d-a1e8-87e1bd6bb054",
   "metadata": {},
   "outputs": [],
   "source": []
  },
  {
   "cell_type": "markdown",
   "id": "e368705a-ed31-4e97-857c-da61b188e7bd",
   "metadata": {},
   "source": [
    "**Observación.** Los elementos añadidos con el método `.append()`, se incluyen al final.\n",
    "\n",
    "Si quisiéramos añadir un nuevo elemento a una lista, pero no lo quisiéramos al final, sino en una posición específica, entonces utilizaremos el método `.insert()` al que primero le indicamos el índice donde queremos posicionar el nuevo elemento y, en segundo lugar, indicamos dicho nuevo elemento."
   ]
  },
  {
   "cell_type": "code",
   "execution_count": null,
   "id": "4b2fd388-52aa-4c9c-8236-73fbc1c07396",
   "metadata": {},
   "outputs": [],
   "source": []
  },
  {
   "cell_type": "markdown",
   "id": "51446b6f-c18c-4d64-9439-c4a128e81ac7",
   "metadata": {},
   "source": [
    "**Observación.** Cuando le indicamos que queremos el elemento `Andrés` en el índice 1, el que antes ocupaba dicho índice, `Cristian`, pasa a ocupar el siguiente, 2, y así con el resto de elementos que van a continuación."
   ]
  },
  {
   "cell_type": "markdown",
   "id": "ef6be9c6-ceb4-4657-8594-6bd3a0fcc64d",
   "metadata": {},
   "source": [
    "## Bucles con listas"
   ]
  },
  {
   "cell_type": "markdown",
   "id": "07948c1f-76b0-49bb-99e6-c441e096962e",
   "metadata": {},
   "source": [
    "Si quisiéramos imprimir por pantalla todos los elementos de una lista, lo podríamos hacer mediante los índices\n"
   ]
  },
  {
   "cell_type": "code",
   "execution_count": null,
   "id": "771dc594-2f1e-4d7a-9bad-b865b8f0b7e1",
   "metadata": {},
   "outputs": [],
   "source": []
  },
  {
   "cell_type": "markdown",
   "id": "b3c96249-4256-4a73-8d59-57e43683eb3b",
   "metadata": {},
   "source": [
    "o mucho más fácilmente iterando la lista con un `for` con la siguiente sintaxis:"
   ]
  },
  {
   "cell_type": "code",
   "execution_count": null,
   "id": "76409a5c-ec3e-4e92-b9e0-810d783d0449",
   "metadata": {},
   "outputs": [],
   "source": []
  },
  {
   "cell_type": "markdown",
   "id": "c8cad655-e53e-487f-91fc-15e27a3bdb59",
   "metadata": {},
   "source": [
    "## Concatenación de listas\n",
    "\n",
    "Dadas dos o más listas, podemos concatenarlas haciendo uso de la función `+`"
   ]
  },
  {
   "cell_type": "code",
   "execution_count": null,
   "id": "f4101d98-b534-4bf8-9a29-2d73c3060d8c",
   "metadata": {},
   "outputs": [],
   "source": []
  },
  {
   "cell_type": "markdown",
   "id": "89aa15a0-86c8-44c7-998d-a7900d88fe65",
   "metadata": {},
   "source": [
    "## Repetición de listas\n",
    "\n",
    "Podemos repetir una misma lista tantas veces como queramos con la función `*`"
   ]
  },
  {
   "cell_type": "code",
   "execution_count": null,
   "id": "acb94176-965d-43b2-80a6-0e7b46017d1c",
   "metadata": {},
   "outputs": [],
   "source": []
  },
  {
   "cell_type": "markdown",
   "id": "d43b7c02-8ebe-43b9-b889-6473fa7dc05f",
   "metadata": {},
   "source": [
    "## Lista vacía"
   ]
  },
  {
   "cell_type": "code",
   "execution_count": null,
   "id": "41e4e1df-86dd-42b5-9609-2e2af2a629c6",
   "metadata": {},
   "outputs": [],
   "source": []
  },
  {
   "cell_type": "markdown",
   "id": "1330c195-03d8-4f7a-8c65-76f94f3ae7a1",
   "metadata": {},
   "source": [
    "## Más métodos de listas\n",
    "\n",
    "El método `.count()` recibe un elemento como argumento y cuenta la cantidad de veces que aparece en la lista"
   ]
  },
  {
   "cell_type": "code",
   "execution_count": null,
   "id": "e8199380-18f2-4f73-ba08-014abf035ecd",
   "metadata": {},
   "outputs": [],
   "source": []
  },
  {
   "cell_type": "markdown",
   "id": "3e13c468-83e8-4279-b2b7-f254f69a5c67",
   "metadata": {},
   "source": [
    "El método `.extend()` extiende la lista agregando al final el iterable indicado por parámetro."
   ]
  },
  {
   "cell_type": "code",
   "execution_count": null,
   "id": "8133ebca-2523-4020-947a-e1c1a9bbc2ba",
   "metadata": {},
   "outputs": [],
   "source": []
  },
  {
   "cell_type": "markdown",
   "id": "90168ad7-3c06-46f2-80ec-76333cea32a6",
   "metadata": {},
   "source": [
    "**Observación.** Un iterable es un objeto de `Python` capaz de devolver sus elementos uno por uno, permitiendo ser iterado en un bucle for. De momento solo conocemos las listas y el resultado de `range()`, pero en secciones futuras veremos los diccionarios, las tuplas y los conjuntos, que también son objetos iterables.\n",
    "\n",
    "El método `index()` recibe un elemento como argumento y devuelve el índice de la primera aparición en la lista."
   ]
  },
  {
   "cell_type": "code",
   "execution_count": null,
   "id": "48f2c167-876c-494c-93dd-ce4bbb154f76",
   "metadata": {},
   "outputs": [],
   "source": []
  },
  {
   "cell_type": "markdown",
   "id": "acbeaf74-c01e-41e6-9839-b872b1dac0f3",
   "metadata": {},
   "source": [
    "El método `.pop()` devuelve el último elemento de la lista y lo borra de la misma."
   ]
  },
  {
   "cell_type": "code",
   "execution_count": null,
   "id": "a5c8d87c-b9ad-40aa-b0f2-464c8fe5ed50",
   "metadata": {},
   "outputs": [],
   "source": []
  },
  {
   "cell_type": "markdown",
   "id": "30e410d7-333e-492d-aac9-597a6d67407b",
   "metadata": {},
   "source": [
    "El método `.remove()` recibe como argumento un elemento y borra su primera aparición de la lista."
   ]
  },
  {
   "cell_type": "code",
   "execution_count": null,
   "id": "bcd60789-538b-4a11-a34d-33ff6f1428aa",
   "metadata": {},
   "outputs": [],
   "source": []
  },
  {
   "cell_type": "markdown",
   "id": "fa4358cb-f2dd-42af-b5a1-cf002afd9ece",
   "metadata": {},
   "source": [
    "El método `.reverse()` devuelve la lista en orden inverso."
   ]
  },
  {
   "cell_type": "code",
   "execution_count": null,
   "id": "6f83c183-020c-4b8b-8223-5848dd0f2063",
   "metadata": {},
   "outputs": [],
   "source": []
  },
  {
   "cell_type": "markdown",
   "id": "3117cab2-a475-435f-b843-d5e990f31160",
   "metadata": {},
   "source": [
    "El método `.sort()` devuelve la lista en orden. "
   ]
  },
  {
   "cell_type": "code",
   "execution_count": null,
   "id": "98cbf16e-3590-4ef5-b4d3-658c80bd7040",
   "metadata": {},
   "outputs": [],
   "source": []
  },
  {
   "cell_type": "markdown",
   "id": "62cbc98c-ab7d-4f92-9e66-4ef616ad602f",
   "metadata": {},
   "source": [
    "Si quisiésemos ordenar los elementos en orden decreciente, podríamos hacer uso del parámetro `reverse` del método `.sort()`:"
   ]
  },
  {
   "cell_type": "code",
   "execution_count": null,
   "id": "063bda5d-a9e4-4d98-b3b7-5ef85f4d2b9b",
   "metadata": {},
   "outputs": [],
   "source": []
  },
  {
   "cell_type": "markdown",
   "id": "e0808834-ea0a-4ed7-aec6-35ce95dc8133",
   "metadata": {},
   "source": [
    "**Observación.**  De momento solo conocemos las listas y el resultado de `range()`, pero en secciones futuras veremos los diccionarios, las tuplas y los conjuntos, que también son objetos iterables."
   ]
  },
  {
   "cell_type": "markdown",
   "id": "f1f317f8-3fbd-4f29-8101-11f57a34cc82",
   "metadata": {},
   "source": [
    "## Conversión a listas\n",
    "\n",
    "Para convertir un objeto iterable de `Python` a lista, hay que usar la función `list()`"
   ]
  },
  {
   "cell_type": "code",
   "execution_count": null,
   "id": "ae734123-f80c-4dec-9c4b-4dac1f95dbdd",
   "metadata": {},
   "outputs": [],
   "source": []
  },
  {
   "cell_type": "code",
   "execution_count": null,
   "id": "1687023f-c832-42d1-a114-8a941256ab1b",
   "metadata": {},
   "outputs": [],
   "source": []
  },
  {
   "cell_type": "code",
   "execution_count": null,
   "id": "8b86485d-947f-49be-8aef-5e1b2553a920",
   "metadata": {},
   "outputs": [],
   "source": []
  },
  {
   "cell_type": "code",
   "execution_count": null,
   "id": "5cd3433d-d01e-4749-8b51-3d271f1b63f4",
   "metadata": {},
   "outputs": [],
   "source": []
  },
  {
   "cell_type": "code",
   "execution_count": null,
   "id": "9f4f9e83-cfc1-4ea8-9d77-7bf6df30897d",
   "metadata": {},
   "outputs": [],
   "source": []
  },
  {
   "cell_type": "code",
   "execution_count": null,
   "id": "0819bae6-c218-4557-b2c5-94db07037dab",
   "metadata": {},
   "outputs": [],
   "source": []
  },
  {
   "cell_type": "code",
   "execution_count": null,
   "id": "3fed3d34-3e38-47e7-bb58-52b0764135d0",
   "metadata": {},
   "outputs": [],
   "source": []
  },
  {
   "cell_type": "code",
   "execution_count": null,
   "id": "005b9651-376d-47e9-91c7-cc7d0da43b97",
   "metadata": {},
   "outputs": [],
   "source": []
  },
  {
   "cell_type": "code",
   "execution_count": null,
   "id": "e4a21605-60f4-43d6-82e5-e89c2424467f",
   "metadata": {
    "tags": []
   },
   "outputs": [],
   "source": []
  }
 ],
 "metadata": {
  "kernelspec": {
   "display_name": "Python 3 (ipykernel)",
   "language": "python",
   "name": "python3"
  },
  "language_info": {
   "codemirror_mode": {
    "name": "ipython",
    "version": 3
   },
   "file_extension": ".py",
   "mimetype": "text/x-python",
   "name": "python",
   "nbconvert_exporter": "python",
   "pygments_lexer": "ipython3",
   "version": "3.8.12"
  }
 },
 "nbformat": 4,
 "nbformat_minor": 5
}
