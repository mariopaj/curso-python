{
 "cells": [
  {
   "cell_type": "markdown",
   "id": "5555335e-82f6-4fc2-8b24-c30583208244",
   "metadata": {},
   "source": [
    "# Tema 6 - Estructuras de datos: Listas"
   ]
  },
  {
   "cell_type": "markdown",
   "id": "967cba67-43c2-44d9-b945-f105bcb10b64",
   "metadata": {},
   "source": [
    "## Lista"
   ]
  },
  {
   "cell_type": "markdown",
   "id": "cbc62e6c-81e0-4cc4-8616-ca3cba96bf3f",
   "metadata": {},
   "source": [
    "La primera estructura de datos que veremos son las **listas**. Éstas son un conjunto de elementos ordenados separados por comas y escritos entre claudators, `[]`. \n",
    "\n",
    "Las listas son:\n",
    "- hetereogéneas: los elementos pueden ser de distinto tipo en una misma lista\n",
    "- mutables: los elementos pueden ser modificados\n",
    "\n",
    "Un ejemplo de lista sería"
   ]
  },
  {
   "cell_type": "code",
   "execution_count": 1,
   "id": "2e08146b-c49f-4980-af78-c2be80d42fad",
   "metadata": {},
   "outputs": [
    {
     "name": "stdout",
     "output_type": "stream",
     "text": [
      "['Juan', 31, 22, 172.32, True]\n"
     ]
    }
   ],
   "source": [
    "l = ['Juan', 31, 22, 172.32, True]\n",
    "print(l)"
   ]
  },
  {
   "cell_type": "code",
   "execution_count": 2,
   "id": "f1e41bdf-506f-4602-a215-42dcd955d6c0",
   "metadata": {},
   "outputs": [
    {
     "data": {
      "text/plain": [
       "list"
      ]
     },
     "execution_count": 2,
     "metadata": {},
     "output_type": "execute_result"
    }
   ],
   "source": [
    "type(l)"
   ]
  },
  {
   "cell_type": "markdown",
   "id": "0791984b-412f-4812-9410-899248f5f21e",
   "metadata": {},
   "source": [
    "### Tamaño de una lista\n",
    "\n",
    "Para saber la longitud o el tamaño de una lista, podemos hacer uso de la función `len()`"
   ]
  },
  {
   "cell_type": "code",
   "execution_count": 3,
   "id": "a1faf560-35f5-41a3-b73c-356f353a3874",
   "metadata": {},
   "outputs": [
    {
     "data": {
      "text/plain": [
       "9"
      ]
     },
     "execution_count": 3,
     "metadata": {},
     "output_type": "execute_result"
    }
   ],
   "source": [
    "l = [1, 2, 3, 4, 5, 6, 7, 8, 9]\n",
    "len(l)"
   ]
  },
  {
   "cell_type": "code",
   "execution_count": 4,
   "id": "7bbbf1cf-b7cd-4ed2-aed4-aa21511400a9",
   "metadata": {},
   "outputs": [
    {
     "data": {
      "text/plain": [
       "4"
      ]
     },
     "execution_count": 4,
     "metadata": {},
     "output_type": "execute_result"
    }
   ],
   "source": [
    "l = ['Zoe', 'Pablo', 'Miguel', 'Silvia']\n",
    "len(l)"
   ]
  },
  {
   "cell_type": "markdown",
   "id": "1695eb3d-137a-4b0a-88c4-e9d11d242e71",
   "metadata": {},
   "source": [
    "### Elementos de una lista\n",
    "\n",
    "Cada elemento en la lista tiene su propio índice"
   ]
  },
  {
   "cell_type": "code",
   "execution_count": 5,
   "id": "e3db94c5-1e63-44e9-8173-694286ee0f74",
   "metadata": {},
   "outputs": [],
   "source": [
    "names = ['Maria', 'Juan', 'Claudia', 'Jorge', 'Avelina']"
   ]
  },
  {
   "cell_type": "markdown",
   "id": "61898be2-a38d-4c4a-8d95-0a75d0b7872d",
   "metadata": {},
   "source": [
    "A `María` le corresponde el índice 0; a `Juan`, el 1; a `Claudia` el 2; a `Jorge`, el 3; y a `Avelina`, el 4.\n",
    "\n",
    "**¡Cuidado!** En `Python`, los índices siempre empiezan en 0. De este modo, al primer elemento le corresponde el índice 0; al segundo, el índice 1; y al $n$-ésimo, le corresponde el índice $n−1$."
   ]
  },
  {
   "cell_type": "markdown",
   "id": "cf160ff8-c1be-413e-b771-b3cb295d3f07",
   "metadata": {},
   "source": [
    "Dada una lista, podemos acceder a sus elementos utilizando la sintaxis `[]`."
   ]
  },
  {
   "cell_type": "code",
   "execution_count": 6,
   "id": "b838b9e6-37a0-4797-8c06-095fec8f28e9",
   "metadata": {},
   "outputs": [
    {
     "name": "stdout",
     "output_type": "stream",
     "text": [
      "Maria\n"
     ]
    }
   ],
   "source": [
    "print(names[0])"
   ]
  },
  {
   "cell_type": "code",
   "execution_count": 7,
   "id": "7c1044ad-648a-4c16-828a-39383dc2e04b",
   "metadata": {},
   "outputs": [
    {
     "name": "stdout",
     "output_type": "stream",
     "text": [
      "Jorge\n"
     ]
    }
   ],
   "source": [
    "print(names[3])"
   ]
  },
  {
   "cell_type": "code",
   "execution_count": 8,
   "id": "ef155228-e661-4964-8094-58e4f664c0c3",
   "metadata": {},
   "outputs": [
    {
     "ename": "IndexError",
     "evalue": "list index out of range",
     "output_type": "error",
     "traceback": [
      "\u001b[1;31m---------------------------------------------------------------------------\u001b[0m",
      "\u001b[1;31mIndexError\u001b[0m                                Traceback (most recent call last)",
      "\u001b[1;32m~\\AppData\\Local\\Temp/ipykernel_1104/2972300354.py\u001b[0m in \u001b[0;36m<module>\u001b[1;34m\u001b[0m\n\u001b[1;32m----> 1\u001b[1;33m \u001b[0mprint\u001b[0m\u001b[1;33m(\u001b[0m\u001b[0mnames\u001b[0m\u001b[1;33m[\u001b[0m\u001b[1;36m5\u001b[0m\u001b[1;33m]\u001b[0m\u001b[1;33m)\u001b[0m\u001b[1;33m\u001b[0m\u001b[1;33m\u001b[0m\u001b[0m\n\u001b[0m",
      "\u001b[1;31mIndexError\u001b[0m: list index out of range"
     ]
    }
   ],
   "source": [
    "print(names[5])"
   ]
  },
  {
   "cell_type": "markdown",
   "id": "166b237e-b32e-4ac9-9d76-f89927a46fbe",
   "metadata": {},
   "source": [
    "**¡Cuidado!** Si dada una lista llamamos a un elemento cuyo índice no existe para dicha lista, `Python` automáticamente nos devolverá error.\n",
    "\n",
    "Podemos acceder a los últimos elementos de la lista haciendo uso de índices negativos."
   ]
  },
  {
   "cell_type": "code",
   "execution_count": 9,
   "id": "d92a9a56-fdd4-47ae-86b1-e3631d9ca365",
   "metadata": {},
   "outputs": [
    {
     "name": "stdout",
     "output_type": "stream",
     "text": [
      "Avelina\n"
     ]
    }
   ],
   "source": [
    "print(names[-1]) # Último elemento"
   ]
  },
  {
   "cell_type": "code",
   "execution_count": 10,
   "id": "0355997e-cea4-4a5e-8a4e-0a6308292158",
   "metadata": {},
   "outputs": [
    {
     "name": "stdout",
     "output_type": "stream",
     "text": [
      "Claudia\n"
     ]
    }
   ],
   "source": [
    "print(names[-3]) # Tercer elemento empezando por el final"
   ]
  },
  {
   "cell_type": "markdown",
   "id": "243029e1-746a-417a-a17d-7fabab648159",
   "metadata": {},
   "source": [
    "Si en vez de querer acceder a los elementos uno por uno estamos interesados en acceder a avarios elementos a la vez, podemos hacer uso de la función `:`"
   ]
  },
  {
   "cell_type": "code",
   "execution_count": 11,
   "id": "dd308e64-7c95-49e7-80d6-433724a78b18",
   "metadata": {},
   "outputs": [
    {
     "name": "stdout",
     "output_type": "stream",
     "text": [
      "['Claudia', 'Jorge']\n"
     ]
    }
   ],
   "source": [
    "print(names[2:4]) # Se imprime desde la posición 2 de la lista hasta la 4-1"
   ]
  },
  {
   "cell_type": "code",
   "execution_count": 12,
   "id": "85a20e9f-ff42-49f7-9fb7-aa25a6b69b70",
   "metadata": {},
   "outputs": [
    {
     "name": "stdout",
     "output_type": "stream",
     "text": [
      "['Maria', 'Juan', 'Claudia']\n"
     ]
    }
   ],
   "source": [
    "print(names[:3]) # Se imprime des de la posición 0 hasta la 2"
   ]
  },
  {
   "cell_type": "code",
   "execution_count": 13,
   "id": "bfad3172-4323-45a7-9516-c35339c3117f",
   "metadata": {},
   "outputs": [
    {
     "name": "stdout",
     "output_type": "stream",
     "text": [
      "['Jorge', 'Avelina']\n"
     ]
    }
   ],
   "source": [
    "print(names[3:]) # Se imprime desde la posición 3 incluida hasta la última"
   ]
  },
  {
   "cell_type": "markdown",
   "id": "d75a51fb-f8a6-4012-baec-1274a70ec99c",
   "metadata": {},
   "source": [
    "**Observación.** En cuanto a la función `:`\n",
    "\n",
    "- El índice indicado a la derecha de los `:` nunca es incluido\n",
    "- Si no indicamos elemento a la izquierda de los `:`, por defecto `Python` interpreta que se trata del 0\n",
    "- Si no indicamos elemento a la derecha, por defecto `Python`interpreta que debe mostrar los elemetos desde el índice indicado a la izquierda hasta el último."
   ]
  },
  {
   "cell_type": "markdown",
   "id": "8d008cd3-3c7a-4200-b598-f977d1395910",
   "metadata": {},
   "source": [
    "Además de acceder, podemos modificar los elementos de una lista"
   ]
  },
  {
   "cell_type": "code",
   "execution_count": 14,
   "id": "c857522e-403b-49f0-a19a-ecaa7696d211",
   "metadata": {},
   "outputs": [
    {
     "data": {
      "text/plain": [
       "['Marina', 'Juan', 'Claudia', 'Jaime', 'Avelina']"
      ]
     },
     "execution_count": 14,
     "metadata": {},
     "output_type": "execute_result"
    }
   ],
   "source": [
    "names[0] = 'Marina'\n",
    "names[3] = 'Jaime'\n",
    "names"
   ]
  },
  {
   "cell_type": "markdown",
   "id": "04ac23af-136d-4754-a41a-871c59f5e0f4",
   "metadata": {},
   "source": [
    "Podemos añadir nuevos elementos a una lista con el método `.append()`"
   ]
  },
  {
   "cell_type": "code",
   "execution_count": 15,
   "id": "f3ae64fe-3d3a-405d-a1e8-87e1bd6bb054",
   "metadata": {},
   "outputs": [
    {
     "name": "stdout",
     "output_type": "stream",
     "text": [
      "['María', 'Cristina', 'Juana']\n",
      "['María', 'Cristina', 'Juana', 'Andrea']\n",
      "['María', 'Cristina', 'Juana', 'Andrea', 'Ana']\n"
     ]
    }
   ],
   "source": [
    "names = ['María', 'Cristina', 'Juana']\n",
    "print(names)\n",
    "\n",
    "names.append('Andrea')\n",
    "print(names)\n",
    "\n",
    "names.append('Ana')\n",
    "print(names)"
   ]
  },
  {
   "cell_type": "markdown",
   "id": "e368705a-ed31-4e97-857c-da61b188e7bd",
   "metadata": {},
   "source": [
    "**Observación.** Los elementos añadidos con el método `.append()`, se incluyen al final.\n",
    "\n",
    "Si quisiéramos añadir un nuevo elemento a una lista, pero no lo quisiéramos al final, sino en una posición específica, entonces utilizaremos el método `.insert()` al que primero le indicamos el índice donde queremos posicionar el nuevo elemento y, en segundo lugar, indicamos dicho nuevo elemento."
   ]
  },
  {
   "cell_type": "code",
   "execution_count": 16,
   "id": "4b2fd388-52aa-4c9c-8236-73fbc1c07396",
   "metadata": {},
   "outputs": [
    {
     "name": "stdout",
     "output_type": "stream",
     "text": [
      "['Mario', 'Cristian', 'Juan']\n",
      "['Mario', 'Andres', 'Cristian', 'Juan']\n",
      "['Mario', 'Andres', 'Cristian', 'Miguel', 'Juan']\n"
     ]
    }
   ],
   "source": [
    "names = ['Mario', 'Cristian', 'Juan']\n",
    "print(names)\n",
    "\n",
    "names.insert(1, 'Andres')\n",
    "print(names)\n",
    "names.insert(3, 'Miguel')\n",
    "print(names)"
   ]
  },
  {
   "cell_type": "markdown",
   "id": "51446b6f-c18c-4d64-9439-c4a128e81ac7",
   "metadata": {},
   "source": [
    "**Observación.** Cuando le indicamos que queremos el elemento `Andrés` en el índice 1, el que antes ocupaba dicho índice, `Cristian`, pasa a ocupar el siguiente, 2, y así con el resto de elementos que van a continuación."
   ]
  },
  {
   "cell_type": "markdown",
   "id": "0671e971-8595-4c73-b76e-8208ebf582d6",
   "metadata": {},
   "source": [
    "---\n",
    "### Ejercicio 1\n",
    "\n",
    "Vamos a pedirle al usuario la longitud de una lista y haremos que introduzca por teclado tantos números enteros como haya indicado, que se guardarán en una lista. Al acabar, imprimiremos la lista."
   ]
  },
  {
   "cell_type": "code",
   "execution_count": 17,
   "id": "03cfa9db-b20a-47cb-8296-a4221aafa539",
   "metadata": {},
   "outputs": [
    {
     "name": "stdin",
     "output_type": "stream",
     "text": [
      "Introduzca la longitud de una lista: 8\n"
     ]
    },
    {
     "name": "stdout",
     "output_type": "stream",
     "text": [
      "[1, 2, 3, 4, 5, 6, 7, 8]\n"
     ]
    }
   ],
   "source": [
    "len_list = int(input('Introduzca la longitud de una lista:'))\n",
    "l = []\n",
    "\n",
    "for i in range(1, len_list + 1):\n",
    "    \n",
    "    l.append(i)\n",
    "\n",
    "print(l)"
   ]
  },
  {
   "cell_type": "code",
   "execution_count": 18,
   "id": "1affc8f7-c184-4b41-83a6-4192a4804764",
   "metadata": {},
   "outputs": [
    {
     "name": "stdin",
     "output_type": "stream",
     "text": [
      "Introduzca la longitud de una lista: 8\n"
     ]
    },
    {
     "name": "stdout",
     "output_type": "stream",
     "text": [
      "[1, 2, 3, 4, 5, 6, 7, 8]\n"
     ]
    }
   ],
   "source": [
    "# Otra forma de hacerlomás eficiente (list comprehesion)\n",
    "\n",
    "len_list = int(input('Introduzca la longitud de una lista:'))\n",
    "\n",
    "l = [i for i in range(1, len_list + 1)]\n",
    "\n",
    "print(l)"
   ]
  },
  {
   "cell_type": "markdown",
   "id": "ef6be9c6-ceb4-4657-8594-6bd3a0fcc64d",
   "metadata": {},
   "source": [
    "## Bucles con listas"
   ]
  },
  {
   "cell_type": "markdown",
   "id": "07948c1f-76b0-49bb-99e6-c441e096962e",
   "metadata": {},
   "source": [
    "Si quisiéramos imprimir por pantalla todos los elementos de una lista, lo podríamos hacer mediante los índices\n"
   ]
  },
  {
   "cell_type": "code",
   "execution_count": 19,
   "id": "771dc594-2f1e-4d7a-9bad-b865b8f0b7e1",
   "metadata": {},
   "outputs": [
    {
     "name": "stdout",
     "output_type": "stream",
     "text": [
      "Mario\n",
      "Andres\n",
      "Cristian\n",
      "Miguel\n",
      "Juan\n"
     ]
    }
   ],
   "source": [
    "for i in range(len(names)):\n",
    "    print(names[i])"
   ]
  },
  {
   "cell_type": "markdown",
   "id": "b3c96249-4256-4a73-8d59-57e43683eb3b",
   "metadata": {},
   "source": [
    "o mucho más fácilmente iterando la lista con un `for` con la siguiente sintaxis:"
   ]
  },
  {
   "cell_type": "code",
   "execution_count": 20,
   "id": "76409a5c-ec3e-4e92-b9e0-810d783d0449",
   "metadata": {},
   "outputs": [
    {
     "name": "stdout",
     "output_type": "stream",
     "text": [
      "Mario\n",
      "Andres\n",
      "Cristian\n",
      "Miguel\n",
      "Juan\n"
     ]
    }
   ],
   "source": [
    "for name in names:\n",
    "    print(name)"
   ]
  },
  {
   "cell_type": "markdown",
   "id": "c8cad655-e53e-487f-91fc-15e27a3bdb59",
   "metadata": {},
   "source": [
    "## Concatenación de listas\n",
    "\n",
    "Dadas dos o más listas, podemos concatenarlas haciendo uso de la función `+`"
   ]
  },
  {
   "cell_type": "code",
   "execution_count": 21,
   "id": "f4101d98-b534-4bf8-9a29-2d73c3060d8c",
   "metadata": {},
   "outputs": [
    {
     "name": "stdout",
     "output_type": "stream",
     "text": [
      "[True, 21, 'Marta', 22.5, False, 22, 'Rafa']\n"
     ]
    }
   ],
   "source": [
    "l1 = [True, 21, 'Marta']\n",
    "l2 = [22.5, False, 22, 'Rafa']\n",
    "print(l1 + l2)"
   ]
  },
  {
   "cell_type": "markdown",
   "id": "89aa15a0-86c8-44c7-998d-a7900d88fe65",
   "metadata": {},
   "source": [
    "## Repetición de listas\n",
    "\n",
    "Podemos repetir una misma lista tantas veces como queramos con la función `*`"
   ]
  },
  {
   "cell_type": "code",
   "execution_count": 22,
   "id": "acb94176-965d-43b2-80a6-0e7b46017d1c",
   "metadata": {},
   "outputs": [
    {
     "name": "stdout",
     "output_type": "stream",
     "text": [
      "['A', 'B', 'C', 'A', 'B', 'C', 'A', 'B', 'C', 'A', 'B', 'C', 'A', 'B', 'C']\n"
     ]
    }
   ],
   "source": [
    "abc = ['A', 'B', 'C']\n",
    "print(abc * 5)"
   ]
  },
  {
   "cell_type": "code",
   "execution_count": 23,
   "id": "ccefaa46-2739-476e-9c3b-c54f28e49a71",
   "metadata": {},
   "outputs": [
    {
     "data": {
      "text/plain": [
       "[0, 0, 0, 0, 0, 0, 0, 0, 0, 0, 0, 0, 0, 0, 0, 0, 0, 0, 0, 0]"
      ]
     },
     "execution_count": 23,
     "metadata": {},
     "output_type": "execute_result"
    }
   ],
   "source": [
    "[0] * 20"
   ]
  },
  {
   "cell_type": "markdown",
   "id": "d43b7c02-8ebe-43b9-b889-6473fa7dc05f",
   "metadata": {},
   "source": [
    "## Lista vacía"
   ]
  },
  {
   "cell_type": "code",
   "execution_count": 24,
   "id": "41e4e1df-86dd-42b5-9609-2e2af2a629c6",
   "metadata": {},
   "outputs": [
    {
     "name": "stdout",
     "output_type": "stream",
     "text": [
      "0\n"
     ]
    }
   ],
   "source": [
    "empty_list = []\n",
    "print(len(empty_list))"
   ]
  },
  {
   "cell_type": "markdown",
   "id": "1b8b86be-e440-498c-a2ca-d324a915116a",
   "metadata": {},
   "source": [
    "## Listas anidadas\n",
    "\n",
    "Las listas anidadas son listas dentro de listas. Es decir, las listas no solo pueden contener números, strings o datos booleanos, sino que también pueden contener otras listas."
   ]
  },
  {
   "cell_type": "markdown",
   "id": "ed9d2b85-139e-4667-8338-e2932e0c6961",
   "metadata": {},
   "source": [
    "---\n",
    "\n",
    "#### Ejemplo 1\n",
    "\n",
    "A continuación mostramos una lista anidada, pues consta de 3 elementos:\n",
    "\n",
    "- 1 lista de 3 strings\n",
    "- 1 lista heterogénea de 3 elementos que a su vez contiene una lista con 5 números\n",
    "- 1 número"
   ]
  },
  {
   "cell_type": "code",
   "execution_count": 25,
   "id": "7cdb8852-c1ce-4229-a810-afde76b24dcc",
   "metadata": {},
   "outputs": [
    {
     "name": "stdout",
     "output_type": "stream",
     "text": [
      "[['Mario', 'Alfonso', 'Carlos'], ['Juan', [1, 2, 3, 4, 5], 25], 4]\n"
     ]
    }
   ],
   "source": [
    "l = [['Mario', 'Alfonso', 'Carlos'], \n",
    "     ['Juan', [1, 2, 3, 4, 5], 25], \n",
    "     4]\n",
    "\n",
    "print(l)"
   ]
  },
  {
   "cell_type": "markdown",
   "id": "32094076-dbd1-422e-9ac5-bde160da7fe7",
   "metadata": {},
   "source": [
    "Para acceder a un elemento, necesitamos indicar su índice. Si un elemento está en una lista dentro de una lista dentro de una lista, en primer lugar indicamos el índice de la lista exterior dentro de `[]`; después, el índice de la siguiente lista más exterior también entre `[]`; y por último, el índice de la lista más interna, claramente también entre `[]`.\n",
    "\n",
    "Accedamos al string `Fernández`y luego al número `5`."
   ]
  },
  {
   "cell_type": "code",
   "execution_count": 26,
   "id": "d5c43654-2c64-45b1-8f38-e6ab397d0b1b",
   "metadata": {},
   "outputs": [
    {
     "name": "stdout",
     "output_type": "stream",
     "text": [
      "Carlos\n",
      "5\n"
     ]
    }
   ],
   "source": [
    "print(l[0][2])\n",
    "print(l[1][1][4])"
   ]
  },
  {
   "cell_type": "markdown",
   "id": "1330c195-03d8-4f7a-8c65-76f94f3ae7a1",
   "metadata": {},
   "source": [
    "## Más métodos de listas\n",
    "\n",
    "El método `.count()` recibe un elemento como argumento y cuenta la cantidad de veces que aparece en la lista"
   ]
  },
  {
   "cell_type": "code",
   "execution_count": 27,
   "id": "e8199380-18f2-4f73-ba08-014abf035ecd",
   "metadata": {},
   "outputs": [],
   "source": [
    "numbers = [0, 1, 1, 2, 2, 2, 3, 3, 3, 3]\n",
    "\n",
    "counted = []\n",
    "for element in numbers:\n",
    "    if element not in numbers:\n",
    "        counted.append(element)\n",
    "        print('El elemento {} aparece {} veces'.format(element, numbers.count(element)))"
   ]
  },
  {
   "cell_type": "markdown",
   "id": "3e13c468-83e8-4279-b2b7-f254f69a5c67",
   "metadata": {},
   "source": [
    "El método `.extend()` extiende la lista agregando al final el iterable indicado por parámetro."
   ]
  },
  {
   "cell_type": "code",
   "execution_count": 32,
   "id": "8133ebca-2523-4020-947a-e1c1a9bbc2ba",
   "metadata": {},
   "outputs": [
    {
     "name": "stdout",
     "output_type": "stream",
     "text": [
      "[1, 2, 3, 4, 5, 6]\n",
      "[1, 2, 3, 4, 5, 6, 7, 8]\n",
      "[1, 2, 3, 4, 5, 6, 7, 8, 9, 10, 11, 12, 13, 14, 15]\n"
     ]
    }
   ],
   "source": [
    "numbers = [1, 2, 3, 4, 5]\n",
    "\n",
    "numbers.extend([6])\n",
    "print(numbers)\n",
    "\n",
    "numbers.extend([7, 8])\n",
    "print(numbers)\n",
    "\n",
    "numbers.extend(range(9, 16))\n",
    "print(numbers)"
   ]
  },
  {
   "cell_type": "markdown",
   "id": "90168ad7-3c06-46f2-80ec-76333cea32a6",
   "metadata": {},
   "source": [
    "**Observación.** Un iterable es un objeto de `Python` capaz de devolver sus elementos uno por uno, permitiendo ser iterado en un bucle for. De momento solo conocemos las listas y el resultado de `range()`, pero en secciones futuras veremos los diccionarios, las tuplas y los conjuntos, que también son objetos iterables.\n",
    "\n",
    "El método `index()` recibe un elemento como argumento y devuelve el índice de la primera aparición en la lista."
   ]
  },
  {
   "cell_type": "code",
   "execution_count": 33,
   "id": "48f2c167-876c-494c-93dd-ce4bbb154f76",
   "metadata": {},
   "outputs": [
    {
     "name": "stdout",
     "output_type": "stream",
     "text": [
      "3\n",
      "7\n"
     ]
    }
   ],
   "source": [
    "numbers = [0, 1, 1, 2, 2, 2, 3, 4, 3, 4]\n",
    "print(numbers.index(2))\n",
    "print(numbers.index(4))"
   ]
  },
  {
   "cell_type": "markdown",
   "id": "acbeaf74-c01e-41e6-9839-b872b1dac0f3",
   "metadata": {},
   "source": [
    "El método `.pop()` devuelve el último elemento de la lista y lo borra de la misma."
   ]
  },
  {
   "cell_type": "code",
   "execution_count": 34,
   "id": "a5c8d87c-b9ad-40aa-b0f2-464c8fe5ed50",
   "metadata": {},
   "outputs": [
    {
     "name": "stdout",
     "output_type": "stream",
     "text": [
      "[0, 1, 1, 2, 2, 2, 3, 4, 3, 4]\n",
      "4\n",
      "[0, 1, 1, 2, 2, 2, 3, 4, 3]\n",
      "3\n",
      "[0, 1, 1, 2, 2, 2, 3, 4]\n",
      "4\n",
      "[0, 1, 1, 2, 2, 2, 3]\n",
      "3\n",
      "[0, 1, 1, 2, 2, 2]\n",
      "2\n",
      "[0, 1, 1, 2, 2]\n"
     ]
    }
   ],
   "source": [
    "print(numbers)\n",
    "for i in range(5):\n",
    "    print(numbers.pop())\n",
    "    print(numbers)"
   ]
  },
  {
   "cell_type": "markdown",
   "id": "30e410d7-333e-492d-aac9-597a6d67407b",
   "metadata": {},
   "source": [
    "El método `.remove()` recibe como argumento un elemento y borra su primera aparición de la lista."
   ]
  },
  {
   "cell_type": "code",
   "execution_count": 35,
   "id": "bcd60789-538b-4a11-a34d-33ff6f1428aa",
   "metadata": {},
   "outputs": [
    {
     "name": "stdout",
     "output_type": "stream",
     "text": [
      "[0, 1, 2, 3, 4, 5, 6, 7]\n"
     ]
    }
   ],
   "source": [
    "numbers = [0, 1, 2, 4, 3, 4, 5, 6, 7]\n",
    "numbers.remove(4)\n",
    "print(numbers)"
   ]
  },
  {
   "cell_type": "markdown",
   "id": "fa4358cb-f2dd-42af-b5a1-cf002afd9ece",
   "metadata": {},
   "source": [
    "El método `.reverse()` devuelve la lista en orden inverso."
   ]
  },
  {
   "cell_type": "code",
   "execution_count": 36,
   "id": "6f83c183-020c-4b8b-8223-5848dd0f2063",
   "metadata": {},
   "outputs": [
    {
     "name": "stdout",
     "output_type": "stream",
     "text": [
      "[-3, 3, -2, 2, -1, 1]\n"
     ]
    }
   ],
   "source": [
    "numbers = [1, -1, 2, -2, 3, -3]\n",
    "numbers.reverse()\n",
    "print(numbers)"
   ]
  },
  {
   "cell_type": "markdown",
   "id": "3117cab2-a475-435f-b843-d5e990f31160",
   "metadata": {},
   "source": [
    "El método `.sort()` devuelve la lista en orden. "
   ]
  },
  {
   "cell_type": "code",
   "execution_count": 37,
   "id": "98cbf16e-3590-4ef5-b4d3-658c80bd7040",
   "metadata": {},
   "outputs": [
    {
     "name": "stdout",
     "output_type": "stream",
     "text": [
      "[1, 2, 3, 4, 5]\n"
     ]
    }
   ],
   "source": [
    "numbers = [1, 3, 5, 2, 4]\n",
    "numbers.sort()\n",
    "print(numbers)"
   ]
  },
  {
   "cell_type": "markdown",
   "id": "62cbc98c-ab7d-4f92-9e66-4ef616ad602f",
   "metadata": {},
   "source": [
    "Si quisiésemos ordenar los elementos en orden decreciente, podríamos hacer uso del parámetro `reverse` del método `.sort()`:"
   ]
  },
  {
   "cell_type": "code",
   "execution_count": 54,
   "id": "063bda5d-a9e4-4d98-b3b7-5ef85f4d2b9b",
   "metadata": {},
   "outputs": [
    {
     "name": "stdout",
     "output_type": "stream",
     "text": [
      "[5, 4, 3, 2, 1]\n"
     ]
    }
   ],
   "source": [
    "numbers = [1, 3, 5, 2, 4]\n",
    "numbers.sort(reverse = True)\n",
    "print(numbers)"
   ]
  },
  {
   "cell_type": "markdown",
   "id": "e0808834-ea0a-4ed7-aec6-35ce95dc8133",
   "metadata": {},
   "source": [
    "**Observación.**  De momento solo conocemos las listas y el resultado de `range()`, pero en secciones futuras veremos los diccionarios, las tuplas y los conjuntos, que también son objetos iterables."
   ]
  },
  {
   "cell_type": "markdown",
   "id": "291ba3cd-05c5-423b-8f16-26575ac688cd",
   "metadata": {},
   "source": [
    "---\n",
    "### Ejercicio 2\n",
    "\n",
    "Dada una lista de caracteres, le pediremos al usuario qué elemento quiere eliminar y lo eliminaremos de la lista."
   ]
  },
  {
   "cell_type": "code",
   "execution_count": 42,
   "id": "dc060965-5453-4253-9e43-fcbe750ebd33",
   "metadata": {},
   "outputs": [
    {
     "name": "stdin",
     "output_type": "stream",
     "text": [
      "Introduce el elleemtno de la lista que quieres eliminar: Mario\n"
     ]
    },
    {
     "data": {
      "text/plain": [
       "['Pajares', 'García']"
      ]
     },
     "execution_count": 42,
     "metadata": {},
     "output_type": "execute_result"
    }
   ],
   "source": [
    "l = ['Mario', 'Pajares', 'García']\n",
    "\n",
    "element = input('Introduce el elemento de la lista que quieres eliminar:')\n",
    "\n",
    "l.remove(element)\n",
    "\n",
    "l"
   ]
  },
  {
   "cell_type": "markdown",
   "id": "b2eb2e0a-f61c-414b-879a-d03e27030c9e",
   "metadata": {},
   "source": [
    "---\n",
    "### Ejercicio 3\n",
    "\n",
    "Vamos a pedir al usuario que ingrese 10 números, los guardaremos en una lista y mostraremos la lista ordenada, siendo el usuario quien indique el orden: ascendente o descendente."
   ]
  },
  {
   "cell_type": "code",
   "execution_count": 59,
   "id": "d6aac128-52ea-4abd-a4fb-63c99a22d024",
   "metadata": {},
   "outputs": [
    {
     "name": "stdin",
     "output_type": "stream",
     "text": [
      "Introduzca \"True\" si quieres que los números se ordenen de forma descendente, si no presiona Enter \n",
      "introduce un número 1\n",
      "introduce un número 2\n",
      "introduce un número 3\n",
      "introduce un número 4\n",
      "introduce un número 5\n",
      "introduce un número 6\n",
      "introduce un número 2\n",
      "introduce un número 1\n",
      "introduce un número 33\n",
      "introduce un número 43\n"
     ]
    },
    {
     "data": {
      "text/plain": [
       "[1, 1, 2, 2, 3, 4, 5, 6, 33, 43]"
      ]
     },
     "execution_count": 59,
     "metadata": {},
     "output_type": "execute_result"
    }
   ],
   "source": [
    "numbers = []\n",
    "reverse = bool(input('Introduzca \"True\" si quieres que los números se ordenen de forma descendente, si no presiona Enter'))\n",
    "\n",
    "while len(numbers)< 10:\n",
    "    numbers.append(int(input('introduce un número')))\n",
    "\n",
    "numbers.sort(reverse = reverse)\n",
    "numbers"
   ]
  },
  {
   "cell_type": "markdown",
   "id": "f1f317f8-3fbd-4f29-8101-11f57a34cc82",
   "metadata": {},
   "source": [
    "## Conversión a listas\n",
    "\n",
    "Para convertir un objeto iterable de `Python` a lista, hay que usar la función `list()`"
   ]
  },
  {
   "cell_type": "code",
   "execution_count": 62,
   "id": "b69340d2-15e7-48a6-b417-1844519d2410",
   "metadata": {},
   "outputs": [
    {
     "data": {
      "text/plain": [
       "range(0, 100, 10)"
      ]
     },
     "execution_count": 62,
     "metadata": {},
     "output_type": "execute_result"
    }
   ],
   "source": [
    "range(0, 100, 10)"
   ]
  },
  {
   "cell_type": "code",
   "execution_count": 60,
   "id": "ae734123-f80c-4dec-9c4b-4dac1f95dbdd",
   "metadata": {
    "tags": []
   },
   "outputs": [
    {
     "name": "stdout",
     "output_type": "stream",
     "text": [
      "<class 'range'>\n"
     ]
    }
   ],
   "source": [
    "print(type(range(0, 100, 10)))"
   ]
  },
  {
   "cell_type": "code",
   "execution_count": 61,
   "id": "1687023f-c832-42d1-a114-8a941256ab1b",
   "metadata": {},
   "outputs": [
    {
     "name": "stdout",
     "output_type": "stream",
     "text": [
      "[0, 10, 20, 30, 40, 50, 60, 70, 80, 90]\n"
     ]
    }
   ],
   "source": [
    "print(list(range(0, 100, 10)))"
   ]
  },
  {
   "cell_type": "code",
   "execution_count": 63,
   "id": "8b86485d-947f-49be-8aef-5e1b2553a920",
   "metadata": {},
   "outputs": [
    {
     "name": "stdout",
     "output_type": "stream",
     "text": [
      "<class 'list'>\n"
     ]
    }
   ],
   "source": [
    "print(type(list(range(0, 100, 10))))"
   ]
  },
  {
   "cell_type": "markdown",
   "id": "e5782ccc-1022-4b49-b33d-d89cc87b178b",
   "metadata": {},
   "source": [
    "---\n",
    "### Ejercicio 4\n",
    "\n",
    "Vamos a convertir los números impares del 0 al 30 a una lista y mostrar los elementos con el fomato \"El valor {} ocupa el índice {}\""
   ]
  },
  {
   "cell_type": "code",
   "execution_count": 66,
   "id": "9f4f9e83-cfc1-4ea8-9d77-7bf6df30897d",
   "metadata": {},
   "outputs": [
    {
     "name": "stdout",
     "output_type": "stream",
     "text": [
      "El valor 1 ocupa el índice 0\n",
      "El valor 3 ocupa el índice 1\n",
      "El valor 5 ocupa el índice 2\n",
      "El valor 7 ocupa el índice 3\n",
      "El valor 9 ocupa el índice 4\n",
      "El valor 11 ocupa el índice 5\n",
      "El valor 13 ocupa el índice 6\n",
      "El valor 15 ocupa el índice 7\n",
      "El valor 17 ocupa el índice 8\n",
      "El valor 19 ocupa el índice 9\n",
      "El valor 21 ocupa el índice 10\n",
      "El valor 23 ocupa el índice 11\n",
      "El valor 25 ocupa el índice 12\n",
      "El valor 27 ocupa el índice 13\n",
      "El valor 29 ocupa el índice 14\n"
     ]
    }
   ],
   "source": [
    "numbers = []\n",
    "\n",
    "for i in range(31):\n",
    "    if i % 2 != 0:\n",
    "        numbers.append(i)\n",
    "\n",
    "for number in numbers:\n",
    "    print('El valor {} ocupa el índice {}'.format(number, numbers.index(number)))"
   ]
  },
  {
   "cell_type": "code",
   "execution_count": 67,
   "id": "0819bae6-c218-4557-b2c5-94db07037dab",
   "metadata": {},
   "outputs": [
    {
     "name": "stdout",
     "output_type": "stream",
     "text": [
      "El valor 1 ocupa el índice 0\n",
      "El valor 3 ocupa el índice 1\n",
      "El valor 5 ocupa el índice 2\n",
      "El valor 7 ocupa el índice 3\n",
      "El valor 9 ocupa el índice 4\n",
      "El valor 11 ocupa el índice 5\n",
      "El valor 13 ocupa el índice 6\n",
      "El valor 15 ocupa el índice 7\n",
      "El valor 17 ocupa el índice 8\n",
      "El valor 19 ocupa el índice 9\n",
      "El valor 21 ocupa el índice 10\n",
      "El valor 23 ocupa el índice 11\n",
      "El valor 25 ocupa el índice 12\n",
      "El valor 27 ocupa el índice 13\n",
      "El valor 29 ocupa el índice 14\n"
     ]
    }
   ],
   "source": [
    "## Otra forma más eficiente de hacerlo\n",
    "\n",
    "odd = list(range(1, 30, 2))\n",
    "\n",
    "for i in range(len(odd)):\n",
    "    print(\"El valor {} ocupa el índice {}\".format(odd[i], i))"
   ]
  },
  {
   "cell_type": "markdown",
   "id": "ce8e1e80-8655-471a-b745-e6ca11be6cf5",
   "metadata": {},
   "source": [
    "### Matrices\n",
    "\n",
    "Hay un tipo muy utilizado de listas anidadas. Se caracteriza por ser una lista de $m$ listas, donde cada una de las listas tiene el mismo número de elementos, $n$. A este tipo de listas se les conoce como matrices."
   ]
  },
  {
   "cell_type": "code",
   "execution_count": 68,
   "id": "005b9651-376d-47e9-91c7-cc7d0da43b97",
   "metadata": {},
   "outputs": [],
   "source": [
    "matrix = [[1, 2, 3], [4, 5, 6], [7, 8, 9]]"
   ]
  },
  {
   "cell_type": "markdown",
   "id": "85df739c-725b-4253-90e5-d1b789e7d2f4",
   "metadata": {
    "tags": []
   },
   "source": [
    "En matemáticas, las matrices se definen del siguiente modo.\n",
    "\n",
    "**Matriz.** Una matriz de dimensiones $m\\times n$ es una tabla formada por elementos dispuestos en $m$ filas y $n$ columnas de la forma\n",
    "\n",
    "$$A = \\begin{pmatrix}\n",
    "a_{11} & a_{12} & \\cdots & a_{1n}\\\\\n",
    "a_{21} & a_{22} & \\cdots & a_{2n}\\\\\n",
    "\\vdots & \\vdots & \\ddots & \\vdots\\\\\n",
    "a_{m1} & a_{m2} & \\cdots & a_{mn}\\end{pmatrix}$$\n",
    "\n",
    "Los elementos de la matriz se representan con doble subíndice, $a_{ij}$, donde el primero indica la fila a la que pertenece y, el segundo, la columna.\n",
    "\n",
    "Entonces, la matriz que hemos definido anteriormente"
   ]
  },
  {
   "cell_type": "code",
   "execution_count": 69,
   "id": "86b03668-a547-4867-8466-c3d1cc01b723",
   "metadata": {},
   "outputs": [
    {
     "data": {
      "text/plain": [
       "[[1, 2, 3], [4, 5, 6], [7, 8, 9]]"
      ]
     },
     "execution_count": 69,
     "metadata": {},
     "output_type": "execute_result"
    }
   ],
   "source": [
    "matrix"
   ]
  },
  {
   "cell_type": "markdown",
   "id": "8aeb6498-75be-4ccf-a115-40878de62136",
   "metadata": {},
   "source": [
    "escrita en forma de tabla sería: `matrix` $= \\displaystyle\\begin{pmatrix} 1 & 2 & 3\\\\ 4 & 5 & 6\\\\ 7 & 8 & 9\\end{pmatrix}$\n",
    "\n",
    "Para acceder a los elementos de una matriz en `Python`, utilizamos la sintaxis `[][]`, donde primero indicamos la fila y, a continuación, la columna"
   ]
  },
  {
   "cell_type": "code",
   "execution_count": 70,
   "id": "9e565f07-97bb-4198-b512-8b328e3779af",
   "metadata": {},
   "outputs": [
    {
     "data": {
      "text/plain": [
       "3"
      ]
     },
     "execution_count": 70,
     "metadata": {},
     "output_type": "execute_result"
    }
   ],
   "source": [
    "matrix[0][2]"
   ]
  },
  {
   "cell_type": "code",
   "execution_count": 71,
   "id": "19dca0df-2fce-4cdd-a1ed-1257c4ba81e4",
   "metadata": {},
   "outputs": [
    {
     "data": {
      "text/plain": [
       "5"
      ]
     },
     "execution_count": 71,
     "metadata": {},
     "output_type": "execute_result"
    }
   ],
   "source": [
    "matrix[1][1]"
   ]
  },
  {
   "cell_type": "code",
   "execution_count": 72,
   "id": "ad4afb57-ae47-4859-832c-f3219a2f5e2f",
   "metadata": {},
   "outputs": [
    {
     "data": {
      "text/plain": [
       "7"
      ]
     },
     "execution_count": 72,
     "metadata": {},
     "output_type": "execute_result"
    }
   ],
   "source": [
    "matrix[2][0]"
   ]
  },
  {
   "cell_type": "markdown",
   "id": "cbf0de55-8b43-4de3-8936-f8194c778b1f",
   "metadata": {},
   "source": [
    "Podemos mostrar una matriz de `Python` en forma de tabla con un bucle `for`, del siguiente modo"
   ]
  },
  {
   "cell_type": "code",
   "execution_count": 74,
   "id": "e336b6e6-390d-4c3f-a2f5-01565b150895",
   "metadata": {},
   "outputs": [
    {
     "name": "stdout",
     "output_type": "stream",
     "text": [
      "[1, 2, 3]\n",
      "[4, 5, 6]\n",
      "[7, 8, 9]\n"
     ]
    }
   ],
   "source": [
    "for row in matrix:\n",
    "    print(row)"
   ]
  },
  {
   "cell_type": "markdown",
   "id": "2307af29-f802-43e5-8cff-a2aecc15b171",
   "metadata": {},
   "source": [
    "Si lo que queremos es mostrar todos los elementos de la matriz en columna, podemos utilizar dos bucles `for` anidados del siguiente modo:"
   ]
  },
  {
   "cell_type": "code",
   "execution_count": 77,
   "id": "a9f3298e-4506-405b-a9fc-1d67620f345e",
   "metadata": {},
   "outputs": [
    {
     "name": "stdout",
     "output_type": "stream",
     "text": [
      "7\n",
      "8\n",
      "9\n",
      "7\n",
      "8\n",
      "9\n",
      "7\n",
      "8\n",
      "9\n"
     ]
    }
   ],
   "source": [
    "for i in matrix:\n",
    "    for element in row:\n",
    "        print(element)"
   ]
  },
  {
   "cell_type": "markdown",
   "id": "d419dcaa-e395-4e3f-a819-1c7fee075bbc",
   "metadata": {},
   "source": [
    "Si lo que queremos es mostrar la matriz en forma de tabla, sin comas ni claudators por en medio, lo podemos hacer de dos formas:\n",
    "\n",
    "- Haciendo uso de las dimensiones de la matriz y, por tanto, de la función `range()`\n",
    "- Sin hacer uso de las dimensiones\n",
    "\n",
    "La primera forma sería:"
   ]
  },
  {
   "cell_type": "code",
   "execution_count": 79,
   "id": "7d8d9c45-03fd-4559-bd03-de06498c062f",
   "metadata": {},
   "outputs": [
    {
     "name": "stdout",
     "output_type": "stream",
     "text": [
      "1 2 3  \n",
      "4 5 6  \n",
      "7 8 9  \n"
     ]
    }
   ],
   "source": [
    "# m es el número de filas y n, el de columnas\n",
    "m = len(matrix)\n",
    "n = len(matrix[0])\n",
    "\n",
    "for i in range(m):\n",
    "    for j in range(n):\n",
    "        print(matrix[i][j], end = ' ')\n",
    "    print(' ')"
   ]
  },
  {
   "cell_type": "markdown",
   "id": "dca48053-dbc4-4bb2-b682-a4f7913a3972",
   "metadata": {},
   "source": [
    "**Observación.**\n",
    "\n",
    "1. Como todas las filas tienen el mismo número de elementos, nos da igual si calculamos $n$ con la primera fila o con cualquier otra.\n",
    "2. Hemos hecho uso del parámetro `end` de la función `print()` para indicar si, en vez de un salto de línea como ocurre por defecto, queremos que suceda otra cosa inmediatamente después de ejecutar la función `print()`. En este caso, hemos indicado que queremos un espacio en blanco.\n",
    "\n",
    "Y la segunda forma, es la siguiente:"
   ]
  },
  {
   "cell_type": "code",
   "execution_count": 81,
   "id": "cb943ea8-9cef-4835-897d-c8409399e2a8",
   "metadata": {},
   "outputs": [
    {
     "name": "stdout",
     "output_type": "stream",
     "text": [
      "1 2 3  \n",
      "4 5 6  \n",
      "7 8 9  \n"
     ]
    }
   ],
   "source": [
    "for row in matrix:\n",
    "    for element in row:\n",
    "        print(element, end = ' ')\n",
    "    print(' ')"
   ]
  },
  {
   "cell_type": "markdown",
   "id": "36c2ebbb-aeaf-4f47-affb-ac9fa85ef1c0",
   "metadata": {},
   "source": [
    "#### Suma de matrices\n",
    "\n",
    "Para poder sumar dos matrices, necesitamos que tengan la misma dimensión. Entonces, dadas $A$ y $B$ dos matrices con dimensión $m\\times n$, su suma será una matriz de dimensión $m\\times n$ y sus elementos se obtienen del siguiente modo:\n",
    "\n",
    "$$\\begin{array}{lll}A + B &=& (a_{ij})_{m\\times n} + (b_{ij})_{m\\times n} = (a_{ij} + b_{ij})_{m\\times n}\\\\ \n",
    "&=&\\begin{pmatrix} \n",
    "a_{11} & a_{12} & \\cdots & a_{1n}\\\\\n",
    "a_{21} & a_{22} & \\cdots & a_{2n}\\\\\n",
    "\\vdots & \\vdots & \\ddots & \\vdots\\\\\n",
    "a_{m1} & a_{m2} & \\cdots & a_{mn}\\\\\n",
    "\\end{pmatrix} + \\begin{pmatrix} \n",
    "b_{11} &b_{12} & \\cdots &b_{1n}\\\\\n",
    "b_{21} &b_{22} & \\cdots &b_{2n}\\\\\n",
    "\\vdots & \\vdots & \\ddots & \\vdots\\\\\n",
    "b_{m1} &b_{m2} & \\cdots & b_{mn}\\\\\n",
    "\\end{pmatrix} = \\begin{pmatrix} \n",
    "a_{11} + b_{11} & a_{12} + b_{12} & \\cdots & a_{1n} + b_{1n}\\\\\n",
    "a_{21} + b_{21} & a_{22} + b_{22} & \\cdots & a_{2n} + b_{2n}\\\\\n",
    "\\vdots & \\vdots & \\ddots & \\vdots\\\\\n",
    "a_{m1} + b_{m1} & a_{m2} + b_{m2} & \\cdots & a_{mn} + b_{mn}\\\\\n",
    "\\end{pmatrix}\n",
    "\\end{array}$$"
   ]
  },
  {
   "cell_type": "markdown",
   "id": "9092392d-401f-4eb5-aa73-2a72d9a43576",
   "metadata": {},
   "source": [
    "Dadas dos matrices con la misma dimensión, las podemos usar haciendo uso de bucles `for` anidados."
   ]
  },
  {
   "cell_type": "code",
   "execution_count": 82,
   "id": "242193c9-d786-428f-9a23-feef50f2a724",
   "metadata": {},
   "outputs": [
    {
     "name": "stdout",
     "output_type": "stream",
     "text": [
      "[[0, -2, -3], [0, 3, 1], [-1, -1, -3]]\n"
     ]
    }
   ],
   "source": [
    "A = [[1, 0, -3], [2, 0, 1], [-1, -1, 0]]\n",
    "B = [[-1, -2, 0], [-2, 3, 0], [0, 0, -3]]\n",
    "\n",
    "m = len(A)\n",
    "n = len(A[0])\n",
    "\n",
    "if len(A) == len(B) and len(A[0]) == len(B[0]):\n",
    "    C = []\n",
    "\n",
    "    for i in range(m):\n",
    "        C.append([])\n",
    "        for j in range(n):\n",
    "            C[i].append(A[i][j] + B[i][j])\n",
    "\n",
    "    print(C)\n",
    "\n",
    "else:\n",
    "    print(\"No se puede realizar la suma, pues las dimensiones de las matrices no coinciden.\")"
   ]
  },
  {
   "cell_type": "markdown",
   "id": "9d680dd6-ba01-4ce3-bdc7-d0e5087d0097",
   "metadata": {},
   "source": [
    "El resultado de sumar las matrices $A$ y $B$ ha sido\n",
    "\n",
    "$$\\begin{pmatrix}\n",
    "1 & 0 & -3\\\\\n",
    "2 & 0 & 1\\\\\n",
    "-1 & -1 & 0\\end{pmatrix} + \\begin{pmatrix}\n",
    "-1 & -2 & 0\\\\\n",
    "-2 & -3 & 0\\\\\n",
    "0 & 0 & -3\\end{pmatrix} = \n",
    "\\begin{pmatrix}\n",
    "0 & -2 & -3\\\\\n",
    "0 & -3 & 1\\\\\n",
    "-1 & -1 & -3\\end{pmatrix}$$"
   ]
  },
  {
   "cell_type": "code",
   "execution_count": 83,
   "id": "96635b50-7ce3-4132-ba14-479d34ea52c7",
   "metadata": {},
   "outputs": [
    {
     "name": "stdout",
     "output_type": "stream",
     "text": [
      "[0, -2, -3]\n",
      "[0, 3, 1]\n",
      "[-1, -1, -3]\n"
     ]
    }
   ],
   "source": [
    "for row in C:\n",
    "    print(row)"
   ]
  },
  {
   "cell_type": "markdown",
   "id": "100ad412-6c0a-4e87-bde7-3ec96ac0f6ed",
   "metadata": {},
   "source": [
    "**Observación.** Hemos puesto un `if` que, suponiendo que tanto $A$ como $B$ son matrices, comprueba si sus dimensiones coinciden. De ser cierto, procede a hacer la suma. De lo contrario, devuelve un mensaje indicando que la suma no puede llevarse a cabo."
   ]
  },
  {
   "cell_type": "markdown",
   "id": "a56aa1ed-20ce-4169-83b1-eeb08a2b6a44",
   "metadata": {},
   "source": [
    "#### Producto de matrices\n",
    "\n",
    "Para poder multiplicar matrices, necesitamos que la matriz de la izquierda tenga el mismo número de columnas que número de filas tiene la matriz de la derecha. Entonces, dadas las matrices $A$ y $B$ de dimensiones $m\\times n$ y $n\\times p$ respectivamente, su producto será una matriz de dimensión $m\\times p$ y se obtiene del siguiente modo:\n",
    "\n",
    "$$\\begin{array}{lll}A\\cdot B &=& (a_{ij})_{m\\times n}\\cdot (b_{ij})_{n\\times p} = \\left(\\sum_{k = 1}^n a_{ik}\\cdot b_{kj}\\right)_{m\\times p}\\\\\n",
    "&=& \\begin{pmatrix} \n",
    "a_{11} & a_{12} & \\cdots & a_{1n}\\\\\n",
    "a_{21} & a_{22} & \\cdots & a_{2n}\\\\\n",
    "\\vdots & \\vdots & \\ddots & \\vdots\\\\\n",
    "a_{m1} & a_{m2} & \\cdots & a_{mn}\\\\\n",
    "\\end{pmatrix} \\cdot \\begin{pmatrix} \n",
    "b_{11} &b_{12} & \\cdots &b_{1p}\\\\\n",
    "b_{21} &b_{22} & \\cdots &b_{2p}\\\\\n",
    "\\vdots & \\vdots & \\ddots & \\vdots\\\\\n",
    "b_{n1} &b_{n2} & \\cdots & b_{np}\\\\\n",
    "\\end{pmatrix} = \\begin{pmatrix} \n",
    "a_{11}\\cdot b_{11} + a_{12} \\cdot b_{21} + \\cdots + a_{1n}\\cdot b_{n1} & \\sum_{k = 1}^n a_{1k}\\cdot b_{k2} & \\cdots & \\sum_{k = 1}^n a_{1k}\\cdot b_{kp}\\\\\n",
    "a_{21}\\cdot b_{11} + a_{22} \\cdot b_{21} + \\cdots + a_{2n}\\cdot b_{n1} & \\sum_{k = 1}^n a_{2k}\\cdot b_{k2} & \\cdots & \\sum_{k = 1}^n a_{2k}\\cdot b_{kp}\\\\\n",
    "\\vdots & \\vdots & \\ddots & \\vdots\\\\\n",
    "a_{m1}\\cdot b_{11} + a_{m2} \\cdot b_{21} + \\cdots + a_{mn}\\cdot b_{n1} & \\sum_{k = 1}^n a_{mk}\\cdot b_{k2} & \\cdots & \\sum_{k = 1}^n a_{mk}\\cdot b_{kp}\n",
    "\\end{pmatrix}\\end{array}$$"
   ]
  },
  {
   "cell_type": "code",
   "execution_count": 84,
   "id": "bf5e64d5-c764-47e4-9c4e-e59aa4252c84",
   "metadata": {},
   "outputs": [],
   "source": [
    "A = [[1, 0, -3, 2], [2, 0, 1, 1], [-1, 0, -1, 0]]\n",
    "B = [[-1, -2, 0], [-2, 3, 0], [0, 0, -3], [1, 1, -1]]\n",
    "\n",
    "m, n, p = len(A), len(B), len(B[0])\n",
    "\n",
    "C = []\n",
    "\n",
    "for i in range(m):\n",
    "    C.append([])\n",
    "    for j in range(p):\n",
    "        elemento = 0\n",
    "        for k in range(n):\n",
    "            elemento = elemento + A[i][k] * B[k][j]\n",
    "        C[i].append(elemento)"
   ]
  },
  {
   "cell_type": "markdown",
   "id": "c7a7dd28-4c8b-47d3-9ba2-1125f1ce1bb4",
   "metadata": {},
   "source": [
    "El resultado de multiplicar las matrices $A$ y $B$ ha sido\n",
    "\n",
    "$$\\begin{array}{lll} A\\cdot B &=& \n",
    "\\begin{pmatrix}\n",
    "1 & 0 & -3 & 2\\\\\n",
    "2 & 0 & 1 & 1\\\\\n",
    "-1 & 0 & -1 & 0\n",
    "\\end{pmatrix}\\cdot\\begin{pmatrix}\n",
    "-1 & -2 & 0\\\\\n",
    "-2 & 3 & 0\\\\\n",
    "0 & 0 & -3\\\\\n",
    "1 & 1 & -1\n",
    "\\end{pmatrix}\\\\ &=& \\begin{pmatrix}\n",
    "1\\cdot (-1) + 0\\cdot (-2) -3\\cdot 0 + 2\\cdot 1 & 1\\cdot (-2) + 0\\cdot 3 -3\\cdot 0 + 2\\cdot 1 & 1\\cdot 0 + 0\\cdot 0 -3\\cdot (-3) + 2\\cdot (-1)\\\\\n",
    "2\\cdot (-1) + 0\\cdot (-2) + 1\\cdot 0 + 1\\cdot 1  & 2\\cdot (-2) + 0\\cdot 3 + 1\\cdot 0 + 1\\cdot 1 & 2\\cdot 0 + 0\\cdot 0 + 1\\cdot (-3) + 1\\cdot (-1)\\\\\n",
    "-1\\cdot (-1) + 0\\cdot (-2) -1\\cdot 0 + 0\\cdot 1  & -1\\cdot (-2) + 0\\cdot 3 -1\\cdot 0 + 0\\cdot 1 & -1\\cdot 0 + 0\\cdot 0 -1\\cdot (-3) + 0\\cdot (-1)\n",
    "\\end{pmatrix}\\\\ &=& \\begin{pmatrix}\n",
    "1 & 0 & 7\\\\\n",
    "-1 & -3 & -4\\\\\n",
    "1 & 2 & 3\n",
    "\\end{pmatrix}\n",
    "\\end{array}$$"
   ]
  },
  {
   "cell_type": "code",
   "execution_count": 85,
   "id": "998b84e1-a4f5-487c-b22b-2d7706d85083",
   "metadata": {},
   "outputs": [
    {
     "name": "stdout",
     "output_type": "stream",
     "text": [
      "[1, 0, 7]\n",
      "[-1, -3, -4]\n",
      "[1, 2, 3]\n"
     ]
    }
   ],
   "source": [
    "for row in C:\n",
    "    print(row)"
   ]
  },
  {
   "cell_type": "markdown",
   "id": "bad2e0d1-b597-4224-a3b3-f359f5116284",
   "metadata": {},
   "source": [
    "--- \n",
    "\n",
    "### Ejercicio 5\n",
    "\n",
    "Vamos a crear manualmente una matriz de tamaño 4 x 4 y guardarla en una lista."
   ]
  },
  {
   "cell_type": "code",
   "execution_count": 90,
   "id": "b7ea99e0-dc76-4b5b-aad7-7cc1333bdb00",
   "metadata": {},
   "outputs": [
    {
     "name": "stdin",
     "output_type": "stream",
     "text": [
      "Introduce el elemento (0,0):  1\n",
      "Introduce el elemento (0,1):  2\n",
      "Introduce el elemento (0,2):  3\n",
      "Introduce el elemento (0,3):  4\n",
      "Introduce el elemento (1,0):  5\n",
      "Introduce el elemento (1,1):  6\n",
      "Introduce el elemento (1,2):  7\n",
      "Introduce el elemento (1,3):  8\n",
      "Introduce el elemento (2,0):  9\n",
      "Introduce el elemento (2,1):  10\n",
      "Introduce el elemento (2,2):  11\n",
      "Introduce el elemento (2,3):  12\n",
      "Introduce el elemento (3,0):  13\n",
      "Introduce el elemento (3,1):  14\n",
      "Introduce el elemento (3,2):  15\n",
      "Introduce el elemento (3,3):  16\n"
     ]
    },
    {
     "name": "stdout",
     "output_type": "stream",
     "text": [
      "1.0  2.0  3.0  4.0  \n",
      "5.0  6.0  7.0  8.0  \n",
      "9.0  10.0  11.0  12.0  \n",
      "13.0  14.0  15.0  16.0  \n"
     ]
    }
   ],
   "source": [
    "A = []\n",
    "\n",
    "for i in range(4):\n",
    "    A.append([])\n",
    "    for j in range(4):\n",
    "        A[i].append(float(input(\"Introduce el elemento ({},{}): \".format(i, j))))\n",
    "\n",
    "for i in range(4):\n",
    "    for j in range(4):\n",
    "        print(A[i][j], end = \"  \" if A[i][j] >= 0 else \" \")\n",
    "    print(\"\")"
   ]
  },
  {
   "cell_type": "markdown",
   "id": "b05bfb68-dc97-4527-99e2-dbc75df83d36",
   "metadata": {},
   "source": [
    "---\n",
    "\n",
    "### Ejercicio 6\n",
    "\n",
    "Vamos a sumar dos matrices con listas. Ambas matrices serán proporcionadas por el usuario, así como la dimensión de las matrices."
   ]
  },
  {
   "cell_type": "code",
   "execution_count": 93,
   "id": "87bf67bc-5e03-4c6e-a343-45c8a2f7e55e",
   "metadata": {},
   "outputs": [
    {
     "name": "stdin",
     "output_type": "stream",
     "text": [
      "Número de filas de la matriz A:  2\n",
      "Número de columnas de la matriz A:  2\n",
      "Número de columnas de la matriz B:  2\n"
     ]
    },
    {
     "name": "stdout",
     "output_type": "stream",
     "text": [
      "\n",
      "=== Matriz A ===\n"
     ]
    },
    {
     "name": "stdin",
     "output_type": "stream",
     "text": [
      "Introduce el elemento (0,0)  1\n",
      "Introduce el elemento (0,1)  2\n",
      "Introduce el elemento (1,0)  3\n",
      "Introduce el elemento (1,1)  4\n"
     ]
    },
    {
     "name": "stdout",
     "output_type": "stream",
     "text": [
      "\n",
      "=== Matriz B ===\n"
     ]
    },
    {
     "name": "stdin",
     "output_type": "stream",
     "text": [
      "Introduce el elemento (0,0)  1\n",
      "Introduce el elemento (0,1)  2\n",
      "Introduce el elemento (1,0)  3\n",
      "Introduce el elemento (1,1)  4\n"
     ]
    },
    {
     "name": "stdout",
     "output_type": "stream",
     "text": [
      "\n",
      "=== Matriz A + B ===\n",
      "2.0  4.0  \n",
      "6.0  8.0  \n"
     ]
    }
   ],
   "source": [
    "n = int(input(\"Número de filas de la matriz A: \"))\n",
    "m = int(input(\"Número de columnas de la matriz A: \"))\n",
    "p = int(input(\"Número de columnas de la matriz B: \"))\n",
    "\n",
    "A = []\n",
    "print(\"\\n=== Matriz A ===\")\n",
    "for i in range(n):\n",
    "    A.append([])\n",
    "    for j in range(m):\n",
    "        A[i].append(float(input(\"Introduce el elemento ({},{}) \".format(i,j))))\n",
    "\n",
    "B = []\n",
    "print(\"\\n=== Matriz B ===\")\n",
    "for i in range(m):\n",
    "    B.append([])\n",
    "    for j in range(p):\n",
    "        B[i].append(float(input(\"Introduce el elemento ({},{}) \".format(i,j))))\n",
    "\n",
    "C = []\n",
    "for i in range(n):\n",
    "    C.append([])\n",
    "    for j in range(m):\n",
    "        C[i].append(A[i][j] + B[i][j])\n",
    "\n",
    "print(\"\\n=== Matriz A + B ===\")\n",
    "for i in range(n):\n",
    "    for j in range(m):\n",
    "        print(C[i][j], end = \"  \" if C[i][j] >= 0 else \" \")\n",
    "    print(\"\")\n",
    "    "
   ]
  },
  {
   "cell_type": "markdown",
   "id": "f1619177-11df-4474-a84c-55ba2f74f14d",
   "metadata": {},
   "source": [
    "---\n",
    "\n",
    "### Ejercicio 7\n",
    "\n",
    "Vamos a calcular el producto de dos matrices con listas. Ambas matrices serán dadas por el usuario así como las dimensiones de ambas."
   ]
  },
  {
   "cell_type": "code",
   "execution_count": 91,
   "id": "26380908-d156-4d8d-8f4d-8636ce9ed525",
   "metadata": {},
   "outputs": [
    {
     "name": "stdin",
     "output_type": "stream",
     "text": [
      "Número de filas de la matriz A:  3\n",
      "Número de columnas de la matriz A:  3\n",
      "Número de columnas de la matriz B:  3\n"
     ]
    },
    {
     "name": "stdout",
     "output_type": "stream",
     "text": [
      "\n",
      "=== Matriz A ===\n"
     ]
    },
    {
     "name": "stdin",
     "output_type": "stream",
     "text": [
      "Introduce el elemento (0,0)  1\n",
      "Introduce el elemento (0,1)  2\n",
      "Introduce el elemento (0,2)  3\n",
      "Introduce el elemento (1,0)  4\n",
      "Introduce el elemento (1,1)  5\n",
      "Introduce el elemento (1,2)  6\n",
      "Introduce el elemento (2,0)  7\n",
      "Introduce el elemento (2,1)  8\n",
      "Introduce el elemento (2,2)  9\n"
     ]
    },
    {
     "name": "stdout",
     "output_type": "stream",
     "text": [
      "\n",
      "=== Matriz B ===\n"
     ]
    },
    {
     "name": "stdin",
     "output_type": "stream",
     "text": [
      "Introduce el elemento (0,0)  1\n",
      "Introduce el elemento (0,1)  2\n",
      "Introduce el elemento (0,2)  3\n",
      "Introduce el elemento (1,0)  4\n",
      "Introduce el elemento (1,1)  5\n",
      "Introduce el elemento (1,2)  6\n",
      "Introduce el elemento (2,0)  7\n",
      "Introduce el elemento (2,1)  8\n",
      "Introduce el elemento (2,2)  9\n"
     ]
    },
    {
     "name": "stdout",
     "output_type": "stream",
     "text": [
      "\n",
      "=== Matriz A · B ===\n",
      "30.0  36.0  42.0  \n",
      "66.0  81.0  96.0  \n",
      "102.0  126.0  150.0  \n"
     ]
    }
   ],
   "source": [
    "n = int(input(\"Número de filas de la matriz A: \"))\n",
    "m = int(input(\"Número de columnas de la matriz A: \"))\n",
    "p = int(input(\"Número de columnas de la matriz B: \"))\n",
    "\n",
    "A = []\n",
    "print(\"\\n=== Matriz A ===\")\n",
    "for i in range(n):\n",
    "    A.append([])\n",
    "    for j in range(m):\n",
    "        A[i].append(float(input(\"Introduce el elemento ({},{}) \".format(i,j))))\n",
    "\n",
    "B = []\n",
    "print(\"\\n=== Matriz B ===\")\n",
    "for i in range(m):\n",
    "    B.append([])\n",
    "    for j in range(p):\n",
    "        B[i].append(float(input(\"Introduce el elemento ({},{}) \".format(i,j))))\n",
    "\n",
    "C = []\n",
    "for i in range(n):\n",
    "    C.append([])\n",
    "    for j in range(p):\n",
    "        elemento = 0\n",
    "        for k in range(m):\n",
    "            elemento += A[i][k] * B[k][j]\n",
    "        C[i].append(elemento)\n",
    "\n",
    "print(\"\\n=== Matriz A · B ===\")\n",
    "for i in range(n):\n",
    "    for j in range(p):\n",
    "        print(C[i][j], end = \"  \" if C[i][j] >= 0 else \" \")\n",
    "    print(\"\")\n",
    "    "
   ]
  },
  {
   "cell_type": "markdown",
   "id": "65068cd9-3aa1-4b85-aa9d-b90ba09d83bd",
   "metadata": {},
   "source": [
    "#### Matrices con `numpy`\n",
    "\n",
    "Existe una forma más sencilla de trabajar con matricdes y es gracias a la librería `numpy`. Para importarla, simplemente hay que ejecutar la siguiente línea de código."
   ]
  },
  {
   "cell_type": "code",
   "execution_count": 86,
   "id": "bb856cdf-a0bd-4078-82a8-30ebb265a1cb",
   "metadata": {},
   "outputs": [],
   "source": [
    "import numpy as np"
   ]
  },
  {
   "cell_type": "markdown",
   "id": "f8ac91f0-239c-4b34-8ec9-1a590a803a3d",
   "metadata": {},
   "source": [
    "Para crear una matriz vacía, usamos el método `.empty()`, al que le indicamos por parámetro las dimensiones"
   ]
  },
  {
   "cell_type": "code",
   "execution_count": null,
   "id": "7f66ed0f-b5e8-4122-9f2c-46ca4c278391",
   "metadata": {},
   "outputs": [],
   "source": []
  },
  {
   "cell_type": "markdown",
   "id": "df34a930-ff6c-4469-a184-10a55b453a70",
   "metadata": {},
   "source": [
    "Para crear una matriz vacía con las mismas dimensiones de otra matriz definida anteriormente, usamos el método `.empty_like()`, al que le indicamos por parámetro la matriz existente"
   ]
  },
  {
   "cell_type": "code",
   "execution_count": null,
   "id": "8ec4c158-02d1-4c6b-86c2-c7bc7fcb91b9",
   "metadata": {},
   "outputs": [],
   "source": []
  },
  {
   "cell_type": "markdown",
   "id": "0d602864-1e95-484a-81e0-8ecfc979674d",
   "metadata": {},
   "source": [
    "Para crear una matriz nula, usamos el método `.zeros()`, al que le indicamos por parámetro las dimensiones"
   ]
  },
  {
   "cell_type": "code",
   "execution_count": null,
   "id": "3ce51170-9dfa-4c18-a60d-21c71829135e",
   "metadata": {},
   "outputs": [],
   "source": []
  },
  {
   "cell_type": "markdown",
   "id": "c9d6c643-2778-4ff9-8fc1-d6bb98b8154d",
   "metadata": {},
   "source": [
    "Para crear una matriz de ceros con las mismas dimensiones de otra matriz definida anteriormente, usamos el método `.zeros_like()`, al que le indicamos por parámetro la matriz existente"
   ]
  },
  {
   "cell_type": "code",
   "execution_count": null,
   "id": "3926e934-60a6-4c54-8652-38feb44d954a",
   "metadata": {},
   "outputs": [],
   "source": []
  },
  {
   "cell_type": "markdown",
   "id": "7cc65709-51a0-47b6-b430-6e35a99b2373",
   "metadata": {},
   "source": [
    "Para crear una matriz de unos, usamos el método `.ones()`, al que le indicamos por parámetro las dimensiones"
   ]
  },
  {
   "cell_type": "code",
   "execution_count": null,
   "id": "a6dc911c-5ce1-46ea-942d-805043ab067b",
   "metadata": {},
   "outputs": [],
   "source": []
  },
  {
   "cell_type": "markdown",
   "id": "6dbc4dc1-818b-451b-9bdf-d80da74e0e8b",
   "metadata": {},
   "source": [
    "Para crear una matriz de unos con las mismas dimensiones de otra matriz definida anteriormente, usamos el método `.ones_like()`, al que le indicamos por parámetro la matriz existente"
   ]
  },
  {
   "cell_type": "code",
   "execution_count": null,
   "id": "b9255443-05e2-4136-ac10-f9a8bcdf4af1",
   "metadata": {},
   "outputs": [],
   "source": []
  },
  {
   "cell_type": "markdown",
   "id": "d04bbff8-b4f5-494c-bfd9-e9e29ca82ff8",
   "metadata": {},
   "source": [
    "Podemos crear matrices de numpy a partir de listas con el método `.matrix()`"
   ]
  },
  {
   "cell_type": "code",
   "execution_count": null,
   "id": "3d40e033-c826-4531-8b6b-e275efda293e",
   "metadata": {},
   "outputs": [],
   "source": []
  },
  {
   "cell_type": "markdown",
   "id": "85b62ffa-2475-4306-be9e-2a7e6c385783",
   "metadata": {
    "tags": []
   },
   "source": [
    "Para saber las dimensiones de una matriz, podemos utilizar el método `.shape`"
   ]
  },
  {
   "cell_type": "code",
   "execution_count": null,
   "id": "688892b7-7e9f-476a-8e28-08fb6a1b7c07",
   "metadata": {},
   "outputs": [],
   "source": []
  },
  {
   "cell_type": "markdown",
   "id": "cf4cf0f8-c2cf-418c-9ecc-2a85e50cbef1",
   "metadata": {},
   "source": [
    "Ahora es más sencillo sumar matrices, pues solamente necesitamos la función `+`"
   ]
  },
  {
   "cell_type": "code",
   "execution_count": null,
   "id": "6299f524-f634-4dd9-a470-c95e3af3d18f",
   "metadata": {},
   "outputs": [],
   "source": []
  },
  {
   "cell_type": "markdown",
   "id": "427e824e-51e5-4caa-a31b-1d7f79d080e3",
   "metadata": {},
   "source": [
    "También es más sencillo hacer el producto matricial $A\\cdot B$ con el método `.dot()`"
   ]
  },
  {
   "cell_type": "code",
   "execution_count": null,
   "id": "17dcba49-02d4-466c-baf9-f3c1a3ff0baf",
   "metadata": {},
   "outputs": [],
   "source": []
  },
  {
   "cell_type": "markdown",
   "id": "3689f175-3b13-4fbd-81e6-9cf6bd6737ec",
   "metadata": {},
   "source": [
    "Gracias a `numpy`, también es mucho más sencillo mostrar una matriz en forma de tabla, pues nos basta con hacer uso de la función `print()`:"
   ]
  },
  {
   "cell_type": "code",
   "execution_count": null,
   "id": "61f6e003-baf2-456d-b577-d2b4f2a7892c",
   "metadata": {},
   "outputs": [],
   "source": []
  },
  {
   "cell_type": "markdown",
   "id": "a25a53fc-5181-4a45-8c6d-4baf1f1a893b",
   "metadata": {},
   "source": [
    "En futuras secciones hablaremos más detenidamente de todo lo que es capaz la librería `numpy`."
   ]
  },
  {
   "cell_type": "code",
   "execution_count": null,
   "id": "fdac1c22-7fe0-4132-af96-d2381fb2c4d6",
   "metadata": {},
   "outputs": [],
   "source": []
  }
 ],
 "metadata": {
  "kernelspec": {
   "display_name": "Python 3 (ipykernel)",
   "language": "python",
   "name": "python3"
  },
  "language_info": {
   "codemirror_mode": {
    "name": "ipython",
    "version": 3
   },
   "file_extension": ".py",
   "mimetype": "text/x-python",
   "name": "python",
   "nbconvert_exporter": "python",
   "pygments_lexer": "ipython3",
   "version": "3.8.12"
  }
 },
 "nbformat": 4,
 "nbformat_minor": 5
}
