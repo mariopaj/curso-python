{
 "cells": [
  {
   "cell_type": "markdown",
   "id": "5dcf9e76-c147-42c9-a205-fdab4bed8151",
   "metadata": {},
   "source": [
    "# Tema 3 - Strings en Python"
   ]
  },
  {
   "cell_type": "markdown",
   "id": "9764f060-b7dc-478c-9ac9-6575502c6004",
   "metadata": {},
   "source": [
    "## Variable string\n",
    "\n",
    "**String.** Cadena ordenada de caracteres.\n",
    "\n",
    "Una variable de tipo string es aquella que guarda un string. Cuando queremos que una variable se trate de una variable de tipo string, `str` en `Python`, a la hora de declararla, el contenido de la variable debe ir o bien entre comillas dobles `\" \"`, o bien entre comillas simples `' ' `."
   ]
  },
  {
   "cell_type": "code",
   "execution_count": 1,
   "id": "c5d9acbc-f803-4ae8-89ac-4612e3a929dd",
   "metadata": {},
   "outputs": [
    {
     "data": {
      "text/plain": [
       "str"
      ]
     },
     "execution_count": 1,
     "metadata": {},
     "output_type": "execute_result"
    }
   ],
   "source": [
    "s1 = 'Esto es un string entre comillas simples'\n",
    "\n",
    "type(s1)"
   ]
  },
  {
   "cell_type": "code",
   "execution_count": 2,
   "id": "8ecfe3c6-f538-4c58-bca2-66782c8924d4",
   "metadata": {},
   "outputs": [
    {
     "data": {
      "text/plain": [
       "str"
      ]
     },
     "execution_count": 2,
     "metadata": {},
     "output_type": "execute_result"
    }
   ],
   "source": [
    "s2 = \"Esto es un string entre comillas dobles\"\n",
    "\n",
    "type(s2)"
   ]
  },
  {
   "cell_type": "markdown",
   "id": "e8093705-99a5-4812-bc97-0578dfd700ed",
   "metadata": {},
   "source": [
    "**¡Cuidado!** `Python` no trabaja bien con los acentos. Por tanto, aunque no esté del todo bien escrito, mejor evitarlos, pues nos ahorraremos muchos problemas."
   ]
  },
  {
   "cell_type": "code",
   "execution_count": 3,
   "id": "9dad4fce-c503-41c3-b7d3-6477ec3aa7eb",
   "metadata": {},
   "outputs": [
    {
     "data": {
      "text/plain": [
       "\"Mario dijo: 'cuidado con las comillas'\""
      ]
     },
     "execution_count": 3,
     "metadata": {},
     "output_type": "execute_result"
    }
   ],
   "source": [
    "\"Mario dijo: 'cuidado con las comillas'\" # Podemos introducir comillas simples dentro de comillas dobles, pero no alrevés"
   ]
  },
  {
   "cell_type": "markdown",
   "id": "209433c6-e2d6-4449-a3b7-e35a8d1ba0cd",
   "metadata": {},
   "source": [
    "### String literals\n",
    "\n",
    "El hecho de que el contenido de las variables de tipo `str` vaya entre comillas, ya sean simples o dobles, conlleva a que algunos caracteres deban ser tratados de forma especial. \n",
    "\n",
    "Aquí entran en juego los string literals. Algunos de los más utilizados se muestran en la siguiente tabla:\n",
    "\n",
    "Código | Significado |\n",
    "--- | --- |\n",
    "`\\\\` | Backslash, `\\`| \n",
    "`\\'` | Comilla simple, `'`| \n",
    "`\\\"` | Comilla doble, `\"`|  \n",
    "`\\n` | Salto de línea| \n",
    "`\\t` | Tabulación horizontal| \n",
    "\n",
    "Para más información acerca de los string literals ir a la [documentación](https://docs.python.org/3.7/reference/lexical_analysis.html#string-and-bytes-literals)."
   ]
  },
  {
   "cell_type": "markdown",
   "id": "abce931a-6d80-4e99-9753-6ca0883fa595",
   "metadata": {},
   "source": [
    "#### Ejemplo 1\n",
    "\n",
    "Si queremos guardar en una variable el siguiente texto, \n",
    "\n",
    "`Juan dijo: \"me gusta el chocolate\"` \n",
    "\n",
    "lo tendremos que hacer del siguiente modo"
   ]
  },
  {
   "cell_type": "code",
   "execution_count": 4,
   "id": "f897680e-d16a-42e4-b4c5-f4934f25f352",
   "metadata": {},
   "outputs": [
    {
     "data": {
      "text/plain": [
       "'Juan dijo: \"me gusta el chocolate\"'"
      ]
     },
     "execution_count": 4,
     "metadata": {},
     "output_type": "execute_result"
    }
   ],
   "source": [
    "s1 = \"Juan dijo: \\\"me gusta el chocolate\\\"\"\n",
    "\n",
    "s1"
   ]
  },
  {
   "cell_type": "markdown",
   "id": "ca72527a-3b9d-45ee-92a7-356c99f47960",
   "metadata": {},
   "source": [
    "**Observación.** Si usamos comillas dobles, para guardar la frase de este ejemplo necesitaremos usar string literals, ya que si no nos saltará error. Sin embargo, si usamos comillas simples, para guardar la frase de este ejemplo en una variable no hace falta que cambiemos nada.\n",
    "\n",
    "---\n",
    "\n",
    "---\n",
    "#### Ejemplo 2\n",
    "\n",
    "Si queremos guardar en una variable el siguiente texto, \n",
    "\n",
    "`Ricardo dijo: 'me gusta la playa'` \n",
    "\n",
    "lo tendremos que hacer del siguiente modo"
   ]
  },
  {
   "cell_type": "code",
   "execution_count": 5,
   "id": "172dc7cc-541f-4128-8f93-0ddd658824d8",
   "metadata": {},
   "outputs": [
    {
     "data": {
      "text/plain": [
       "\"Ricardo dijo: 'me gusta la playa'\""
      ]
     },
     "execution_count": 5,
     "metadata": {},
     "output_type": "execute_result"
    }
   ],
   "source": [
    "s2 = \"Ricardo dijo: \\'me gusta la playa\\'\"\n",
    "\n",
    "s2"
   ]
  },
  {
   "cell_type": "markdown",
   "id": "092dc206-9784-44a3-b1cc-58b4b9af0d7a",
   "metadata": {},
   "source": [
    "#### Ejemplo 3\n",
    "\n",
    "Si queremos guardar en una variable el siguiente texto y que se conserve el salto de línea, \n",
    "\n",
    "`Con diez cañones por banda,`\n",
    "\n",
    "`viento en popa a toda vela` \n",
    "\n",
    "lo tendremos que hacer del siguiente modo"
   ]
  },
  {
   "cell_type": "code",
   "execution_count": 6,
   "id": "a77a998e-051a-4eef-89f1-9c60c008d5aa",
   "metadata": {},
   "outputs": [
    {
     "data": {
      "text/plain": [
       "'Con diez cañones por banda,\\nviento en popa a toda vela'"
      ]
     },
     "execution_count": 6,
     "metadata": {},
     "output_type": "execute_result"
    }
   ],
   "source": [
    "s3 = 'Con diez cañones por banda,\\nviento en popa a toda vela'\n",
    "\n",
    "s3"
   ]
  },
  {
   "cell_type": "markdown",
   "id": "10e68fb1-06d2-4575-930e-d71428daf376",
   "metadata": {},
   "source": [
    "**Observación.** El resultado con el salto de línea aplicado lo veremos cuando hablemos de la función `print()`, cosa que haremos más adelante en esta sección."
   ]
  },
  {
   "cell_type": "code",
   "execution_count": 7,
   "id": "f4535281-2f36-4df5-ad7c-d8f26f2ab1d1",
   "metadata": {},
   "outputs": [
    {
     "name": "stdout",
     "output_type": "stream",
     "text": [
      "Con diez cañones por banda,\n",
      "viento en popa a toda vela\n"
     ]
    }
   ],
   "source": [
    "print(s3)"
   ]
  },
  {
   "cell_type": "markdown",
   "id": "88d4285d-b504-4160-adbe-b8d574c45eab",
   "metadata": {},
   "source": [
    "## Concatenación de strings\n",
    "\n",
    "La concatenación es una operación que une dos o más strings en uno solo.\n",
    "\n",
    "En `Python`, para concatenar dos variables de tipo string usamos la función `+`."
   ]
  },
  {
   "cell_type": "code",
   "execution_count": 8,
   "id": "e1eacee7-8836-44c3-bd3c-4e4a8be4eb0c",
   "metadata": {},
   "outputs": [
    {
     "data": {
      "text/plain": [
       "'Hola, Mario'"
      ]
     },
     "execution_count": 8,
     "metadata": {},
     "output_type": "execute_result"
    }
   ],
   "source": [
    "s1 = 'Hola, '\n",
    "s2 = 'Mario'\n",
    "s1 + s2"
   ]
  },
  {
   "cell_type": "markdown",
   "id": "747117b8-3530-426a-a783-e267292bc130",
   "metadata": {},
   "source": [
    "**Observación.** La concatenación viene a ser como pegar el final del primer string con el princio del segundo. Entonces, conviene poner un espacio al final de la primera variable a concatenar, o bien al principio de la segunda para que así, al realizar la concatenación, exista ese espacio entre las palabras.\n",
    "\n",
    "De no añadir espacios adicionales, obtendríamos resultados como el mostrado en el siguiente chunk:"
   ]
  },
  {
   "cell_type": "code",
   "execution_count": 9,
   "id": "9ee18587-3d19-4fb0-a11c-839dede62260",
   "metadata": {},
   "outputs": [
    {
     "data": {
      "text/plain": [
       "'Bienvenidoal curso.'"
      ]
     },
     "execution_count": 9,
     "metadata": {},
     "output_type": "execute_result"
    }
   ],
   "source": [
    "s1 = 'Bienvenido'\n",
    "s2 = 'al curso.'\n",
    "\n",
    "s1 + s2"
   ]
  },
  {
   "cell_type": "markdown",
   "id": "aac70e2b-46a5-4c04-a3ea-519779755218",
   "metadata": {},
   "source": [
    "Si dejamos un espacio adicional al final del string `s1`, obtenemos"
   ]
  },
  {
   "cell_type": "code",
   "execution_count": 10,
   "id": "0927b778-a0e7-4323-a8be-af177cad52a1",
   "metadata": {},
   "outputs": [
    {
     "data": {
      "text/plain": [
       "'Bienvenido al curso.'"
      ]
     },
     "execution_count": 10,
     "metadata": {},
     "output_type": "execute_result"
    }
   ],
   "source": [
    "s1 = 'Bienvenido '\n",
    "s2 = 'al curso.'\n",
    "\n",
    "s1 + s2"
   ]
  },
  {
   "cell_type": "markdown",
   "id": "249e12d7-5491-4921-865f-6259b13570b1",
   "metadata": {},
   "source": [
    "## Repetición de strings\n",
    "\n",
    "La repetición es una operación que repite la variable string tantas veces como indiquemos.\n",
    "\n",
    "En `Python`, para repetir una variable de tipo string usamos la función `*`. El orden de los factores no altera el producto. Es decir, tanto da usar la sintaxis `num_repeticiones * variable_str` como `variable_str * num__repeticiones`."
   ]
  },
  {
   "cell_type": "code",
   "execution_count": 11,
   "id": "69e5b900-b246-4dfd-b94e-0ce934beab0f",
   "metadata": {},
   "outputs": [
    {
     "data": {
      "text/plain": [
       "'¿Falta mucho? ¿Falta mucho? ¿Falta mucho? ¿Falta mucho? ¿Falta mucho? '"
      ]
     },
     "execution_count": 11,
     "metadata": {},
     "output_type": "execute_result"
    }
   ],
   "source": [
    "s1 = '¿Falta mucho? '\n",
    "s1 * 5"
   ]
  },
  {
   "cell_type": "code",
   "execution_count": 12,
   "id": "0e65a415-5907-4b6f-a040-f329faa5b3d3",
   "metadata": {},
   "outputs": [
    {
     "data": {
      "text/plain": [
       "' ¿Hemos llegado ya? ¿Hemos llegado ya? ¿Hemos llegado ya? ¿Hemos llegado ya? ¿Hemos llegado ya?'"
      ]
     },
     "execution_count": 12,
     "metadata": {},
     "output_type": "execute_result"
    }
   ],
   "source": [
    "s2 = ' ¿Hemos llegado ya?'\n",
    "\n",
    "5 * s2"
   ]
  },
  {
   "cell_type": "markdown",
   "id": "88c72ba7-0eff-4ab8-bfe8-2263fa0031b9",
   "metadata": {},
   "source": [
    "**Observación.** Al igual que ocurría con la concatenación, hay que añadir manualmente uno o más espacios en blanco al principio o al final del string para que las repeticiones no estén pegadas las unas a las otras, tal y como ocurre en el siguiente chunk de código."
   ]
  },
  {
   "cell_type": "code",
   "execution_count": 13,
   "id": "d88d503d-e4f5-4205-8024-9681e82198cb",
   "metadata": {},
   "outputs": [
    {
     "data": {
      "text/plain": [
       "'Había una vez un barquito chiquititoHabía una vez un barquito chiquitito'"
      ]
     },
     "execution_count": 13,
     "metadata": {},
     "output_type": "execute_result"
    }
   ],
   "source": [
    "s3 = 'Había una vez un barquito chiquitito'\n",
    "\n",
    "s3 * 2"
   ]
  },
  {
   "cell_type": "markdown",
   "id": "a1bc1cd3-bde8-4019-bc7c-c99ab5718b22",
   "metadata": {},
   "source": [
    "## La función `print()`\n",
    "\n",
    "Hasta ahora, cada vez que mostrábamos strings por pantalla, estos salían entre comillas simples.\n",
    "\n",
    "La función `print()` nos sirve, entre otras muchas cosas, para mostrar strings por pantalla."
   ]
  },
  {
   "cell_type": "code",
   "execution_count": 14,
   "id": "52bea4c6-271c-402b-83a4-2c702be12407",
   "metadata": {},
   "outputs": [
    {
     "data": {
      "text/plain": [
       "'Hello world'"
      ]
     },
     "execution_count": 14,
     "metadata": {},
     "output_type": "execute_result"
    }
   ],
   "source": [
    "s = 'Hello world'\n",
    "\n",
    "s"
   ]
  },
  {
   "cell_type": "code",
   "execution_count": 15,
   "id": "b295eccf-6a9c-4aaf-8df3-815162d7bb7b",
   "metadata": {},
   "outputs": [
    {
     "name": "stdout",
     "output_type": "stream",
     "text": [
      "Hello world\n"
     ]
    }
   ],
   "source": [
    "print(s)"
   ]
  },
  {
   "cell_type": "markdown",
   "id": "b0dd0510-1087-4c5d-a763-8901bbd3de3e",
   "metadata": {},
   "source": [
    "**Observación.** Como véis, una de las principales diferencias entre usar la función `print()` o no usarla es que a la hora de mostrar la cadena de caracteres por pantalla, ésta no va entre comillas simples y el formato en que se imprime también es diferente."
   ]
  },
  {
   "cell_type": "markdown",
   "id": "bdecc45a-fca0-4c3c-b88f-e7f1c4fce2ac",
   "metadata": {},
   "source": [
    "No solamente podemos imprimir strings, sino que podemos mostrar el resultado de cualquier variable (numérica o de tipo string)"
   ]
  },
  {
   "cell_type": "code",
   "execution_count": 16,
   "id": "4b2aa046-363a-41d3-8c4a-7d8cbd73a5c1",
   "metadata": {},
   "outputs": [
    {
     "name": "stdout",
     "output_type": "stream",
     "text": [
      "Vivo en una isla\n"
     ]
    }
   ],
   "source": [
    "x = 'Vivo en una isla'\n",
    "\n",
    "print(x)"
   ]
  },
  {
   "cell_type": "code",
   "execution_count": 17,
   "id": "88134d7c-415d-4498-bf42-3e5f8078e608",
   "metadata": {},
   "outputs": [
    {
     "name": "stdout",
     "output_type": "stream",
     "text": [
      "2.0\n"
     ]
    }
   ],
   "source": [
    "y = 2.0\n",
    "\n",
    "print(y)"
   ]
  },
  {
   "cell_type": "markdown",
   "id": "d8a42312-996b-427c-946d-34e5f4aa4b11",
   "metadata": {},
   "source": [
    "Al igual que podíamos concatenar strings con la función `+`, combinando ésta junto con la función `print()` podemos concatenar strings con variables que almacenan strings"
   ]
  },
  {
   "cell_type": "code",
   "execution_count": 18,
   "id": "d28752da-93dc-48da-b716-f50e32b1d096",
   "metadata": {},
   "outputs": [
    {
     "name": "stdout",
     "output_type": "stream",
     "text": [
      "¡Buenos días, Don Pepito!\n"
     ]
    }
   ],
   "source": [
    "name = 'Don Pepito'\n",
    "\n",
    "print('¡Buenos días, ' + name + '!')"
   ]
  },
  {
   "cell_type": "markdown",
   "id": "f558274f-ed3a-4122-a25b-21a1f81ac3e7",
   "metadata": {},
   "source": [
    "**Observación.** Recordad introducir un espacio adicional siempre que vayáis a concatenar cualquier cosa (strings con strings, strings con variables...), para que así el resultado quede legible.\n",
    "\n",
    "**Observación.** Utilizando la función `print()`, el uso de acentos o de algunos caracteres especiales como `¿` o `¡` ya no dan problemas a la hora de mostrarse por pantalla.\n",
    "\n",
    "**Observación.** Podemos obtener exactamente el mismo resultado utilizando comas (`,`) en vez de la función `+`. Eso sí, después de cada coma se nos añade automáticamente un espacio en blanco que no siempre buscamos, como ocurre a continuación después del resultado de la variable `name`."
   ]
  },
  {
   "cell_type": "code",
   "execution_count": 19,
   "id": "c78bb5f8-bb77-434c-936d-39869475f355",
   "metadata": {},
   "outputs": [
    {
     "name": "stdout",
     "output_type": "stream",
     "text": [
      "¡Buenos días, Don Pepito !\n"
     ]
    }
   ],
   "source": [
    "name = 'Don Pepito'\n",
    "\n",
    "print('¡Buenos días,', name, '!')"
   ]
  },
  {
   "cell_type": "markdown",
   "id": "3bd50ad0-2cde-4af4-afbc-19caefff719a",
   "metadata": {},
   "source": [
    "Al igual que podíamos repetir un mismo string un número cualquiera de veces con la función `*`, combinando ésta junto con la función `print()` podemos multiplicar un string o variables que contengan strings"
   ]
  },
  {
   "cell_type": "code",
   "execution_count": 20,
   "id": "118c264e-76eb-4947-938b-9f30b182d6a8",
   "metadata": {},
   "outputs": [
    {
     "name": "stdout",
     "output_type": "stream",
     "text": [
      "¿Falta mucho? ¿Falta mucho? ¿Falta mucho? ¿Falta mucho? ¿Falta mucho? \n"
     ]
    }
   ],
   "source": [
    "print('¿Falta mucho? ' * 5)"
   ]
  },
  {
   "cell_type": "code",
   "execution_count": 21,
   "id": "08de33b0-8654-4548-be49-c015013f0449",
   "metadata": {},
   "outputs": [
    {
     "name": "stdout",
     "output_type": "stream",
     "text": [
      "¿Falta mucho? ¿Falta mucho? ¿Falta mucho? ¿Falta mucho? ¿Falta mucho? \n"
     ]
    }
   ],
   "source": [
    "pregunta = '¿Falta mucho? '\n",
    "\n",
    "print(pregunta * 5)"
   ]
  },
  {
   "cell_type": "markdown",
   "id": "cb9df360-47e7-49be-954c-93b7c51922c1",
   "metadata": {},
   "source": [
    "## Ejercicio 1\n",
    "\n",
    "Vamos a combinar concatenación y repetición de strings para reproducir la canción \"Cumpleaños feliz\""
   ]
  },
  {
   "cell_type": "code",
   "execution_count": 22,
   "id": "597e4798-fe68-419a-964c-59f74512a618",
   "metadata": {},
   "outputs": [
    {
     "name": "stdout",
     "output_type": "stream",
     "text": [
      "¡Cumpleaños feliz!\n",
      "¡Cumpleaños feliz!\n",
      "Te deseamos todos,\n",
      "¡Cumpleaños feliz!\n"
     ]
    }
   ],
   "source": [
    "s1 = \"¡Cumpleaños feliz!\"\n",
    "s2 = \"Te deseamos todos\"\n",
    "\n",
    "song = (s1 + '\\n') * 2 + s2 + ',\\n' + s1\n",
    "print(song)"
   ]
  },
  {
   "cell_type": "markdown",
   "id": "f56e3d46-3ef0-4229-bf97-cde6b68222da",
   "metadata": {},
   "source": [
    "### La función `str()`\n",
    "\n",
    "Con la función `str()`, podemos concatenar strings y variables de cualquier tipo dentro de un `print()`:"
   ]
  },
  {
   "cell_type": "code",
   "execution_count": 23,
   "id": "044dc59a-872a-4b82-9f3d-b2d6bfb12feb",
   "metadata": {},
   "outputs": [
    {
     "data": {
      "text/plain": [
       "int"
      ]
     },
     "execution_count": 23,
     "metadata": {},
     "output_type": "execute_result"
    }
   ],
   "source": [
    "x = 22\n",
    "\n",
    "type(x)"
   ]
  },
  {
   "cell_type": "code",
   "execution_count": 24,
   "id": "ab10d42c-b387-42c4-8c7c-eb69dfb7a618",
   "metadata": {},
   "outputs": [
    {
     "data": {
      "text/plain": [
       "str"
      ]
     },
     "execution_count": 24,
     "metadata": {},
     "output_type": "execute_result"
    }
   ],
   "source": [
    "type(str(x)) # str() convierte cualquier valor en string"
   ]
  },
  {
   "cell_type": "code",
   "execution_count": 25,
   "id": "d98aed05-b9fd-48d1-8d41-c574d74a51ab",
   "metadata": {},
   "outputs": [
    {
     "name": "stdout",
     "output_type": "stream",
     "text": [
      "Mi hermana se llama María y su edad es 22\n"
     ]
    }
   ],
   "source": [
    "nombre = 'María'\n",
    "edad = 22\n",
    "\n",
    "print('Mi hermana se llama ' + nombre + ' y su edad es ' + str(edad))"
   ]
  },
  {
   "cell_type": "markdown",
   "id": "64a38521-127f-4a7f-8581-8a1e6847000a",
   "metadata": {},
   "source": [
    "### El método `.format()`\n",
    "\n",
    "Existe otra forma de concatenar strings y variables de cualquier tipo dentro de un `print()` y es gracias al método `.format()`. Lo que hay que hacer es indicar con llaves, `{}`, donde queremos situar el resultado de las variables y luego, dentro de los paréntesis del método `.format()`, indicar las variables en su respectivo orden"
   ]
  },
  {
   "cell_type": "code",
   "execution_count": 26,
   "id": "96a4a643-ee2e-4789-a858-bcc613a1df7a",
   "metadata": {},
   "outputs": [
    {
     "name": "stdout",
     "output_type": "stream",
     "text": [
      "Mi abuelo se llama Ricardo y tiene 3 gatos\n"
     ]
    }
   ],
   "source": [
    "nombre = 'Ricardo'\n",
    "numero_gatos = 3\n",
    "\n",
    "print('Mi abuelo se llama {} y tiene {} gatos'.format(nombre, numero_gatos)) \n",
    "\n",
    "# la funcion format sustituye las llaves por las variables"
   ]
  },
  {
   "cell_type": "markdown",
   "id": "54bba6c1-78e2-46ed-8f60-1a9e82460ebc",
   "metadata": {},
   "source": [
    "### Saltos de línea y tabulaciones\n",
    "\n",
    "Si recordáis el ejemplo 3, teníamos la variable `s3`, que contenía un salto de línea"
   ]
  },
  {
   "cell_type": "code",
   "execution_count": 27,
   "id": "099ccff1-5dd3-40a3-bdb0-3772fbc2a722",
   "metadata": {},
   "outputs": [],
   "source": [
    "s3 = 'Con diez cañones por banda,\\nviento en popa a toda vela'"
   ]
  },
  {
   "cell_type": "markdown",
   "id": "f2a2b56e-b049-4319-a24a-d4f78686a9d9",
   "metadata": {},
   "source": [
    "Con la función `print()`, seremos capaces de visualizar dicho salto de línea"
   ]
  },
  {
   "cell_type": "code",
   "execution_count": 28,
   "id": "0bc6dd4f-0eed-4a56-8ff0-3105d0989e47",
   "metadata": {},
   "outputs": [
    {
     "name": "stdout",
     "output_type": "stream",
     "text": [
      "Con diez cañones por banda,\n",
      "viento en popa a toda vela\n"
     ]
    }
   ],
   "source": [
    "print(s3)"
   ]
  },
  {
   "cell_type": "markdown",
   "id": "fb532085-7aee-44f1-a4e0-511c84d2565e",
   "metadata": {},
   "source": [
    "Y lo mismo ocurriría con la tabulación horizontal."
   ]
  },
  {
   "cell_type": "code",
   "execution_count": 29,
   "id": "a33e4415-0b92-4dae-a7ee-15fe9ecdd089",
   "metadata": {},
   "outputs": [
    {
     "data": {
      "text/plain": [
       "'La string literal \\\\t producía \\t una tabulación horizontal'"
      ]
     },
     "execution_count": 29,
     "metadata": {},
     "output_type": "execute_result"
    }
   ],
   "source": [
    "s4 = 'La string literal \\\\t producía \\t una tabulación horizontal'\n",
    "s4"
   ]
  },
  {
   "cell_type": "code",
   "execution_count": 30,
   "id": "86a91815-3b53-4b39-aca6-33a941bd09da",
   "metadata": {},
   "outputs": [
    {
     "name": "stdout",
     "output_type": "stream",
     "text": [
      "La string literal \\t producía \t una tabulación horizontal\n"
     ]
    }
   ],
   "source": [
    "print(s4)"
   ]
  },
  {
   "cell_type": "markdown",
   "id": "d60626d5-fd3a-4da7-8b67-15e8e0cdf13c",
   "metadata": {},
   "source": [
    "## Substrings\n",
    "\n",
    "Para acceder a un caracter de una variable string usamos la sintaxis de `[]`"
   ]
  },
  {
   "cell_type": "code",
   "execution_count": 31,
   "id": "b2f9cd36-9ed9-428e-92c8-c5b38b23eeb7",
   "metadata": {},
   "outputs": [],
   "source": [
    "s = 'Soy fand e los videojuegos'"
   ]
  },
  {
   "cell_type": "code",
   "execution_count": 32,
   "id": "cc977821-087d-467e-8964-44dd4ecb988f",
   "metadata": {},
   "outputs": [
    {
     "data": {
      "text/plain": [
       "'S'"
      ]
     },
     "execution_count": 32,
     "metadata": {},
     "output_type": "execute_result"
    }
   ],
   "source": [
    "s[0] # Primer caracter"
   ]
  },
  {
   "cell_type": "code",
   "execution_count": 33,
   "id": "a720a373-f294-482a-a042-aa2eb25a2949",
   "metadata": {},
   "outputs": [
    {
     "data": {
      "text/plain": [
       "'a'"
      ]
     },
     "execution_count": 33,
     "metadata": {},
     "output_type": "execute_result"
    }
   ],
   "source": [
    "s[5] # Sexto caracter"
   ]
  },
  {
   "cell_type": "markdown",
   "id": "e9023895-b3d2-4d78-8a35-35fffdead402",
   "metadata": {},
   "source": [
    "**¡Cuidado!** En `Python`, los índices siempre empiezan en 0, al contrario de lo que ocurre con otros lenguajes de programación, como por ejemplo `R`."
   ]
  },
  {
   "cell_type": "markdown",
   "id": "23ed9619-8551-464d-b82d-25b5312a4b2d",
   "metadata": {},
   "source": [
    "Si precedemos el índice por un `-`, entonces empezamos desde el final"
   ]
  },
  {
   "cell_type": "code",
   "execution_count": 34,
   "id": "e1e17327-ee8a-4a96-b9e0-13c1e1867c26",
   "metadata": {},
   "outputs": [
    {
     "data": {
      "text/plain": [
       "'s'"
      ]
     },
     "execution_count": 34,
     "metadata": {},
     "output_type": "execute_result"
    }
   ],
   "source": [
    "s[-1] # Último elemento"
   ]
  },
  {
   "cell_type": "code",
   "execution_count": 35,
   "id": "0c0df1b1-7529-402a-9805-b972d1ace103",
   "metadata": {},
   "outputs": [
    {
     "data": {
      "text/plain": [
       "'o'"
      ]
     },
     "execution_count": 35,
     "metadata": {},
     "output_type": "execute_result"
    }
   ],
   "source": [
    "s[-7] # Séptimo elemento empezndo por el final"
   ]
  },
  {
   "cell_type": "markdown",
   "id": "f71bde29-ddaa-4acc-8c97-595441700a25",
   "metadata": {},
   "source": [
    "Si queremos acceder a varios caracteres seguidos, podemos utilizar la función :"
   ]
  },
  {
   "cell_type": "code",
   "execution_count": 36,
   "id": "83b584bb-49ea-4fc5-b345-a6c350e39ccd",
   "metadata": {},
   "outputs": [
    {
     "data": {
      "text/plain": [
       "'fan'"
      ]
     },
     "execution_count": 36,
     "metadata": {},
     "output_type": "execute_result"
    }
   ],
   "source": [
    "s [4:7] # Del quinto al séptimo (el último elemento no está incluido"
   ]
  },
  {
   "cell_type": "code",
   "execution_count": 37,
   "id": "e833c10e-c3df-43b9-b2c1-2989de5df5b3",
   "metadata": {},
   "outputs": [
    {
     "data": {
      "text/plain": [
       "'Soy fan'"
      ]
     },
     "execution_count": 37,
     "metadata": {},
     "output_type": "execute_result"
    }
   ],
   "source": [
    "s[:7] # Del primero al séptimo"
   ]
  },
  {
   "cell_type": "code",
   "execution_count": 38,
   "id": "8c61c40b-9445-44aa-9370-454c1eeafecc",
   "metadata": {},
   "outputs": [
    {
     "data": {
      "text/plain": [
       "' e los videojuegos'"
      ]
     },
     "execution_count": 38,
     "metadata": {},
     "output_type": "execute_result"
    }
   ],
   "source": [
    "s[8:] # Del noveno al final"
   ]
  },
  {
   "cell_type": "markdown",
   "id": "bd73334b-7596-41c4-b3ef-5b170fbde5a1",
   "metadata": {},
   "source": [
    "**¡Cuidado!** En `Python`, siempre que usemos la función `:`, el índice que se encuentra a la derecha nunca es incluido, tal y como hemos visto en los ejemplos anteriores."
   ]
  },
  {
   "cell_type": "markdown",
   "id": "06b99631-1a2d-4430-8bd7-bffc4a3a51f0",
   "metadata": {},
   "source": [
    "Si precedemos por - al índice de la izquierda de : y no ponemos ninguno a su derecha, lo que hacemos es obtener los últimos elementos"
   ]
  },
  {
   "cell_type": "code",
   "execution_count": 39,
   "id": "0aae5919-f964-4eb4-bc9f-b39c4b4762e2",
   "metadata": {},
   "outputs": [
    {
     "data": {
      "text/plain": [
       "'ideojuegos'"
      ]
     },
     "execution_count": 39,
     "metadata": {},
     "output_type": "execute_result"
    }
   ],
   "source": [
    "s[-10:] # Diez últimos elementos"
   ]
  },
  {
   "cell_type": "markdown",
   "id": "99afc70e-1772-44b8-8cf5-48167862521b",
   "metadata": {},
   "source": [
    "Si al contrario, precedemos por `-` al índice de la derecha, sin poner ningún índice a la izquierda de `:`, obtendremos todos los elementos salvo el número de elementos indicados por el índice (recordemos que si precedíamos por `-`, los índices empezaban desde el final)."
   ]
  },
  {
   "cell_type": "code",
   "execution_count": 40,
   "id": "21087580-689e-4a4b-9bc1-c317ebfd21af",
   "metadata": {},
   "outputs": [
    {
     "data": {
      "text/plain": [
       "'Soy fand e los v'"
      ]
     },
     "execution_count": 40,
     "metadata": {},
     "output_type": "execute_result"
    }
   ],
   "source": [
    "s[:-10] # De la primera posición hasta la décima empezando por detrás"
   ]
  },
  {
   "cell_type": "markdown",
   "id": "7240d08c-30be-418b-84e4-8048da27a5ec",
   "metadata": {},
   "source": [
    "## Métodos para trabajar con strings\n",
    "\n",
    "El método `.lower()` nos transforma el string que indiquemos a minúsculas."
   ]
  },
  {
   "cell_type": "code",
   "execution_count": 41,
   "id": "52f904b2-5422-4743-b4d8-f5a7069ed63a",
   "metadata": {},
   "outputs": [
    {
     "data": {
      "text/plain": [
       "'me encanta el chcocolate y las galletas'"
      ]
     },
     "execution_count": 41,
     "metadata": {},
     "output_type": "execute_result"
    }
   ],
   "source": [
    "s = 'Me ENCANTA el chcocolate y las galletas'\n",
    "\n",
    "s.lower()"
   ]
  },
  {
   "cell_type": "markdown",
   "id": "78ceae6c-a796-4f2d-8fa5-60645ebb1bce",
   "metadata": {},
   "source": [
    "El método `.upper()`, por el contrario, lo transforma a mayúsculas."
   ]
  },
  {
   "cell_type": "code",
   "execution_count": 42,
   "id": "be522fb2-7d4c-4ba8-8445-dc5b56a5ee6e",
   "metadata": {},
   "outputs": [
    {
     "data": {
      "text/plain": [
       "'ME ENCANTA EL CHCOCOLATE Y LAS GALLETAS'"
      ]
     },
     "execution_count": 42,
     "metadata": {},
     "output_type": "execute_result"
    }
   ],
   "source": [
    "s.upper()"
   ]
  },
  {
   "cell_type": "markdown",
   "id": "a7e9843c-a620-4ae1-8074-27a57ede4d48",
   "metadata": {},
   "source": [
    "El método `.count()` cuenta cuántas veces aparece una letra o un string dentro del string al cuál le aplicamos dicho método."
   ]
  },
  {
   "cell_type": "code",
   "execution_count": 43,
   "id": "fa33f002-92cb-4e2d-bac2-370289bd11fc",
   "metadata": {},
   "outputs": [
    {
     "data": {
      "text/plain": [
       "2"
      ]
     },
     "execution_count": 43,
     "metadata": {},
     "output_type": "execute_result"
    }
   ],
   "source": [
    "s.count('o')"
   ]
  },
  {
   "cell_type": "code",
   "execution_count": 44,
   "id": "0c17f12b-a325-4807-ba26-f56f16d97b81",
   "metadata": {},
   "outputs": [
    {
     "data": {
      "text/plain": [
       "2"
      ]
     },
     "execution_count": 44,
     "metadata": {},
     "output_type": "execute_result"
    }
   ],
   "source": [
    "s.count('la')"
   ]
  },
  {
   "cell_type": "markdown",
   "id": "119a4343-1f3a-44e4-a1c3-03411453e975",
   "metadata": {},
   "source": [
    "El método `.capitalize()` convierte a mayúscula el primer caracter de un string."
   ]
  },
  {
   "cell_type": "code",
   "execution_count": 45,
   "id": "67403ae5-bc64-44c6-9ecc-87f28aba777a",
   "metadata": {},
   "outputs": [
    {
     "data": {
      "text/plain": [
       "'Me encanta el chocolate'"
      ]
     },
     "execution_count": 45,
     "metadata": {},
     "output_type": "execute_result"
    }
   ],
   "source": [
    "s = 'me encanta el chocolate'\n",
    "\n",
    "s.capitalize()"
   ]
  },
  {
   "cell_type": "markdown",
   "id": "663b2d79-8121-42be-b725-08b062dbd4e4",
   "metadata": {},
   "source": [
    "El método `.title()` convierte a mayúscula el primer caracter de cada palabra de un string."
   ]
  },
  {
   "cell_type": "code",
   "execution_count": 46,
   "id": "6b9457cb-d5b1-4ae6-8007-ba30a329ccf0",
   "metadata": {},
   "outputs": [
    {
     "data": {
      "text/plain": [
       "'Me Encanta El Chocolate'"
      ]
     },
     "execution_count": 46,
     "metadata": {},
     "output_type": "execute_result"
    }
   ],
   "source": [
    "s.title()"
   ]
  },
  {
   "cell_type": "markdown",
   "id": "ab4e656c-6aa8-4825-b428-9bf427618c35",
   "metadata": {},
   "source": [
    "El método `.swapcase()` convierte a mayúscula las minúsculas y viceversa."
   ]
  },
  {
   "cell_type": "code",
   "execution_count": 47,
   "id": "71bef9fa-ed42-460c-867a-62bb025314f8",
   "metadata": {},
   "outputs": [
    {
     "data": {
      "text/plain": [
       "'mE encanta APRENDER pYTHON'"
      ]
     },
     "execution_count": 47,
     "metadata": {},
     "output_type": "execute_result"
    }
   ],
   "source": [
    "s = 'Me ENCANTA aprender Python'\n",
    "\n",
    "s.swapcase()"
   ]
  },
  {
   "cell_type": "markdown",
   "id": "e66b21e5-850b-405e-8d3b-9b26da84bf60",
   "metadata": {},
   "source": [
    "El método `.replace()` reemplaza el caracter (o caracteres) que le indiquemos por el string que queramos."
   ]
  },
  {
   "cell_type": "code",
   "execution_count": 48,
   "id": "875c27f4-a0e2-4f0e-a0d3-1917acf36116",
   "metadata": {},
   "outputs": [
    {
     "data": {
      "text/plain": [
       "'Los tomberis son malos'"
      ]
     },
     "execution_count": 48,
     "metadata": {},
     "output_type": "execute_result"
    }
   ],
   "source": [
    "s = 'Los tomberis son buenos'\n",
    "\n",
    "s.replace('buenos', 'malos')"
   ]
  },
  {
   "cell_type": "markdown",
   "id": "91582271-a8f8-40fc-9dd0-8b174952646f",
   "metadata": {},
   "source": [
    "El método `.split()` rompe el string en el caracter que le indiquemos y elimina dicho caracter."
   ]
  },
  {
   "cell_type": "code",
   "execution_count": 49,
   "id": "f7694034-56b3-47c5-9cc0-0e0c0cfe82bf",
   "metadata": {},
   "outputs": [
    {
     "data": {
      "text/plain": [
       "['El', 'elefante', 'tiene', 'las', 'orejas', 'muy', 'grandes']"
      ]
     },
     "execution_count": 49,
     "metadata": {},
     "output_type": "execute_result"
    }
   ],
   "source": [
    "s = 'El elefante tiene las orejas muy grandes'\n",
    "\n",
    "s.split() # Dividimos el string por palabras"
   ]
  },
  {
   "cell_type": "code",
   "execution_count": 50,
   "id": "0204d41b-8299-4950-8cb9-9a4e7df55df1",
   "metadata": {},
   "outputs": [
    {
     "data": {
      "text/plain": [
       "['El ', 'l', 'fant', ' ti', 'n', ' las or', 'jas muy grand', 's']"
      ]
     },
     "execution_count": 50,
     "metadata": {},
     "output_type": "execute_result"
    }
   ],
   "source": [
    "s.split('e') # Rompemos el string por la letra que indicamos"
   ]
  },
  {
   "cell_type": "code",
   "execution_count": 51,
   "id": "2487cacf-69ff-41e3-ab02-b1ab16e71723",
   "metadata": {},
   "outputs": [
    {
     "data": {
      "text/plain": [
       "['El elefante ', ' las orejas muy grandes']"
      ]
     },
     "execution_count": 51,
     "metadata": {},
     "output_type": "execute_result"
    }
   ],
   "source": [
    "s.split('tiene') # Rompemos el string por la palabra tiene"
   ]
  },
  {
   "cell_type": "markdown",
   "id": "cf80f9c8-7ae9-47e3-a20f-ac9889d57956",
   "metadata": {},
   "source": [
    "El método `.strip()` elimina los espacios sobrantes a principio y final del string."
   ]
  },
  {
   "cell_type": "code",
   "execution_count": 52,
   "id": "60d2df94-bc10-420f-b39d-e6fd6a7eca11",
   "metadata": {},
   "outputs": [
    {
     "data": {
      "text/plain": [
       "'El elefante tiene las orejas muy grandes'"
      ]
     },
     "execution_count": 52,
     "metadata": {},
     "output_type": "execute_result"
    }
   ],
   "source": [
    "s = '     El elefante tiene las orejas muy grandes    '\n",
    "\n",
    "s.strip()"
   ]
  },
  {
   "cell_type": "markdown",
   "id": "3f52a947-1ed8-4fb0-b75d-24d6233b2213",
   "metadata": {},
   "source": [
    "El método `.rstrip()` elimina los espacios sobrantes al final del string."
   ]
  },
  {
   "cell_type": "code",
   "execution_count": 53,
   "id": "02fe8840-518e-4a7e-a066-c30b23e58dfe",
   "metadata": {},
   "outputs": [
    {
     "data": {
      "text/plain": [
       "'     El elefante tiene las orejas muy grandes'"
      ]
     },
     "execution_count": 53,
     "metadata": {},
     "output_type": "execute_result"
    }
   ],
   "source": [
    "s.rstrip()"
   ]
  },
  {
   "cell_type": "markdown",
   "id": "d8acb981-41b0-47ed-8d50-96116d716775",
   "metadata": {},
   "source": [
    "El método `.lstrip()` elimina los espacios sobrantes al principio del string."
   ]
  },
  {
   "cell_type": "code",
   "execution_count": 54,
   "id": "575b33f8-1f68-4bcc-a516-f59ad9cc542f",
   "metadata": {},
   "outputs": [
    {
     "data": {
      "text/plain": [
       "'El elefante tiene las orejas muy grandes    '"
      ]
     },
     "execution_count": 54,
     "metadata": {},
     "output_type": "execute_result"
    }
   ],
   "source": [
    "s.lstrip()"
   ]
  },
  {
   "cell_type": "markdown",
   "id": "6f1f01db-0c09-4f66-ab38-6df736895fa9",
   "metadata": {},
   "source": [
    "El método `.find()` busca el caracter que indiquemos y nos devuelve la primera posición en la que aparece."
   ]
  },
  {
   "cell_type": "code",
   "execution_count": 55,
   "id": "dc94a1b1-cc9f-4415-a631-a5a53b892b13",
   "metadata": {},
   "outputs": [
    {
     "data": {
      "text/plain": [
       "3"
      ]
     },
     "execution_count": 55,
     "metadata": {},
     "output_type": "execute_result"
    }
   ],
   "source": [
    "s = 'Este es un curso de Python para hacer en casa o en cualquier lado'\n",
    "\n",
    "s.find('e') # Aparece en la posición del string 3"
   ]
  },
  {
   "cell_type": "markdown",
   "id": "732a10ae-55f5-4939-8199-b96481852d62",
   "metadata": {},
   "source": [
    "Si le pedimos buscar un conjunto de caracteres, nos devuelve la posición del primer caracter de dicho conjunto"
   ]
  },
  {
   "cell_type": "code",
   "execution_count": 56,
   "id": "8e50d680-ca08-467d-a7fa-8096a4ca26c4",
   "metadata": {},
   "outputs": [
    {
     "data": {
      "text/plain": [
       "41"
      ]
     },
     "execution_count": 56,
     "metadata": {},
     "output_type": "execute_result"
    }
   ],
   "source": [
    "s.find('casa') # Nos devuelve la posición de la primera letra de la palabra"
   ]
  },
  {
   "cell_type": "markdown",
   "id": "0ca083e3-37bb-45d7-8a33-bf86c0884056",
   "metadata": {},
   "source": [
    "El método `.find()` tiene otros dos parámetros de uso opcional: `start` y `end`, que sirven para indicar donde queremos que empiece la búsqueda y donde queremos que acabe."
   ]
  },
  {
   "cell_type": "code",
   "execution_count": 57,
   "id": "3e5afb41-b6d0-48fa-916a-4b14c464d355",
   "metadata": {},
   "outputs": [
    {
     "data": {
      "text/plain": [
       "18"
      ]
     },
     "execution_count": 57,
     "metadata": {},
     "output_type": "execute_result"
    }
   ],
   "source": [
    "s.find('e', 10) # Indicamos donde queremos que empiece a buscar (marcamos el start)"
   ]
  },
  {
   "cell_type": "code",
   "execution_count": 58,
   "id": "3f0b9bc5-3e1c-45c8-8000-6a504437d5f3",
   "metadata": {},
   "outputs": [
    {
     "data": {
      "text/plain": [
       "35"
      ]
     },
     "execution_count": 58,
     "metadata": {},
     "output_type": "execute_result"
    }
   ],
   "source": [
    "s.find('e', 30, 40) # Indicamos el start y end"
   ]
  },
  {
   "cell_type": "markdown",
   "id": "3f277370-44e3-4e12-8cb3-397f5725df09",
   "metadata": {},
   "source": [
    "El método `.index()` busca el caracter que indiquemos y nos devuelve la primera posición en la que aparece."
   ]
  },
  {
   "cell_type": "code",
   "execution_count": 59,
   "id": "6a3fc651-ccfe-401c-9cfe-2a4f6b22a3b6",
   "metadata": {},
   "outputs": [
    {
     "data": {
      "text/plain": [
       "3"
      ]
     },
     "execution_count": 59,
     "metadata": {},
     "output_type": "execute_result"
    }
   ],
   "source": [
    "s = 'Este es un curso de Python para hacer en casa o en cualquier lado'\n",
    "\n",
    "s.index('e') # Este método es casi idéntico a find()"
   ]
  },
  {
   "cell_type": "markdown",
   "id": "89f94642-88f4-42fd-bbb2-c66775d3a3c4",
   "metadata": {},
   "source": [
    "Si le pedimos buscar un conjunto de caracteres, nos devuelve la posición del primer caracter de dicho conjunto"
   ]
  },
  {
   "cell_type": "code",
   "execution_count": 60,
   "id": "46c2ba95-f57a-4467-aee9-5beb28f60ce9",
   "metadata": {},
   "outputs": [
    {
     "data": {
      "text/plain": [
       "41"
      ]
     },
     "execution_count": 60,
     "metadata": {},
     "output_type": "execute_result"
    }
   ],
   "source": [
    "s.index('casa')"
   ]
  },
  {
   "cell_type": "markdown",
   "id": "1bbef36f-5a78-4ee6-b386-4d9e9d318cb4",
   "metadata": {},
   "source": [
    "El método `.index()` tiene otros dos parámetros de uso opcional: `start` y `end`, que sirven para indicar donde queremos que empiece la búsqueda y donde queremos que acabe."
   ]
  },
  {
   "cell_type": "code",
   "execution_count": 61,
   "id": "ca7442ea-a10d-4fa9-9f2f-142baf09b313",
   "metadata": {},
   "outputs": [
    {
     "data": {
      "text/plain": [
       "18"
      ]
     },
     "execution_count": 61,
     "metadata": {},
     "output_type": "execute_result"
    }
   ],
   "source": [
    "s.index('e', 10) # Solamente ndicamos el start"
   ]
  },
  {
   "cell_type": "code",
   "execution_count": 62,
   "id": "480ef175-6222-4752-b630-af74732ccd27",
   "metadata": {},
   "outputs": [
    {
     "data": {
      "text/plain": [
       "35"
      ]
     },
     "execution_count": 62,
     "metadata": {},
     "output_type": "execute_result"
    }
   ],
   "source": [
    "s.index('e', 30, 40) # Indicamos el start y end"
   ]
  },
  {
   "cell_type": "markdown",
   "id": "e53892e0-2f97-465c-b4cf-21122435008b",
   "metadata": {},
   "source": [
    "**Observación.** Observemos que los métodos `.index()` y `.find()` son casi idénticos. El único punto en que difieren es que si el caracter indicado no se encuentra en el string, el método `.index()` arroja error, mientras que `.find()` arroja el índice -1."
   ]
  },
  {
   "cell_type": "markdown",
   "id": "517ad258-843e-4dac-9ca2-f75c007326ec",
   "metadata": {},
   "source": [
    "El método `.rindex()` busca el caracter que indiquemos y devuelve el último indice en el que fue encontrado."
   ]
  },
  {
   "cell_type": "code",
   "execution_count": 63,
   "id": "59dff800-248e-4292-990a-1caa97902f35",
   "metadata": {},
   "outputs": [
    {
     "data": {
      "text/plain": [
       "58"
      ]
     },
     "execution_count": 63,
     "metadata": {},
     "output_type": "execute_result"
    }
   ],
   "source": [
    "s.rindex('e') # Te indica el último índice de la letra que marcamos"
   ]
  },
  {
   "cell_type": "markdown",
   "id": "4e19fa44-064d-4b00-aa7a-b20e93f833ab",
   "metadata": {},
   "source": [
    "También consta de los dos parámetros de uso opcional: `start` y `end`, que sirven para indicar donde queremos que empiece la búsqueda y donde queremos que acabe."
   ]
  },
  {
   "cell_type": "markdown",
   "id": "f70b56db-bae3-4633-b5a4-f256dd45099c",
   "metadata": {},
   "source": [
    "## Otras funciones a tener en cuenta\n",
    "\n",
    "La función `len()` nos devuelve el número de caracteres del string."
   ]
  },
  {
   "cell_type": "code",
   "execution_count": 2,
   "id": "d3675865-8a01-48bc-b5fa-479ceb204ae5",
   "metadata": {},
   "outputs": [
    {
     "data": {
      "text/plain": [
       "12"
      ]
     },
     "execution_count": 2,
     "metadata": {},
     "output_type": "execute_result"
    }
   ],
   "source": [
    "a = 'Tengo hambre'\n",
    "\n",
    "len(a)"
   ]
  },
  {
   "cell_type": "markdown",
   "id": "94d0c389-1f5f-4475-985d-ecfab5d1a070",
   "metadata": {},
   "source": [
    "**Observación.** Los espacios en blanco también son caracteres, por lo que éstos también son incluidos al contar el número de caracteres de los que consta un string."
   ]
  },
  {
   "cell_type": "markdown",
   "id": "fd574ff3-9486-450f-a09c-9b5b83bd7435",
   "metadata": {},
   "source": [
    "Si tenemos un número en formato string, por mucho que sea un número para nosotros, en realidad `Python` no lo ve así. El gran problema es cuando queremos operar con un número que se encuentra en formato string. Ahí es donde entran en juego las funciones `int()` y `float()`, que lo que hacen es convertir a formato integer o float, respectivamente."
   ]
  },
  {
   "cell_type": "code",
   "execution_count": 65,
   "id": "d5b3e4e4-0d4a-4e58-b206-132a52694afc",
   "metadata": {},
   "outputs": [
    {
     "data": {
      "text/plain": [
       "str"
      ]
     },
     "execution_count": 65,
     "metadata": {},
     "output_type": "execute_result"
    }
   ],
   "source": [
    "num = '5'\n",
    "\n",
    "type(num)"
   ]
  },
  {
   "cell_type": "markdown",
   "id": "6ba07568-e500-46df-a86b-504174ad0745",
   "metadata": {},
   "source": [
    "En este caso, pasamos a formato integer:"
   ]
  },
  {
   "cell_type": "code",
   "execution_count": 66,
   "id": "afe87a26-0b49-465d-b750-db3baae51a5d",
   "metadata": {},
   "outputs": [
    {
     "data": {
      "text/plain": [
       "int"
      ]
     },
     "execution_count": 66,
     "metadata": {},
     "output_type": "execute_result"
    }
   ],
   "source": [
    "int_num = int(num)\n",
    "\n",
    "type(int_num)"
   ]
  },
  {
   "cell_type": "code",
   "execution_count": 67,
   "id": "5107dc64-9468-4d51-89e5-8a284ffef93c",
   "metadata": {},
   "outputs": [
    {
     "data": {
      "text/plain": [
       "25"
      ]
     },
     "execution_count": 67,
     "metadata": {},
     "output_type": "execute_result"
    }
   ],
   "source": [
    "int_num **2"
   ]
  },
  {
   "cell_type": "markdown",
   "id": "d5a15913-63aa-4375-99fa-4919b07ebe09",
   "metadata": {},
   "source": [
    "En este otro caso, pasamos a formato float:"
   ]
  },
  {
   "cell_type": "code",
   "execution_count": 68,
   "id": "0801e632-e843-4c3b-bb11-49dac0a9ca12",
   "metadata": {},
   "outputs": [
    {
     "data": {
      "text/plain": [
       "float"
      ]
     },
     "execution_count": 68,
     "metadata": {},
     "output_type": "execute_result"
    }
   ],
   "source": [
    "float_num = float(num)\n",
    "\n",
    "type(float_num)"
   ]
  },
  {
   "cell_type": "code",
   "execution_count": 69,
   "id": "06f27c4e-2558-4edf-9d12-3bbf5c610145",
   "metadata": {},
   "outputs": [
    {
     "data": {
      "text/plain": [
       "20.0"
      ]
     },
     "execution_count": 69,
     "metadata": {},
     "output_type": "execute_result"
    }
   ],
   "source": [
    "float_num ** 2 - float_num"
   ]
  },
  {
   "cell_type": "markdown",
   "id": "d36e1fb7-5241-4167-b539-4828faf5df4d",
   "metadata": {},
   "source": [
    "La función `input()` sirve para que el usuario introduzca un string por consola:"
   ]
  },
  {
   "cell_type": "code",
   "execution_count": 70,
   "id": "3ddc87c1-4045-4276-900d-0b47cfc7b7dc",
   "metadata": {},
   "outputs": [
    {
     "name": "stdout",
     "output_type": "stream",
     "text": [
      "Introduce tu nombre: \n"
     ]
    },
    {
     "name": "stdin",
     "output_type": "stream",
     "text": [
      "Nombre:  Mario Pajares\n"
     ]
    }
   ],
   "source": [
    "print('Introduce tu nombre: ')\n",
    "\n",
    "name = input('Nombre: ')"
   ]
  },
  {
   "cell_type": "code",
   "execution_count": 71,
   "id": "360fa5d9-18dc-43fa-a28f-5a6f9f37338d",
   "metadata": {},
   "outputs": [
    {
     "data": {
      "text/plain": [
       "'Mario Pajares'"
      ]
     },
     "execution_count": 71,
     "metadata": {},
     "output_type": "execute_result"
    }
   ],
   "source": [
    "name"
   ]
  },
  {
   "cell_type": "markdown",
   "id": "f4dcda71-7467-4596-b977-9e3f610d76e1",
   "metadata": {},
   "source": [
    "Aquí también nos serán útiles las funciones `int()` y `float()`, pues si en vez del nombre queremos que el usuario nos indique su edad o su altura, querremos tratar dichos valores como números. Entonces, haríamos lo siguiente"
   ]
  },
  {
   "cell_type": "code",
   "execution_count": 72,
   "id": "9929a725-35da-45cc-954e-a7741ce0a3e4",
   "metadata": {},
   "outputs": [
    {
     "name": "stdout",
     "output_type": "stream",
     "text": [
      "Introduce tu edad \n"
     ]
    },
    {
     "name": "stdin",
     "output_type": "stream",
     "text": [
      " 24\n"
     ]
    }
   ],
   "source": [
    "print('Introduce tu edad ')\n",
    "\n",
    "age = int(input())"
   ]
  },
  {
   "cell_type": "code",
   "execution_count": 73,
   "id": "dff4c523-abb1-4044-8281-8169abf37caa",
   "metadata": {},
   "outputs": [
    {
     "data": {
      "text/plain": [
       "24"
      ]
     },
     "execution_count": 73,
     "metadata": {},
     "output_type": "execute_result"
    }
   ],
   "source": [
    "age"
   ]
  },
  {
   "cell_type": "code",
   "execution_count": 74,
   "id": "30d502d9-8690-4b89-9cf2-c69d13e0b13b",
   "metadata": {},
   "outputs": [
    {
     "name": "stdout",
     "output_type": "stream",
     "text": [
      "Introduce tu altura \n"
     ]
    },
    {
     "name": "stdin",
     "output_type": "stream",
     "text": [
      " 1.81\n"
     ]
    }
   ],
   "source": [
    "print('Introduce tu altura ')\n",
    "\n",
    "height = float(input())"
   ]
  },
  {
   "cell_type": "code",
   "execution_count": 75,
   "id": "0e8eaf3d-512f-4aba-9a5e-b98d8227396a",
   "metadata": {},
   "outputs": [
    {
     "data": {
      "text/plain": [
       "1.81"
      ]
     },
     "execution_count": 75,
     "metadata": {},
     "output_type": "execute_result"
    }
   ],
   "source": [
    "height"
   ]
  },
  {
   "cell_type": "code",
   "execution_count": 76,
   "id": "dbc1ed1b-f4e9-4022-a394-10b69be0999d",
   "metadata": {},
   "outputs": [
    {
     "name": "stdout",
     "output_type": "stream",
     "text": [
      "La edad e Mario Pajares es 24 y mide 1.81\n"
     ]
    }
   ],
   "source": [
    "print('La edad e {} es {} y mide {}'.format(name, age, height))"
   ]
  },
  {
   "cell_type": "markdown",
   "id": "861d6042-60ae-4a21-8f79-75ee1ab5b3da",
   "metadata": {},
   "source": [
    "## Ejercicio 2\n",
    "\n",
    "Dado un string, vamos a pedir al usuario que introduzca una palabra perteneciente a dicho string y vamos a obtener el substring sin la palabra indicada por el usuario utilizando el método .find() y la función len()"
   ]
  },
  {
   "cell_type": "code",
   "execution_count": 77,
   "id": "ed8515f4-558e-41da-9a20-e86f42b36c68",
   "metadata": {},
   "outputs": [
    {
     "name": "stdout",
     "output_type": "stream",
     "text": [
      "Este es el string original: El camino está cerrado pero seguro que podemos encontrar una alternativa\n"
     ]
    }
   ],
   "source": [
    "string = 'El camino está cerrado pero seguro que podemos encontrar una alternativa'\n",
    "\n",
    "print('Este es el string original:', end = ' ')\n",
    "print(string)"
   ]
  },
  {
   "cell_type": "code",
   "execution_count": 78,
   "id": "0d3ef047-8999-4663-a2ec-5c6fa9d9787c",
   "metadata": {},
   "outputs": [
    {
     "name": "stdout",
     "output_type": "stream",
     "text": [
      "Introduce la palabra que quieras eliminar del string original\n"
     ]
    },
    {
     "name": "stdin",
     "output_type": "stream",
     "text": [
      "Palabra:  camino\n"
     ]
    }
   ],
   "source": [
    "print('Introduce la palabra que quieras eliminar del string original')\n",
    "word = input('Palabra: ')"
   ]
  },
  {
   "cell_type": "code",
   "execution_count": 79,
   "id": "e8f9b579-9070-4e63-b2ef-f4d82af1034b",
   "metadata": {},
   "outputs": [
    {
     "data": {
      "text/plain": [
       "'camino'"
      ]
     },
     "execution_count": 79,
     "metadata": {},
     "output_type": "execute_result"
    }
   ],
   "source": [
    "word"
   ]
  },
  {
   "cell_type": "code",
   "execution_count": 80,
   "id": "953b649c-53e1-4684-ba5e-bf6ad4b4cfa9",
   "metadata": {},
   "outputs": [
    {
     "data": {
      "text/plain": [
       "3"
      ]
     },
     "execution_count": 80,
     "metadata": {},
     "output_type": "execute_result"
    }
   ],
   "source": [
    "idx = string.find(word)\n",
    "\n",
    "idx"
   ]
  },
  {
   "cell_type": "code",
   "execution_count": 81,
   "id": "60265ed4-a1a1-4d49-833e-bc0bb2771ec4",
   "metadata": {},
   "outputs": [
    {
     "data": {
      "text/plain": [
       "'El está cerrado pero seguro que podemos encontrar una alternativa'"
      ]
     },
     "execution_count": 81,
     "metadata": {},
     "output_type": "execute_result"
    }
   ],
   "source": [
    "substring = string[:idx]+ string[(idx + len(word)) + 1:]\n",
    "\n",
    "substring"
   ]
  },
  {
   "cell_type": "code",
   "execution_count": 82,
   "id": "456b7d49-94eb-4b50-8521-ff1fd619a82c",
   "metadata": {},
   "outputs": [
    {
     "data": {
      "text/plain": [
       "'El  está cerrado pero seguro que podemos encontrar una alternativa'"
      ]
     },
     "execution_count": 82,
     "metadata": {},
     "output_type": "execute_result"
    }
   ],
   "source": [
    "string.replace(word, \"\") # Otra forma de hacerlo (se queda el espacio en blanco)"
   ]
  },
  {
   "cell_type": "markdown",
   "id": "caa1ff5d-6faf-4679-8747-81cd560391d8",
   "metadata": {},
   "source": [
    "## Ejercicio 3\n",
    "\n",
    "Vamos a aprovechar el ejercicio sobre la cabción \"Cumpleaños feliz\" y vamos a permitir al usuario elegir a quien va dirigida la canción"
   ]
  },
  {
   "cell_type": "code",
   "execution_count": 83,
   "id": "458d4eed-e386-400c-8adf-e4f5bdd2eca9",
   "metadata": {},
   "outputs": [
    {
     "name": "stdout",
     "output_type": "stream",
     "text": [
      "Indica el destinatario de la canción: \n"
     ]
    },
    {
     "name": "stdin",
     "output_type": "stream",
     "text": [
      " Carlos\n"
     ]
    }
   ],
   "source": [
    "print('Indica el destinatario de la canción: ')\n",
    "name = input()"
   ]
  },
  {
   "cell_type": "code",
   "execution_count": 84,
   "id": "8d434979-ded4-460b-879c-34bac2cfce51",
   "metadata": {},
   "outputs": [
    {
     "name": "stdout",
     "output_type": "stream",
     "text": [
      "¡Cumpleaños feliz!\n",
      "¡Cumpleaños feliz!\n",
      "¡Te deseamos Carlos!\n",
      "¡Cumpleaños feliz!\n"
     ]
    }
   ],
   "source": [
    "s1 = '¡Cumpleaños feliz!'\n",
    "s2 = '¡Te deseamos {}!'.format(name)\n",
    "\n",
    "song = (s1 + '\\n') * 2 + s2 + '\\n' + s1\n",
    "print(song)"
   ]
  },
  {
   "cell_type": "code",
   "execution_count": 85,
   "id": "411cf252-239b-4ef4-9736-2ba811d50db4",
   "metadata": {},
   "outputs": [
    {
     "name": "stdout",
     "output_type": "stream",
     "text": [
      "¡Cumpleaños feliz!\n",
      "¡Cumpleaños feliz!\n",
      "¡Te deseamos Carlos!\n",
      "¡Cumpleaños feliz!\n"
     ]
    }
   ],
   "source": [
    "# Otra forma de hacerlo\n",
    "\n",
    "s1 = '¡Cumpleaños feliz!'\n",
    "s2 = '¡Te deseamos todos!'\n",
    "\n",
    "song = (s1 + '\\n') * 2 + s2.replace('todos', name) + '\\n' + s1\n",
    "print(song)"
   ]
  },
  {
   "cell_type": "markdown",
   "id": "fec8c938-4f55-49dd-b37e-8902665f20d5",
   "metadata": {},
   "source": [
    "## Ejercicio 4\n",
    "\n",
    "Vamos a pedirle al usuario palabras o frases y le vamos a devolver el mismo string modificado con alguno de los métodos aprendidos según se indique:\n",
    "\n",
    "1. Devolver la palabra en mayúscula\n",
    "2. Devolver la frase con todas las palabras empezando en mayúscula\n",
    "3. Devolver la palabra (con 3 o más letras) con todas las letras en minúscula salvo la tercera letra\n",
    "4. Devolver la palabra con todas las letras en mayúsculas salvo la primera y la última\n",
    "5. Devolver la frase donde cada vez que aparezcan las dos primeras letras de la primera palabra, sean subsituidas por cualesquiera otras dos letras\n",
    "    "
   ]
  },
  {
   "cell_type": "code",
   "execution_count": 91,
   "id": "cded34c9-e8b2-4dc2-9a0a-2162c1c068b3",
   "metadata": {},
   "outputs": [
    {
     "name": "stdin",
     "output_type": "stream",
     "text": [
      "Introduzca una frase o un conjunto de palabras:  me encanta el helado de chocolate\n"
     ]
    }
   ],
   "source": [
    "frase = input('Introduzca una frase: ')"
   ]
  },
  {
   "cell_type": "code",
   "execution_count": 93,
   "id": "df28d6d4-09e1-4647-9755-99d7e1af7443",
   "metadata": {},
   "outputs": [
    {
     "name": "stdin",
     "output_type": "stream",
     "text": [
      "Introduzca una palabra:  marciano\n"
     ]
    }
   ],
   "source": [
    "word = input('Introduzca una palabra: ')"
   ]
  },
  {
   "cell_type": "markdown",
   "id": "05b8e3d7-22fb-48e3-980a-e1cf67803d27",
   "metadata": {},
   "source": [
    "#### Apartado 1"
   ]
  },
  {
   "cell_type": "code",
   "execution_count": 94,
   "id": "6d651220-9d74-4127-9f5f-835bfe2ad976",
   "metadata": {},
   "outputs": [
    {
     "data": {
      "text/plain": [
       "'MARCIANO'"
      ]
     },
     "execution_count": 94,
     "metadata": {},
     "output_type": "execute_result"
    }
   ],
   "source": [
    "word.upper()"
   ]
  },
  {
   "cell_type": "markdown",
   "id": "57722e40-9dd6-4b78-bcaf-73fe9c573eb8",
   "metadata": {},
   "source": [
    "#### Apartado 2"
   ]
  },
  {
   "cell_type": "code",
   "execution_count": 99,
   "id": "66bd8548-c0b4-4e07-b95f-242482294854",
   "metadata": {},
   "outputs": [
    {
     "data": {
      "text/plain": [
       "'Me Encanta El Helado De Chocolate'"
      ]
     },
     "execution_count": 99,
     "metadata": {},
     "output_type": "execute_result"
    }
   ],
   "source": [
    "frase.title()"
   ]
  },
  {
   "cell_type": "markdown",
   "id": "123e6259-f621-4954-b3d4-513c6ab01838",
   "metadata": {},
   "source": [
    "#### Apartado 3"
   ]
  },
  {
   "cell_type": "code",
   "execution_count": 102,
   "id": "63cdaf94-ef49-4667-a2a8-b18400fc158f",
   "metadata": {},
   "outputs": [
    {
     "data": {
      "text/plain": [
       "'maRciano'"
      ]
     },
     "execution_count": 102,
     "metadata": {},
     "output_type": "execute_result"
    }
   ],
   "source": [
    "word.replace(word[2], word[2].upper())"
   ]
  },
  {
   "cell_type": "markdown",
   "id": "455c6b5a-b75a-4bf9-9ff7-d08fce9505f0",
   "metadata": {},
   "source": [
    "#### Apartado 4"
   ]
  },
  {
   "cell_type": "code",
   "execution_count": 111,
   "id": "afde736f-e083-4302-b8ca-44d5ce22eb95",
   "metadata": {},
   "outputs": [
    {
     "data": {
      "text/plain": [
       "'mARCIANo'"
      ]
     },
     "execution_count": 111,
     "metadata": {},
     "output_type": "execute_result"
    }
   ],
   "source": [
    "word.replace(word[1 : len(word)-1], word.upper()[1 : len(word)-1])"
   ]
  },
  {
   "cell_type": "markdown",
   "id": "7bcceb7a-487a-4793-a58e-a33e8efae4b0",
   "metadata": {},
   "source": [
    "#### Apartado 5"
   ]
  },
  {
   "cell_type": "code",
   "execution_count": 132,
   "id": "ab733e11-4440-4bf3-95c3-7fd729e9c83c",
   "metadata": {
    "tags": []
   },
   "outputs": [
    {
     "data": {
      "text/plain": [
       "'mi encanta el helado de chocolate'"
      ]
     },
     "execution_count": 132,
     "metadata": {},
     "output_type": "execute_result"
    }
   ],
   "source": [
    "import random as rd\n",
    "\n",
    "letras = ['es', 'me', 'er', 'mi'] # lista de 2 palabras para sustituirlas aleatoriamente\n",
    "\n",
    "frase.replace(frase[0:2], rd.choice(letras))"
   ]
  },
  {
   "cell_type": "markdown",
   "id": "df95a8ee-4ea6-4f22-bf6e-31d99c14d4c3",
   "metadata": {},
   "source": [
    "#### Ejercicio 5\n",
    "\n",
    "Vamos a pedirle al usuario su año de nacimineto y el año actual y le vamos a imprimir por pantalla su edad"
   ]
  },
  {
   "cell_type": "code",
   "execution_count": 136,
   "id": "8a7a1746-8d1a-45af-9900-6940bfd73d7b",
   "metadata": {},
   "outputs": [
    {
     "name": "stdin",
     "output_type": "stream",
     "text": [
      "Introduce el año en el que naciste:  1996\n",
      "Introcuce el año actual:  2021\n"
     ]
    },
    {
     "name": "stdout",
     "output_type": "stream",
     "text": [
      "Su edad es 25\n"
     ]
    }
   ],
   "source": [
    "birth = input('Introduce el año en el que naciste: ')\n",
    "year = input('Introcuce el año actual: ')\n",
    "age = int(year) - int(birth)\n",
    "\n",
    "print('Su edad es {}'.format(age))"
   ]
  },
  {
   "cell_type": "markdown",
   "id": "b8773e1f-b02c-4dc5-847c-7377274c5147",
   "metadata": {},
   "source": [
    "## Tarea Tema 3"
   ]
  },
  {
   "cell_type": "markdown",
   "id": "b77cc268-62d4-4b76-8e63-1f276de0c597",
   "metadata": {},
   "source": [
    "#### Ejercicio 1\n",
    "\n",
    "Utiliza las funciones de concatenar, + y repetir strings, *, junto con la función print() para dados los siguientes strings s1, s2, s3 y s4, conseguir el resultado siguiente: Había una vez, un barquito chiquitito\n",
    "Había una vez, un barquito chiquitito que no podía, que no podía, que no podía navegar."
   ]
  },
  {
   "cell_type": "code",
   "execution_count": 137,
   "id": "2a6b6194-6779-40a9-b71c-f1eb4d65128c",
   "metadata": {},
   "outputs": [],
   "source": [
    "s1 = 'Había una vez, '\n",
    "s2 = 'un barquito chiquitito '\n",
    "s3 = 'que no podía, '\n",
    "s4 = 'que no podía navegar.'"
   ]
  },
  {
   "cell_type": "code",
   "execution_count": 140,
   "id": "e9aab09c-24e2-448a-876f-40c289d9a43f",
   "metadata": {},
   "outputs": [
    {
     "name": "stdout",
     "output_type": "stream",
     "text": [
      "Había una vez, un barquito chiquitito \n",
      "Había una vez, un barquito chiquitito \n",
      "que no podía, que no podía navegar.\n"
     ]
    }
   ],
   "source": [
    "print((s1 + s2 + '\\n') * 2 + s3 + s4)"
   ]
  },
  {
   "cell_type": "markdown",
   "id": "18bf74db-75d7-47d3-b0a7-52be7f7fc7ce",
   "metadata": {},
   "source": [
    "#### Ejercicio 2\n",
    "\n",
    "Utiliza la función print() y el comando de salto de línea, \\n, para reproducir exactamente el siguiente texto:\n",
    "\n",
    "Érase un hombre a una nariz pegado,\n",
    "\n",
    "Érase una nariz superlativa,\n",
    "\n",
    "Érase una alquitara medio viva,\n",
    "\n",
    "Érase un peje espada mal barbado;"
   ]
  },
  {
   "cell_type": "code",
   "execution_count": 141,
   "id": "e98d1ec2-5a45-402d-9cc4-07da1d294d4d",
   "metadata": {},
   "outputs": [
    {
     "name": "stdout",
     "output_type": "stream",
     "text": [
      "Érase un hombre a una nariz pegado,\n",
      "Érase una nariz superlativa,\n",
      "Érase una alquitara medio viva,\n",
      "Érase un peje espada mal barbado;\n"
     ]
    }
   ],
   "source": [
    "print('Érase un hombre a una nariz pegado,' + '\\n' + 'Érase una nariz superlativa,' + '\\n' + 'Érase una alquitara medio viva,' + '\\n' + 'Érase un peje espada mal barbado;')"
   ]
  },
  {
   "cell_type": "markdown",
   "id": "64f33a09-ea5d-4520-bff5-9c330dc7419a",
   "metadata": {},
   "source": [
    "#### Ejercicio 3\n",
    "\n",
    "Transforma el siguiente string s a mayúsculas y muéstralo por pantalla con la función print():"
   ]
  },
  {
   "cell_type": "code",
   "execution_count": 142,
   "id": "640585ab-a50a-426a-a5da-ccae8c6f900e",
   "metadata": {},
   "outputs": [],
   "source": [
    "s = 'me encantan las matemáticas'"
   ]
  },
  {
   "cell_type": "code",
   "execution_count": 143,
   "id": "78238b32-5f76-4cd5-aceb-fdc54467e935",
   "metadata": {},
   "outputs": [
    {
     "name": "stdout",
     "output_type": "stream",
     "text": [
      "ME ENCANTAN LAS MATEMÁTICAS\n"
     ]
    }
   ],
   "source": [
    "print(s.upper())"
   ]
  },
  {
   "cell_type": "markdown",
   "id": "1aa71edb-1404-4ba0-bb12-11c888fe270d",
   "metadata": {},
   "source": [
    "#### Ejercicio 4\n",
    "\n",
    "Calcula la longitud del string s"
   ]
  },
  {
   "cell_type": "code",
   "execution_count": 144,
   "id": "4b5264e5-0e90-4a27-a3df-a933cff4c82f",
   "metadata": {},
   "outputs": [],
   "source": [
    "s = 'Mi pasión por el chocolate es superior a mis fuerzas'"
   ]
  },
  {
   "cell_type": "code",
   "execution_count": 145,
   "id": "06bf4f4d-b1c5-4b56-946b-0ec41489a288",
   "metadata": {},
   "outputs": [
    {
     "data": {
      "text/plain": [
       "52"
      ]
     },
     "execution_count": 145,
     "metadata": {},
     "output_type": "execute_result"
    }
   ],
   "source": [
    "len(s)"
   ]
  },
  {
   "cell_type": "markdown",
   "id": "4dc113b1-08f0-402e-b670-851fdd149227",
   "metadata": {},
   "source": [
    "#### Ejercicio 5\n",
    "\n",
    "Del string s del ejercicio anterior, obtén el substring chocolate y guárdalo en una variable llamada s_sub.\n",
    "No vale contar, deberás hallar los índices del substring con el método .find() (o el que mejor consideres) y\n",
    "la función len().\n",
    "Finalmente, imprime tu resultado por pantalla"
   ]
  },
  {
   "cell_type": "code",
   "execution_count": 148,
   "id": "e9455214-536d-47b2-8c01-38927b747527",
   "metadata": {},
   "outputs": [
    {
     "data": {
      "text/plain": [
       "17"
      ]
     },
     "execution_count": 148,
     "metadata": {},
     "output_type": "execute_result"
    }
   ],
   "source": [
    "s.find('chocolate')"
   ]
  },
  {
   "cell_type": "code",
   "execution_count": 149,
   "id": "d55bef95-f133-43df-a601-abc3ef805b58",
   "metadata": {},
   "outputs": [
    {
     "data": {
      "text/plain": [
       "9"
      ]
     },
     "execution_count": 149,
     "metadata": {},
     "output_type": "execute_result"
    }
   ],
   "source": [
    "len('chocolate')"
   ]
  },
  {
   "cell_type": "code",
   "execution_count": 152,
   "id": "0d5cabc4-bebd-406f-b56b-104f9da83f9c",
   "metadata": {},
   "outputs": [
    {
     "data": {
      "text/plain": [
       "'chocolate'"
      ]
     },
     "execution_count": 152,
     "metadata": {},
     "output_type": "execute_result"
    }
   ],
   "source": [
    "s_sub = s[17:26]\n",
    "\n",
    "s_sub"
   ]
  },
  {
   "cell_type": "markdown",
   "id": "1fab4f46-c90a-456c-aa11-3e9643b54f5f",
   "metadata": {},
   "source": [
    "#### Ejercicio 6\n",
    "\n",
    "Con la función input(), indícale al usuario que introduzca su nombre y guárdalo en la variable llamada\n",
    "nombre"
   ]
  },
  {
   "cell_type": "code",
   "execution_count": 155,
   "id": "eb1cdc9d-a504-43ba-becd-9a05aad2c7b9",
   "metadata": {},
   "outputs": [
    {
     "name": "stdin",
     "output_type": "stream",
     "text": [
      "Introduzca su nombre:  Mario\n"
     ]
    }
   ],
   "source": [
    "nombre = input('Introduzca su nombre: ')"
   ]
  },
  {
   "cell_type": "code",
   "execution_count": 156,
   "id": "62ef5a86-ce91-4134-a43d-cea9a6bcb9d4",
   "metadata": {},
   "outputs": [
    {
     "data": {
      "text/plain": [
       "'Mario'"
      ]
     },
     "execution_count": 156,
     "metadata": {},
     "output_type": "execute_result"
    }
   ],
   "source": [
    "nombre"
   ]
  },
  {
   "cell_type": "markdown",
   "id": "4dc692ab-7fe5-4647-9ee5-f4870a019fa9",
   "metadata": {},
   "source": [
    "#### Eejercicio 7\n",
    "\n",
    "Con la función input(), indícale al usuario que introduzca su apellido y guárdalo en la variable llamada\n",
    "apellido"
   ]
  },
  {
   "cell_type": "code",
   "execution_count": 157,
   "id": "73e4bc6f-6ce7-408d-b496-02c2b2a0f8b9",
   "metadata": {},
   "outputs": [
    {
     "name": "stdin",
     "output_type": "stream",
     "text": [
      "Introduzca su apellido:  Pajares\n"
     ]
    }
   ],
   "source": [
    "apellido = input('Introduzca su apellido: ')"
   ]
  },
  {
   "cell_type": "code",
   "execution_count": 158,
   "id": "14673331-1b07-4fcb-bd2f-a678c2445c51",
   "metadata": {},
   "outputs": [
    {
     "data": {
      "text/plain": [
       "'Pajares'"
      ]
     },
     "execution_count": 158,
     "metadata": {},
     "output_type": "execute_result"
    }
   ],
   "source": [
    "apellido"
   ]
  },
  {
   "cell_type": "markdown",
   "id": "b53489e6-52d6-480a-bd6b-67719da485b7",
   "metadata": {},
   "source": [
    "#### Ejercicio 8\n",
    "\n",
    "Con la función input(), indícale al usuario que introduzca su edad y guárdala en la variable llamada edad.\n",
    "¡Ojo con el tipo de dato!"
   ]
  },
  {
   "cell_type": "code",
   "execution_count": 159,
   "id": "eba206ca-6b03-4d18-a7e2-55f7fb8dda7b",
   "metadata": {},
   "outputs": [
    {
     "name": "stdin",
     "output_type": "stream",
     "text": [
      "Introduzca su edad:  24\n"
     ]
    }
   ],
   "source": [
    "age = int(input('Introduzca su edad: '))"
   ]
  },
  {
   "cell_type": "code",
   "execution_count": 160,
   "id": "fd9b3975-e5ae-4a28-a5de-ac7fab312ccf",
   "metadata": {},
   "outputs": [
    {
     "data": {
      "text/plain": [
       "int"
      ]
     },
     "execution_count": 160,
     "metadata": {},
     "output_type": "execute_result"
    }
   ],
   "source": [
    "type(age)"
   ]
  },
  {
   "cell_type": "markdown",
   "id": "8875b477-54ca-491c-bfbc-d31723c9b421",
   "metadata": {},
   "source": [
    "#### Ejercicio 9\n",
    "\n",
    "Con la función input(), indícale al usuario que introduzca la ciudad en la que vive y guárdala en la variable\n",
    "llamada ciudad."
   ]
  },
  {
   "cell_type": "code",
   "execution_count": 161,
   "id": "2bb22116-2bd9-4fa0-8551-4dd30d4593f5",
   "metadata": {},
   "outputs": [
    {
     "name": "stdin",
     "output_type": "stream",
     "text": [
      "Introduzca la ciudad en la que vive:  Madrid\n"
     ]
    }
   ],
   "source": [
    "ciudad = input('Introduzca la ciudad en la que vive: ')"
   ]
  },
  {
   "cell_type": "code",
   "execution_count": 162,
   "id": "682b62d7-531b-48c7-9b5f-41f67e423793",
   "metadata": {},
   "outputs": [
    {
     "data": {
      "text/plain": [
       "'Madrid'"
      ]
     },
     "execution_count": 162,
     "metadata": {},
     "output_type": "execute_result"
    }
   ],
   "source": [
    "ciudad"
   ]
  },
  {
   "cell_type": "markdown",
   "id": "4d6fff70-96cb-496e-a68a-f89b2a205542",
   "metadata": {},
   "source": [
    "#### Ejercicio 10\n",
    "\n",
    "Con lo hecho en los ejercicios 6, 7, 8 y 9, imprime por pantalla todos los datos introducidos por el usuario\n",
    "tal y como se muestra en el siguiente ejemplo, donde el usuario ha indicado que su nombre es María; su\n",
    "apellido, Santos; su edad, 21; y su ciudad, Palma de Mallorca.\n",
    "\n",
    "Su nombre es María Santos, tiene 21 años y actualmente vive en Palma de Mallorca.\n"
   ]
  },
  {
   "cell_type": "code",
   "execution_count": 163,
   "id": "b71209bd-cb24-4358-97e9-3e34b02a743e",
   "metadata": {},
   "outputs": [
    {
     "name": "stdout",
     "output_type": "stream",
     "text": [
      "Su nombre es Mario Pajares tiene 22 años y actualmente vive en Madrid\n"
     ]
    }
   ],
   "source": [
    "print('Su nombre es {} {} tiene {} años y actualmente vive en {}'.format(nombre, apellido, edad, ciudad))"
   ]
  },
  {
   "cell_type": "code",
   "execution_count": null,
   "id": "f1068fe2-220d-4536-9303-4450b9be8e57",
   "metadata": {},
   "outputs": [],
   "source": []
  }
 ],
 "metadata": {
  "kernelspec": {
   "display_name": "Python 3 (ipykernel)",
   "language": "python",
   "name": "python3"
  },
  "language_info": {
   "codemirror_mode": {
    "name": "ipython",
    "version": 3
   },
   "file_extension": ".py",
   "mimetype": "text/x-python",
   "name": "python",
   "nbconvert_exporter": "python",
   "pygments_lexer": "ipython3",
   "version": "3.9.7"
  }
 },
 "nbformat": 4,
 "nbformat_minor": 5
}
