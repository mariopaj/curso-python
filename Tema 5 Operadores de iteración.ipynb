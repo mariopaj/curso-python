{
 "cells": [
  {
   "cell_type": "markdown",
   "id": "ae9c22b7-332d-4b43-aba7-f735a739d26f",
   "metadata": {},
   "source": [
    "# Tema 5 - Operadores de iteración"
   ]
  },
  {
   "cell_type": "markdown",
   "id": "798dd3ab-d308-4d15-9fcd-7f19f53cc026",
   "metadata": {},
   "source": [
    "## El bucle `while`\n",
    "\n",
    "La idea del bucle `while` es: mientras la condición sea cierta, seguimos realizando las líneas del interior del bucle. Una vez la condición deja de ser verdadera, salimos del bucle.\n",
    "\n",
    "Su estructura es la siguiente"
   ]
  },
  {
   "cell_type": "code",
   "execution_count": null,
   "id": "9c5f2f75-2d51-4d5b-b2f9-8898c15d2a37",
   "metadata": {},
   "outputs": [],
   "source": [
    "inicialización de la variable de la condición\n",
    "while condición verdadera:\n",
    "  instrucción 1\n",
    "  instrucción 2\n",
    "  .\n",
    "  .\n",
    "  .\n",
    "  instrucción n"
   ]
  },
  {
   "cell_type": "markdown",
   "id": "489c6a13-775d-47a3-aaf1-6886bddb13d8",
   "metadata": {},
   "source": [
    "**Observación.** Vuelven a aparecer tanto los dos puntos después de la condición como la indentación previa a las instrucciones que se encuentran dentro del bucle.\n",
    "\n",
    "**¡Cuidado!** Hay que tener en cuenta que alguna de las instrucciones que se encuentran dentro del bucle `while` tiene que modificar a la variable de la condición. De lo contrario, si la variable de la condición nunca es modificada, la condición nunca llegará a ser falsa y el bucle no acabaría nunca, con lo que pasaría a convertirse en lo que se denomina bucle infinito.\n",
    "\n",
    "Una de las utilidades de un bucle `while` es evitar el copia y pega de algunas funciones. Por ejemplo, si queremos impirmir los primeros 10 números naturales, en vez de copiar 10 veces la función `print()`, una para cada número, lo podemos hacer todo con un bucle `while`:"
   ]
  },
  {
   "cell_type": "code",
   "execution_count": 2,
   "id": "7526c540-a8ea-4989-9909-4be194e68671",
   "metadata": {},
   "outputs": [
    {
     "name": "stdout",
     "output_type": "stream",
     "text": [
      "1\n",
      "2\n",
      "3\n",
      "4\n",
      "5\n",
      "6\n",
      "7\n",
      "8\n",
      "9\n",
      "10\n"
     ]
    }
   ],
   "source": [
    "i = 1 # Inicializamos la variable\n",
    "while i <= 10: # Queremos que i como mucho valga 10\n",
    "    print(i) # Imprimimos los númros 10\n",
    "    i += 1 # Incrementaamos en una unidad en cada iteración"
   ]
  },
  {
   "cell_type": "markdown",
   "id": "45d7421b-1ecb-47c5-aa96-15f20685558c",
   "metadata": {},
   "source": [
    "### Ejercicio\n",
    "\n",
    "Con un bucle `while`, dado un string vamos a recorrer una frase y contar el número total de vocales."
   ]
  },
  {
   "cell_type": "code",
   "execution_count": 10,
   "id": "bc98ac85-229c-4d3c-9c31-ff6d9fdd0824",
   "metadata": {},
   "outputs": [
    {
     "name": "stdout",
     "output_type": "stream",
     "text": [
      "En total hay 8 vocales\n"
     ]
    }
   ],
   "source": [
    "s = 'La vaca hace muuu'\n",
    "s = s.lower()\n",
    "\n",
    "i = 0\n",
    "count = 0\n",
    "\n",
    "while i < len(s):\n",
    "    if s[i] == 'a' or s[i] == 'e' or s[i] == 'i' or s[i] == 'o' or s[i] == 'u':\n",
    "        count +=1\n",
    "    i +=1\n",
    "    \n",
    "print('En total hay', count, 'vocales')"
   ]
  },
  {
   "cell_type": "markdown",
   "id": "6f68f1b5-475b-4c24-a857-225518edb181",
   "metadata": {},
   "source": [
    "### Comando `break`\n",
    "\n",
    "`break` es muy útil si dada una condición queremos que se salga inmediatamente de un bucle `while`. Veámoslo con un ejemplo:"
   ]
  },
  {
   "cell_type": "markdown",
   "id": "5a4f7f98-74a6-4b3f-8ba9-59faa12c9e4e",
   "metadata": {},
   "source": [
    "#### Ejemplo 1\n",
    "\n",
    "La sucesión de Fibonacci es una sucesión infinita que se caracteriza porque cada término es la suma de los dos anteriores. Algunos de sus términos son 1, 1, 2, 3, 5, 8, 13...\n",
    "\n",
    "Supongamos que queremos que se nos impriman los 20 primeros términos de esta serie. Por tanto, necesitaremos por un lado los términos de la serie y, por otro, los índices que ocupan.\n",
    "\n",
    "**Ejercicio.** Pensad en cómo podríais resolver este problema en el cual se exige que en algún momento utilicéis el comando `break`."
   ]
  },
  {
   "cell_type": "code",
   "execution_count": 14,
   "id": "62cbaa43-f7d0-4447-9c95-ada352c81eea",
   "metadata": {},
   "outputs": [
    {
     "name": "stdout",
     "output_type": "stream",
     "text": [
      "El término 1 ocupa la posición 1\n",
      "El térrmino 1 ocupa la posición 2\n",
      "El término 2 ocupa la posición 3\n",
      "El término 3 ocupa la posición 4\n",
      "El término 5 ocupa la posición 5\n",
      "El término 8 ocupa la posición 6\n",
      "El término 13 ocupa la posición 7\n",
      "El término 21 ocupa la posición 8\n",
      "El término 34 ocupa la posición 9\n",
      "El término 55 ocupa la posición 10\n",
      "El término 89 ocupa la posición 11\n",
      "El término 144 ocupa la posición 12\n",
      "El término 233 ocupa la posición 13\n",
      "El término 377 ocupa la posición 14\n",
      "El término 610 ocupa la posición 15\n",
      "El término 987 ocupa la posición 16\n",
      "El término 1597 ocupa la posición 17\n",
      "El término 2584 ocupa la posición 18\n",
      "El término 4181 ocupa la posición 19\n",
      "El término 6765 ocupa la posición 20\n"
     ]
    }
   ],
   "source": [
    "fibo_ant = 1 # Término anterior \n",
    "fibo = 1 # Términso actual\n",
    "idx = 3 # Como ya tenemos los dos priemros términos, empezamso con el índice 3\n",
    "\n",
    "print('El término {} ocupa la posición {}'.format(fibo_ant, 1))\n",
    "print('El térrmino {} ocupa la posición {}'.format(fibo, 2))\n",
    "\n",
    "while fibo <= 500000: # Establecenso una cota para que el bucle no sea infinito\n",
    "    temp = fibo # Guardamso temporalmente el fibonacci actual\n",
    "    fibo = fibo + fibo_ant  # Calculamos el nuevo término f ela sucesión \n",
    "    fibo_ant = temp # Modificamos el valor del término anterior\n",
    "    \n",
    "    print('El término {} ocupa la posición {}'.format(fibo, idx))\n",
    "    \n",
    "    if idx == 20: # Si llgamos al vigésimo índice,\n",
    "        break     # Salimos\n",
    "        \n",
    "    idx += 1 # Incrementamos el valor del índice\n",
    "    "
   ]
  },
  {
   "cell_type": "markdown",
   "id": "4752d9de-6b4d-4c42-98c6-dab73d61c19b",
   "metadata": {},
   "source": [
    "**Ejercicio.** El ejemplo anterior se podría haber hecho perfectamente sin necesidad de utilizar la función `break`. Pensad en cómo modificaríais el código anterior para obtener el mismo resultado únicamente haciendo uso de un bucle `while`.\n"
   ]
  },
  {
   "cell_type": "code",
   "execution_count": 18,
   "id": "df759548-d71b-4adb-9c94-5159e65f2ccd",
   "metadata": {},
   "outputs": [
    {
     "name": "stdout",
     "output_type": "stream",
     "text": [
      "El término 1 ocupa la posición 1\n",
      "El térrmino 1 ocupa la posición 2\n",
      "El término 2 ocupa la posición 3\n",
      "El término 3 ocupa la posición 4\n",
      "El término 5 ocupa la posición 5\n",
      "El término 8 ocupa la posición 6\n",
      "El término 13 ocupa la posición 7\n",
      "El término 21 ocupa la posición 8\n",
      "El término 34 ocupa la posición 9\n",
      "El término 55 ocupa la posición 10\n",
      "El término 89 ocupa la posición 11\n",
      "El término 144 ocupa la posición 12\n",
      "El término 233 ocupa la posición 13\n",
      "El término 377 ocupa la posición 14\n",
      "El término 610 ocupa la posición 15\n",
      "El término 987 ocupa la posición 16\n",
      "El término 1597 ocupa la posición 17\n",
      "El término 2584 ocupa la posición 18\n",
      "El término 4181 ocupa la posición 19\n",
      "El término 6765 ocupa la posición 20\n"
     ]
    }
   ],
   "source": [
    "fibo_ant = 1 # Término anterior \n",
    "fibo = 1 # Términso actual\n",
    "idx = 3\n",
    "\n",
    "print('El término {} ocupa la posición {}'.format(fibo_ant, 1))\n",
    "print('El térrmino {} ocupa la posición {}'.format(fibo, 2))\n",
    "\n",
    "while fibo < 6765: # Establecenso una cota para que el bucle no sea infinito\n",
    "    temp = fibo # Guardamso temporalmente el fibonacci actual\n",
    "    fibo = fibo + fibo_ant  # Calculamos el nuevo término f ela sucesión \n",
    "    fibo_ant = temp # Modificamos el valor del término anterior\n",
    "    \n",
    "    print('El término {} ocupa la posición {}'.format(fibo, idx))\n",
    "        \n",
    "    idx += 1 # Incrementamos el valor del índice"
   ]
  },
  {
   "cell_type": "markdown",
   "id": "d8f58596-ab7e-4b80-9491-e5c235d143e8",
   "metadata": {},
   "source": [
    "### Ejercicio\n",
    "\n",
    "Con un bucle `while`, dados dos números enteros proporcionados por el usuario, vamos a encontrar el primer número divisible entre 2, 3 y 5, siempre que sea posible, que se encuentre dentro del intervalo formado por los dos números dados por el usuario (ambos extremos también incluidos)."
   ]
  },
  {
   "cell_type": "code",
   "execution_count": 26,
   "id": "11cd4069-c0db-400d-8063-8d81a7478ed8",
   "metadata": {},
   "outputs": [
    {
     "name": "stdin",
     "output_type": "stream",
     "text": [
      "Introduce el extremo izquierdo ed intervalo: 2\n",
      "introduce el extremo derecho del intralo: 35\n"
     ]
    },
    {
     "name": "stdout",
     "output_type": "stream",
     "text": [
      "30\n"
     ]
    }
   ],
   "source": [
    "a = int(input('Introduce el extremo izquierdo ed intervalo:'))\n",
    "b = int(input('introduce el extremo derecho del intralo:'))\n",
    "n = a\n",
    "\n",
    "while n <= b:\n",
    "    \n",
    "    if n % 2 == 0 and n % 3 == 0 and n % 5 == 0:\n",
    "        \n",
    "        print(n)\n",
    "        break\n",
    "   \n",
    "    n += 1\n",
    "\n",
    "    if n == b + 1:\n",
    "        print('No hay núemros enteros divisibles dentro del intervalo que has proporcionado')"
   ]
  },
  {
   "cell_type": "markdown",
   "id": "be42806d-a79c-45e5-8b1d-2cc1ccc3491d",
   "metadata": {},
   "source": [
    "### Combinación `while ... else`\n",
    "\n",
    "Podemos combinar un bucle `while` con el operador `else` para ejecutar un bloque de código una vez la condición del `while` haya dejado de ser verdadera."
   ]
  },
  {
   "cell_type": "code",
   "execution_count": 3,
   "id": "388dcec5-a258-4a6d-8ffe-9b8dc0c0aab7",
   "metadata": {},
   "outputs": [
    {
     "name": "stdout",
     "output_type": "stream",
     "text": [
      "Preparamos para despegue. Empieza la cuenta atrás.\n",
      "10\n",
      "9\n",
      "8\n",
      "7\n",
      "6\n",
      "5\n",
      "4\n",
      "3\n",
      "2\n",
      "1\n",
      "0\n",
      "La cuenta atrás a finalizado\n"
     ]
    }
   ],
   "source": [
    "i = 10\n",
    "print('Preparamos para despegue. Empieza la cuenta atrás.')\n",
    "while i>=0:\n",
    "    print(i)\n",
    "    i-=1\n",
    "else:\n",
    "    print('La cuenta atrás a finalizado')"
   ]
  },
  {
   "cell_type": "markdown",
   "id": "9371836b-5fee-40f3-be1a-73e9550319e9",
   "metadata": {},
   "source": [
    "### Ejercicio\n",
    "\n",
    "Vamos a hacer que el usuario introduzca números por teclado e ir sumándolos. Cuando el usuario introduzca 0 saldremos del bucle `while`. Al salir del bucle, con un `else` mostraremos la suma."
   ]
  },
  {
   "cell_type": "code",
   "execution_count": 5,
   "id": "e377cb58-cd85-44bc-b0bf-9188d7acee4d",
   "metadata": {},
   "outputs": [
    {
     "name": "stdin",
     "output_type": "stream",
     "text": [
      "introduce un número: 1\n",
      "Introduce un núemero: 2\n",
      "Introduce un núemero: 3\n",
      "Introduce un núemero: 4\n",
      "Introduce un núemero: 5\n",
      "Introduce un núemero: 8\n",
      "Introduce un núemero: 9\n",
      "Introduce un núemero: 2\n",
      "Introduce un núemero: 0\n"
     ]
    },
    {
     "name": "stdout",
     "output_type": "stream",
     "text": [
      "La suma total es: 34.0\n"
     ]
    }
   ],
   "source": [
    "n = float(input('introduce un número:'))\n",
    "sum = 0\n",
    "\n",
    "while n != 0:\n",
    "    sum +=n\n",
    "    n = float(input('Introduce un núemero:'))\n",
    "else:\n",
    "    print('La suma total es:',sum)"
   ]
  },
  {
   "cell_type": "markdown",
   "id": "e16df34d-5801-42aa-81a1-bf3f0d7eb80b",
   "metadata": {},
   "source": [
    "### Ejercicio\n",
    "\n",
    "Imaginemos las letras del abecedario ordenadas y dispuestas en círculo. Es decir, a la derecha de la A está la B, luego la C, y así sucesivamente hasta la Z. A la derecha de la Z, se encuentra de nuevo la letra A.\n",
    "\n",
    "Vamos a hacer que el usuario introduzca un valor entero `n`, que se corresponderá con la rotación que llevará a una determinada letra `n` posiciones a su derecha. Por ejemplo, si la rotación es 4, entonces la A pasará a la E, la B a la F, ..., la Y a la C y la Z a la D.\n",
    "\n",
    "Con un bucle `while`, vamos a construir el programa que desplazará las letras `n` posiciones a la derecha.\n",
    "\n",
    "PISTA: Investiga las funciones `chr()` y `ord()` para pasar del valor [`ASCII`](https://elcodigoascii.com.ar/) de un caracter al caracter y viceversa."
   ]
  },
  {
   "cell_type": "code",
   "execution_count": 8,
   "id": "3b6c7b04-8a0f-4006-83a2-460f25b3b447",
   "metadata": {},
   "outputs": [
    {
     "name": "stdin",
     "output_type": "stream",
     "text": [
      "Introduzca una rotación: 5\n"
     ]
    },
    {
     "name": "stdout",
     "output_type": "stream",
     "text": [
      "A: F\n",
      "B: G\n",
      "C: H\n",
      "D: I\n",
      "E: J\n",
      "F: K\n",
      "G: L\n",
      "H: M\n",
      "I: N\n",
      "J: O\n",
      "K: P\n",
      "L: Q\n",
      "M: R\n",
      "N: S\n",
      "O: T\n",
      "P: U\n",
      "Q: V\n",
      "R: W\n",
      "S: X\n",
      "T: Y\n",
      "U: Z\n",
      "V: A\n",
      "W: B\n",
      "X: C\n",
      "Y: D\n",
      "Z: E\n"
     ]
    }
   ],
   "source": [
    "n = int(input('Introduzca una rotación:'))\n",
    "i = 65\n",
    "\n",
    "while i <= 90:\n",
    "    if i + n <= 90:\n",
    "        print(chr(i) + \": \" + chr(i + n))\n",
    "    else:\n",
    "        print(chr(i) + \": \" + chr((i - 26) + n))\n",
    "    i += 1"
   ]
  },
  {
   "cell_type": "markdown",
   "id": "3a0e79c9-6e36-4866-93d7-5ad9576ec00f",
   "metadata": {},
   "source": [
    "## Bucle `for`\n",
    "\n",
    "La idea del bucle `for` es: para todos los elementos de la clave, seguimos realizando las líneas del bucle. Una vez nos quedemos sin elementos, salimos del bucle.\n",
    "\n",
    "Su estructura es la siguiente"
   ]
  },
  {
   "cell_type": "code",
   "execution_count": null,
   "id": "56138aea-5dbb-41fc-864e-5b86c786a491",
   "metadata": {},
   "outputs": [],
   "source": [
    "for clave:\n",
    "  instrucción 1\n",
    "  instrucción 2\n",
    "  .\n",
    "  .\n",
    "  .\n",
    "  instrucción n"
   ]
  },
  {
   "cell_type": "markdown",
   "id": "560691c1-091f-44cc-a8d6-dfb748e9ad77",
   "metadata": {},
   "source": [
    "**Observación.** Vuelven a aparecer tanto los dos puntos después de la clave como la indentación previa a las instrucciones que se encuentran dentro del bucle.\n",
    "\n",
    "Un ejemplo del uso de un bucle `for` es el de recorrer todos los caracteres de un string:"
   ]
  },
  {
   "cell_type": "code",
   "execution_count": 2,
   "id": "409d4d4e-5bfa-4054-9ce8-df40e71f99f0",
   "metadata": {},
   "outputs": [
    {
     "name": "stdout",
     "output_type": "stream",
     "text": [
      "M\n",
      "e\n",
      " \n",
      "g\n",
      "u\n",
      "s\n",
      "t\n",
      "a\n",
      "n\n",
      " \n",
      "l\n",
      "a\n",
      "s\n",
      " \n",
      "m\n",
      "a\n",
      "t\n",
      "e\n",
      "m\n",
      "á\n",
      "t\n",
      "i\n",
      "c\n",
      "a\n",
      "s\n"
     ]
    }
   ],
   "source": [
    "s = 'Me gustan las matemáticas'\n",
    "\n",
    "for c in s:\n",
    "    print(c)"
   ]
  },
  {
   "cell_type": "markdown",
   "id": "06a22a7b-9c52-4a0f-9d93-229176fc8fff",
   "metadata": {},
   "source": [
    "Lo que hace el anterior chunk de código es imprimir todos y cada uno de los caracteres, a los que identificamos por `c`, que se encuentran en el string `s`."
   ]
  },
  {
   "cell_type": "markdown",
   "id": "7072937e-fbb5-4df2-9c7b-11b123505528",
   "metadata": {},
   "source": [
    "### Ejercicio\n",
    "\n",
    "Vamos a recorrer un string dado con un bucle `for` y lo vamos a devolver impreso del revés."
   ]
  },
  {
   "cell_type": "code",
   "execution_count": 4,
   "id": "5c6ce0ef-5f56-4a1b-a926-62bf44fe9dd3",
   "metadata": {},
   "outputs": [
    {
     "name": "stdout",
     "output_type": "stream",
     "text": [
      "sevan sus nav es\n"
     ]
    }
   ],
   "source": [
    "s = 'se van sus naves'\n",
    "\n",
    "s_inv = ''\n",
    "\n",
    "for c in s:\n",
    "    s_inv = c + s_inv\n",
    "    \n",
    "print(s_inv)"
   ]
  },
  {
   "cell_type": "markdown",
   "id": "ea91e3dd-c84c-45f7-aa33-d0d2347e3500",
   "metadata": {},
   "source": [
    "### Función `range()`\n",
    "\n",
    "La función `range()` tiene 3 posibles argumentos: \n",
    " \n",
    " - `start` \n",
    " - `stop` \n",
    " - `step`\n",
    "\n",
    "Veremos el uso de la función `range()` con un ejemplo. Recuperemos el ejemplo en que queríamos imprimir los 10 primeros números naturales:"
   ]
  },
  {
   "cell_type": "code",
   "execution_count": 5,
   "id": "7dd7c38a-0aac-46db-a545-812cb7b4844d",
   "metadata": {},
   "outputs": [
    {
     "name": "stdout",
     "output_type": "stream",
     "text": [
      "1\n",
      "2\n",
      "3\n",
      "4\n",
      "5\n",
      "6\n",
      "7\n",
      "8\n",
      "9\n",
      "10\n"
     ]
    }
   ],
   "source": [
    "for i in range(1, 11, 1):\n",
    "    print(i)"
   ]
  },
  {
   "cell_type": "code",
   "execution_count": 8,
   "id": "79781477-7ee7-4bbe-b39b-fb5418cd89a7",
   "metadata": {},
   "outputs": [
    {
     "name": "stdout",
     "output_type": "stream",
     "text": [
      "0\n",
      "1\n",
      "2\n",
      "3\n",
      "4\n"
     ]
    }
   ],
   "source": [
    "for i in range(5):\n",
    "    print(i)"
   ]
  },
  {
   "cell_type": "markdown",
   "id": "3470513b-f354-4c62-91fc-ac3b1954f112",
   "metadata": {},
   "source": [
    "**Observación.** Cosas a tener en cuenta cuando usamos la función `range()`:\n",
    "\n",
    "- El elemento indicado en el argumento `stop` nunca se incluye.\n",
    "- Si no indicamos ningún elemento en el argumento `start`, por defecto éste vale 0.\n",
    "- El valor por defecto del argumento `step` es 1.\n",
    "\n",
    "\n",
    "Por lo tanto, obtendríamos el mismo resultado que en el ejemplo anterior ejecutando las siguientes líneas de código:"
   ]
  },
  {
   "cell_type": "code",
   "execution_count": 9,
   "id": "b216b2da-91ac-4073-a75d-cc30b2b64e21",
   "metadata": {},
   "outputs": [
    {
     "name": "stdout",
     "output_type": "stream",
     "text": [
      "1\n",
      "2\n",
      "3\n",
      "4\n",
      "5\n",
      "6\n",
      "7\n",
      "8\n",
      "9\n",
      "10\n"
     ]
    }
   ],
   "source": [
    "for i in range(1, 11):\n",
    "    print(i)"
   ]
  },
  {
   "cell_type": "markdown",
   "id": "290e2136-d1c8-49b1-8f42-72d812df6f14",
   "metadata": {},
   "source": [
    "¿Y si quisiéramos imprimir los 10 primeros números naturales invirtiendo el orden? Pues, con un bucle `for`, lo haríamos del siguiente modo:"
   ]
  },
  {
   "cell_type": "code",
   "execution_count": 12,
   "id": "1a5130bf-3e8e-4aaf-bb1e-15812029589c",
   "metadata": {},
   "outputs": [
    {
     "name": "stdout",
     "output_type": "stream",
     "text": [
      "10\n",
      "9\n",
      "8\n",
      "7\n",
      "6\n",
      "5\n",
      "4\n",
      "3\n",
      "2\n",
      "1\n"
     ]
    }
   ],
   "source": [
    "for i in range(10, 0, -1):\n",
    "    print(i)"
   ]
  },
  {
   "cell_type": "markdown",
   "id": "10d4538f-2abb-46e9-af51-a9a7c054c49a",
   "metadata": {},
   "source": [
    "### Ejercicio\n",
    "\n",
    "Con un bucle `for`, dada una [progresión aritmética](https://es.wikipedia.org/wiki/Progresi%C3%B3n_aritm%C3%A9tica) de números enteros indicada por el usuario (nos dará el primer término, la diferencia y la cota), vamos a calcular la suma de los elementos incluyendo la cota.\n",
    "\n",
    "Un ejemplo de progresión aritmética es: 0, 2, 4, 6, 8, ... donde el primer término es 0 y la diferencia entre sus términos es 2."
   ]
  },
  {
   "cell_type": "code",
   "execution_count": 19,
   "id": "3d35bcb6-67ca-4ddf-9016-1607faf1921a",
   "metadata": {},
   "outputs": [
    {
     "name": "stdin",
     "output_type": "stream",
     "text": [
      "Introduce el número inical de la prograsión: 0\n",
      "Introduce la diferencia de la prograsión: 1\n",
      "itroduce el númro final de la prograsión: 8\n"
     ]
    },
    {
     "name": "stdout",
     "output_type": "stream",
     "text": [
      "La suma de la progresión es: 36\n"
     ]
    }
   ],
   "source": [
    "n0 = int(input('Introduce el número inical de la prograsión:'))\n",
    "dif = int(input('Introduce la diferencia de la prograsión:'))\n",
    "cota = int(input('itroduce el númro final de la prograsión:'))\n",
    "suma = 0\n",
    "\n",
    "for n in range(n0, cota + 1, dif):\n",
    "    suma += n\n",
    "    \n",
    "\n",
    "print('La suma de la progresión es:', suma)"
   ]
  },
  {
   "cell_type": "markdown",
   "id": "30d84831-b630-43ec-b25a-e8bbc7d3ca0e",
   "metadata": {},
   "source": [
    "### Comando `continue`\n",
    "\n",
    "El comando `continue` es similar a `break`, pero en vez de salir del bucle, lo que hace es interrumpir la iteración en la que se encuentra y empezar la siguiente iteración.\n",
    "\n"
   ]
  },
  {
   "cell_type": "markdown",
   "id": "9b2695da-af5b-4898-b2d0-053e3560948c",
   "metadata": {},
   "source": [
    "---\n",
    "\n",
    "#### Ejemplo 2\n",
    "\n",
    "Supongamos que queremos que se nos impriman todos los números entre 0 y 100 que no son ni divisibles entre 2 ni entre 5.\n",
    "\n",
    "**Ejercicio.** Pensad cómo podríais resolver este problema en el cual se exige que en algún momento utilicéis el comando `continue`."
   ]
  },
  {
   "cell_type": "code",
   "execution_count": 21,
   "id": "bfd9e110-15ba-4c92-acf7-22f7d92edbfa",
   "metadata": {},
   "outputs": [
    {
     "name": "stdout",
     "output_type": "stream",
     "text": [
      "1\n",
      "3\n",
      "7\n",
      "9\n",
      "11\n",
      "13\n",
      "17\n",
      "19\n",
      "21\n",
      "23\n",
      "27\n",
      "29\n",
      "31\n",
      "33\n",
      "37\n",
      "39\n",
      "41\n",
      "43\n",
      "47\n",
      "49\n",
      "51\n",
      "53\n",
      "57\n",
      "59\n",
      "61\n",
      "63\n",
      "67\n",
      "69\n",
      "71\n",
      "73\n",
      "77\n",
      "79\n",
      "81\n",
      "83\n",
      "87\n",
      "89\n",
      "91\n",
      "93\n",
      "97\n",
      "99\n"
     ]
    }
   ],
   "source": [
    "for i in range(101):\n",
    "    if i % 2 == 0 or i % 5 == 0:\n",
    "        continue\n",
    "    print(i)"
   ]
  },
  {
   "cell_type": "markdown",
   "id": "ea339633-a973-4cae-a6b0-98841739fe98",
   "metadata": {},
   "source": [
    "### Ejercicio\n",
    "\n",
    "Con un bucle `for`, vamos a recorrer un string dado y vamos a imprimir todas las letras salvo por la letra indicada por el usuario."
   ]
  },
  {
   "cell_type": "code",
   "execution_count": 27,
   "id": "7b64dfe4-f2cb-4961-9c26-6dd8cd040ca5",
   "metadata": {},
   "outputs": [
    {
     "name": "stdin",
     "output_type": "stream",
     "text": [
      "Introduce la letra que quieres que salga por pantalla: s\n"
     ]
    },
    {
     "name": "stdout",
     "output_type": "stream",
     "text": [
      "predecir el futuro reulta er un negocio muy difícil en í"
     ]
    }
   ],
   "source": [
    "s = \"Predecir el futuro resulta ser un negocio muy difícil en sí\"\n",
    "l = input('Introduce la letra que quieres que salga por pantalla:')\n",
    "s = s.lower()\n",
    "l = l.lower()\n",
    "\n",
    "for c in s:\n",
    "    if c == l:\n",
    "        continue\n",
    "    else:\n",
    "        print(c, end = '')"
   ]
  },
  {
   "cell_type": "markdown",
   "id": "98f31ee4-681a-4338-905e-ec7199d0fd69",
   "metadata": {},
   "source": [
    "### Ejercicio\n",
    "\n",
    "Dado un string, con un bucle `for` vamos a imprimirlo sin vocales y vamos a salir del bucle si la letra que indique el usuario aparece más de `n` veces, número que también nos proporcionará el usuario."
   ]
  },
  {
   "cell_type": "code",
   "execution_count": 39,
   "id": "dbaaccf1-bdc7-4157-a012-d8b3168569ff",
   "metadata": {},
   "outputs": [
    {
     "name": "stdin",
     "output_type": "stream",
     "text": [
      "Introduce una letra: s\n",
      "Introduce el nº d eveces que se tiene que repetir la letra para salir del bucle: 3\n"
     ]
    },
    {
     "name": "stdout",
     "output_type": "stream",
     "text": [
      "pnsms dms\n",
      "Se ha superado el nº de apariciones\n"
     ]
    }
   ],
   "source": [
    "s = \"Pensamos demasiado y sentimos muy poco\"\n",
    "s = s.lower()\n",
    "\n",
    "l = input('Introduce una letra:')\n",
    "l = l.lower()\n",
    "\n",
    "n = int(input('Introduce el nº d eveces que se tiene que repetir la letra para salir del bucle:'))\n",
    "\n",
    "vowels = ['a', 'e', 'i', 'o', 'u']\n",
    "count = 0\n",
    "\n",
    "for c in s:\n",
    "    if count >= n:\n",
    "        print('\\nSe ha superado el nº de apariciones')\n",
    "        break\n",
    "    if c == l:\n",
    "        count += 1\n",
    "    elif c in vowels:\n",
    "        continue\n",
    "        \n",
    "    print(c, end = '')"
   ]
  },
  {
   "cell_type": "markdown",
   "id": "1817d9e6-047d-4dc9-97ed-99b2253faec7",
   "metadata": {},
   "source": [
    "## Bucles anidados\n",
    "\n",
    "Se trata de bucles dentro de bucles"
   ]
  },
  {
   "cell_type": "markdown",
   "id": "9c3553bc-6451-4bfa-8c92-90f05ef30009",
   "metadata": {},
   "source": [
    "---\n",
    "\n",
    "#### Ejemplo 3\n",
    "\n",
    "Vamos a calcular las tablas de multiplicar de los números del 1 al 10 anidando dos bucles `for`:"
   ]
  },
  {
   "cell_type": "code",
   "execution_count": 49,
   "id": "8b8f680b-7ebe-4c73-b43d-6609bbd6d649",
   "metadata": {},
   "outputs": [
    {
     "name": "stdout",
     "output_type": "stream",
     "text": [
      "\n",
      "Tabla de multiplicar del 1\n",
      "\n",
      "1 x 1 = 1\n",
      "1 x 2 = 2\n",
      "1 x 3 = 3\n",
      "1 x 4 = 4\n",
      "1 x 5 = 5\n",
      "1 x 6 = 6\n",
      "1 x 7 = 7\n",
      "1 x 8 = 8\n",
      "1 x 9 = 9\n",
      "1 x 10 = 10\n",
      "\n",
      "Tabla de multiplicar del 2\n",
      "\n",
      "2 x 1 = 2\n",
      "2 x 2 = 4\n",
      "2 x 3 = 6\n",
      "2 x 4 = 8\n",
      "2 x 5 = 10\n",
      "2 x 6 = 12\n",
      "2 x 7 = 14\n",
      "2 x 8 = 16\n",
      "2 x 9 = 18\n",
      "2 x 10 = 20\n",
      "\n",
      "Tabla de multiplicar del 3\n",
      "\n",
      "3 x 1 = 3\n",
      "3 x 2 = 6\n",
      "3 x 3 = 9\n",
      "3 x 4 = 12\n",
      "3 x 5 = 15\n",
      "3 x 6 = 18\n",
      "3 x 7 = 21\n",
      "3 x 8 = 24\n",
      "3 x 9 = 27\n",
      "3 x 10 = 30\n",
      "\n",
      "Tabla de multiplicar del 4\n",
      "\n",
      "4 x 1 = 4\n",
      "4 x 2 = 8\n",
      "4 x 3 = 12\n",
      "4 x 4 = 16\n",
      "4 x 5 = 20\n",
      "4 x 6 = 24\n",
      "4 x 7 = 28\n",
      "4 x 8 = 32\n",
      "4 x 9 = 36\n",
      "4 x 10 = 40\n",
      "\n",
      "Tabla de multiplicar del 5\n",
      "\n",
      "5 x 1 = 5\n",
      "5 x 2 = 10\n",
      "5 x 3 = 15\n",
      "5 x 4 = 20\n",
      "5 x 5 = 25\n",
      "5 x 6 = 30\n",
      "5 x 7 = 35\n",
      "5 x 8 = 40\n",
      "5 x 9 = 45\n",
      "5 x 10 = 50\n",
      "\n",
      "Tabla de multiplicar del 6\n",
      "\n",
      "6 x 1 = 6\n",
      "6 x 2 = 12\n",
      "6 x 3 = 18\n",
      "6 x 4 = 24\n",
      "6 x 5 = 30\n",
      "6 x 6 = 36\n",
      "6 x 7 = 42\n",
      "6 x 8 = 48\n",
      "6 x 9 = 54\n",
      "6 x 10 = 60\n",
      "\n",
      "Tabla de multiplicar del 7\n",
      "\n",
      "7 x 1 = 7\n",
      "7 x 2 = 14\n",
      "7 x 3 = 21\n",
      "7 x 4 = 28\n",
      "7 x 5 = 35\n",
      "7 x 6 = 42\n",
      "7 x 7 = 49\n",
      "7 x 8 = 56\n",
      "7 x 9 = 63\n",
      "7 x 10 = 70\n",
      "\n",
      "Tabla de multiplicar del 8\n",
      "\n",
      "8 x 1 = 8\n",
      "8 x 2 = 16\n",
      "8 x 3 = 24\n",
      "8 x 4 = 32\n",
      "8 x 5 = 40\n",
      "8 x 6 = 48\n",
      "8 x 7 = 56\n",
      "8 x 8 = 64\n",
      "8 x 9 = 72\n",
      "8 x 10 = 80\n",
      "\n",
      "Tabla de multiplicar del 9\n",
      "\n",
      "9 x 1 = 9\n",
      "9 x 2 = 18\n",
      "9 x 3 = 27\n",
      "9 x 4 = 36\n",
      "9 x 5 = 45\n",
      "9 x 6 = 54\n",
      "9 x 7 = 63\n",
      "9 x 8 = 72\n",
      "9 x 9 = 81\n",
      "9 x 10 = 90\n",
      "\n",
      "Tabla de multiplicar del 10\n",
      "\n",
      "10 x 1 = 10\n",
      "10 x 2 = 20\n",
      "10 x 3 = 30\n",
      "10 x 4 = 40\n",
      "10 x 5 = 50\n",
      "10 x 6 = 60\n",
      "10 x 7 = 70\n",
      "10 x 8 = 80\n",
      "10 x 9 = 90\n",
      "10 x 10 = 100\n"
     ]
    }
   ],
   "source": [
    "for i in range(1, 11):\n",
    "    print('\\nTabla de multiplicar del {}\\n'.format(i))\n",
    "    \n",
    "    for z in range(1, 11):\n",
    "        print('{} x {} ='.format(i, z), i * z)"
   ]
  },
  {
   "cell_type": "markdown",
   "id": "36714d34-370b-4ed0-a39a-4e0c30418965",
   "metadata": {},
   "source": [
    "## Tarea tema 5"
   ]
  },
  {
   "cell_type": "markdown",
   "id": "6b013046-8ea6-4b43-92d9-582edc840eba",
   "metadata": {},
   "source": [
    "#### Ejercicio 1\n",
    "\n",
    "Haz que el usuario introduzca números enteros por teclado. Mientras el usuario no introduzca el 0, muestra\n",
    "si el número introducido es par o impar."
   ]
  },
  {
   "cell_type": "code",
   "execution_count": 53,
   "id": "188fa9c1-f3e5-437a-9994-ea80543030ab",
   "metadata": {},
   "outputs": [
    {
     "name": "stdin",
     "output_type": "stream",
     "text": [
      "Introdue un núemro entero: 2\n"
     ]
    },
    {
     "name": "stdout",
     "output_type": "stream",
     "text": [
      "El número es par\n"
     ]
    },
    {
     "name": "stdin",
     "output_type": "stream",
     "text": [
      "Introdue un núemro entero: 3\n"
     ]
    },
    {
     "name": "stdout",
     "output_type": "stream",
     "text": [
      "El núemro es impar\n"
     ]
    },
    {
     "name": "stdin",
     "output_type": "stream",
     "text": [
      "Introdue un núemro entero: 0\n"
     ]
    },
    {
     "name": "stdout",
     "output_type": "stream",
     "text": [
      "El número introducido es 0\n"
     ]
    }
   ],
   "source": [
    "while 1:\n",
    "    n = int(input('Introdue un núemro entero:'))\n",
    "    \n",
    "    if n == 0:\n",
    "        print('El número introducido es 0')\n",
    "        break\n",
    "    if n % 2 == 0:\n",
    "        print('El número es par')\n",
    "    else:\n",
    "        print('El núemro es impar')"
   ]
  },
  {
   "cell_type": "markdown",
   "id": "5263b2a9-17a1-4c74-8e8d-b5ed5f39ae35",
   "metadata": {},
   "source": [
    "#### Ejercicio 2 \n",
    "\n",
    "Haz que el usuario introduzca una palabra y una letra por teclado. Comprueba si la palabra contiene la\n",
    "letra o no e indícaselo al usuario por pantalla."
   ]
  },
  {
   "cell_type": "code",
   "execution_count": 57,
   "id": "dd5153ad-0c44-4ddb-bb35-5cce1bdcde25",
   "metadata": {},
   "outputs": [
    {
     "name": "stdin",
     "output_type": "stream",
     "text": [
      "Introduzca una palabra por pantalla: mario\n",
      "Introduxca una letra por pantalla: c\n"
     ]
    },
    {
     "name": "stdout",
     "output_type": "stream",
     "text": [
      "La letra introducida no se encuentra en la palabra\n",
      "La letra introducida no se encuentra en la palabra\n",
      "La letra introducida no se encuentra en la palabra\n",
      "La letra introducida no se encuentra en la palabra\n",
      "La letra introducida no se encuentra en la palabra\n"
     ]
    }
   ],
   "source": [
    "word = input('Introduzca una palabra por pantalla:')\n",
    "word = word.lower()\n",
    "\n",
    "letter = input('Introduxca una letra por pantalla:')\n",
    "letter = letter.lower()\n",
    "\n",
    "for c in word:\n",
    "    \n",
    "    if c == letter:\n",
    "        print('Su letra está dentro de la palabra')\n",
    "        break\n",
    "    else:\n",
    "        print('La letra introducida no se encuentra en la palabra')"
   ]
  },
  {
   "cell_type": "markdown",
   "id": "f7359b35-e09d-4538-b0bf-97d0a864da76",
   "metadata": {},
   "source": [
    "#### Ejercicio 3 \n",
    "\n",
    "Haz que el usuario introduzca precios por teclado (si introduce 0, entonces es que ha finalizado). Si el usuario\n",
    "pasa de 200€, entonces ya no debe poder introducir más precios pues se ha pasado de presupuesto. Sea cual\n",
    "sea el resultado (o bien el precio final o bien que no tiene más presupuesto), indícaselo por pantalla al usuario."
   ]
  },
  {
   "cell_type": "code",
   "execution_count": 61,
   "id": "ffc08719-f929-4d39-90b0-109bc7326189",
   "metadata": {},
   "outputs": [
    {
     "name": "stdin",
     "output_type": "stream",
     "text": [
      "Introduce un precio: 5\n"
     ]
    },
    {
     "name": "stdout",
     "output_type": "stream",
     "text": [
      "El precio final es: 5\n"
     ]
    },
    {
     "name": "stdin",
     "output_type": "stream",
     "text": [
      "Introduce un precio: 6\n"
     ]
    },
    {
     "name": "stdout",
     "output_type": "stream",
     "text": [
      "El precio final es: 11\n"
     ]
    },
    {
     "name": "stdin",
     "output_type": "stream",
     "text": [
      "Introduce un precio: 90\n"
     ]
    },
    {
     "name": "stdout",
     "output_type": "stream",
     "text": [
      "El precio final es: 101\n"
     ]
    },
    {
     "name": "stdin",
     "output_type": "stream",
     "text": [
      "Introduce un precio: 100\n"
     ]
    },
    {
     "name": "stdout",
     "output_type": "stream",
     "text": [
      "El precio final es: 201\n",
      "Se ha pasado del presupuesto\n"
     ]
    }
   ],
   "source": [
    "precio_final = 0\n",
    "\n",
    "while 1:\n",
    "    precio = int(input('Introduce un precio:'))\n",
    "    \n",
    "    if precio == 0:\n",
    "        print('Ha finalizado')\n",
    "        break\n",
    "    else:\n",
    "        precio_final += precio\n",
    "        print('El precio final es:', precio_final)\n",
    "    \n",
    "    if precio_final > 200:\n",
    "        print('Se ha pasado del presupuesto')\n",
    "        break\n",
    "    "
   ]
  },
  {
   "cell_type": "markdown",
   "id": "dcb6969c-8b25-4cd9-8da0-1bc80da414b7",
   "metadata": {},
   "source": [
    "#### Ejercicio 4\n",
    "\n",
    "Haz que el usuario introduzca números enteros por teclado. Mientras el usuario no introduzca el 0, calcula\n",
    "cuántos números positivos y cuántos negativos ha introducido y muéstraselo al final."
   ]
  },
  {
   "cell_type": "code",
   "execution_count": 65,
   "id": "2f73a93f-1597-44be-8f94-bb7c8c398c45",
   "metadata": {},
   "outputs": [
    {
     "name": "stdin",
     "output_type": "stream",
     "text": [
      "Introduzca un núemro entero: 1\n",
      "Introduzca un núemro entero: 2\n",
      "Introduzca un núemro entero: 3\n",
      "Introduzca un núemro entero: 4\n",
      "Introduzca un núemro entero: -1\n",
      "Introduzca un núemro entero: -2\n",
      "Introduzca un núemro entero: 0\n"
     ]
    },
    {
     "name": "stdout",
     "output_type": "stream",
     "text": [
      "El 0 no es válido\n",
      "La cantidad de números positivos introducidos es de: 4\n",
      "La cantidad de números positivos introducidos es de: 2\n"
     ]
    }
   ],
   "source": [
    "positivo = 0\n",
    "negativo = 0\n",
    "\n",
    "while 1:\n",
    "    n = int(input('Introduzca un núemro entero:'))\n",
    "    \n",
    "    if n == 0:\n",
    "        print('El 0 no es válido')\n",
    "        break\n",
    "    elif n > 0:\n",
    "        positivo += 1 \n",
    "    else:\n",
    "        negativo += 1\n",
    "        \n",
    "        \n",
    "print('La cantidad de números positivos introducidos es de:', positivo)\n",
    "print('La cantidad de números positivos introducidos es de:', negativo)"
   ]
  },
  {
   "cell_type": "markdown",
   "id": "7dd30d10-42fb-40a4-b720-a9c46926ad8b",
   "metadata": {},
   "source": [
    "#### Ejercicio 5 \n",
    "\n",
    "Haz que el usuario introduzca números por teclado. Mientras el usuario no introduzca el 0, pídele otro\n",
    "número. Cuando el usuario introduzca el 0, muéstrale la media aritmética de los números que ha introducido."
   ]
  },
  {
   "cell_type": "code",
   "execution_count": 70,
   "id": "40960c89-d566-4567-af22-e48a71686f5d",
   "metadata": {},
   "outputs": [
    {
     "name": "stdin",
     "output_type": "stream",
     "text": [
      "Introduzca un número entero: 2\n",
      "Introduzca un número entero: 3\n",
      "Introduzca un número entero: 4\n",
      "Introduzca un número entero: 6\n",
      "Introduzca un número entero: 78\n",
      "Introduzca un número entero: 0\n"
     ]
    },
    {
     "name": "stdout",
     "output_type": "stream",
     "text": [
      "La media de los números introducidos es: 18.6\n"
     ]
    }
   ],
   "source": [
    "import numpy as np\n",
    "numbers = []\n",
    "\n",
    "while 1:\n",
    "    n = int(input('Introduzca un número entero:'))\n",
    "    \n",
    "    if n == 0:\n",
    "        break\n",
    "    else:\n",
    "        numbers.append(n)\n",
    "        \n",
    "print('La media de los números introducidos es:', np.mean(numbers))"
   ]
  },
  {
   "cell_type": "markdown",
   "id": "63c75874-bef1-4d9a-9f84-a26a893f9728",
   "metadata": {},
   "source": [
    "#### Ejercicio 6\n",
    "\n",
    "Haz que el usuario introduzca dos números enteros por teclado. El primero será el extremo izquierdo del\n",
    "intervalo y, el segundo, el extremo derecho. Imprime todos los números que se encuentren entre los dos\n",
    "números introducidos por el usuario (los extremos incluidos)."
   ]
  },
  {
   "cell_type": "code",
   "execution_count": 71,
   "id": "7b6674cc-9e84-45f7-b19e-145030d96029",
   "metadata": {},
   "outputs": [
    {
     "name": "stdin",
     "output_type": "stream",
     "text": [
      "Introduzca el extrmo izquierdo de el intervalo: 1\n",
      "Introduzca el último número del intervalo: 5\n"
     ]
    },
    {
     "name": "stdout",
     "output_type": "stream",
     "text": [
      "1\n",
      "2\n",
      "3\n",
      "4\n",
      "5\n"
     ]
    }
   ],
   "source": [
    "n0 = int(input('Introduzca el extrmo izquierdo de el intervalo:'))\n",
    "n1 = int(input('Introduzca el último número del intervalo:'))\n",
    "\n",
    "for n in range(n0, n1 + 1):\n",
    "    print(n)"
   ]
  },
  {
   "cell_type": "markdown",
   "id": "87f8327e-a07c-462c-b580-d8b41e1e7720",
   "metadata": {},
   "source": [
    "#### Ejercicio 7\n",
    "\n",
    "Haz que el usuario introduzca dos números enteros por teclado. El primero será el extremo izquierdo del\n",
    "intervalo y, el segundo, el extremo derecho. Imprime la suma de todos los múltiplos de 3 que se encuentren\n",
    "entre los dos números introducidos por el usuario (los extremos incluidos). Finalmente, muestra por pantalla\n",
    "el resultado de la suma.\n"
   ]
  },
  {
   "cell_type": "code",
   "execution_count": 74,
   "id": "4374a9fe-5cb8-4e1c-a178-48db03374a8b",
   "metadata": {},
   "outputs": [
    {
     "name": "stdin",
     "output_type": "stream",
     "text": [
      "Introduzca el extrmo izquierdo de el intervalo: 1\n",
      "Introduzca el último número del intervalo: 30\n"
     ]
    },
    {
     "name": "stdout",
     "output_type": "stream",
     "text": [
      "La suma de los multiplos de 3 es: 165\n"
     ]
    }
   ],
   "source": [
    "n0 = int(input('Introduzca el extrmo izquierdo de el intervalo:'))\n",
    "n1 = int(input('Introduzca el último número del intervalo:'))\n",
    "suma = 0\n",
    "\n",
    "for n in range(n0, n1 + 1):\n",
    "    if n % 3 == 0:\n",
    "        suma += n\n",
    "print('La suma de los multiplos de 3 es:', suma)"
   ]
  },
  {
   "cell_type": "markdown",
   "id": "d64c1e37-3275-4368-b165-b2aa59e7e43c",
   "metadata": {},
   "source": [
    "#### Ejercicio 8\n",
    "\n",
    "Pídele al usuario cuántos números va a introducir. Con un bucle for, solicítale esa cantidad de números y\n",
    "calcula su producto."
   ]
  },
  {
   "cell_type": "code",
   "execution_count": 75,
   "id": "c018288d-f134-4191-a3a4-6336f19db0aa",
   "metadata": {},
   "outputs": [
    {
     "name": "stdin",
     "output_type": "stream",
     "text": [
      "¿Cuántos núemros vas a introducir? 5\n",
      "Introduce un núemro: 1\n",
      "Introduce un núemro: 4\n",
      "Introduce un núemro: 5\n",
      "Introduce un núemro: 6\n",
      "Introduce un núemro: 7\n"
     ]
    },
    {
     "name": "stdout",
     "output_type": "stream",
     "text": [
      "El produccto de los núemro introducidos es: 840\n"
     ]
    }
   ],
   "source": [
    "muestra = int(input('¿Cuántos núemros vas a introducir?'))\n",
    "prod = 1\n",
    "\n",
    "for i in range(muestra):\n",
    "    n = int(input('Introduce un núemro:'))\n",
    "    prod *= n\n",
    "    \n",
    "print('El produccto de los núemro introducidos es:', prod)"
   ]
  },
  {
   "cell_type": "markdown",
   "id": "d97773e0-c526-45e3-a859-a33ca0e211db",
   "metadata": {},
   "source": [
    "#### Ejercicio 9\n",
    "\n",
    "Haz que el usuario introduzca su edad y el año actual. Imprime todos los años que han pasado desde su año\n",
    "de nacimiento hasta el año actual (ambos incluidos).\n"
   ]
  },
  {
   "cell_type": "code",
   "execution_count": 76,
   "id": "e2c97214-47fa-4141-8e34-675e82c7bf4b",
   "metadata": {},
   "outputs": [
    {
     "name": "stdin",
     "output_type": "stream",
     "text": [
      "Introduzca su edad: 25\n",
      "Introduzca el año actual: 2021\n"
     ]
    },
    {
     "name": "stdout",
     "output_type": "stream",
     "text": [
      "1996\n",
      "1997\n",
      "1998\n",
      "1999\n",
      "2000\n",
      "2001\n",
      "2002\n",
      "2003\n",
      "2004\n",
      "2005\n",
      "2006\n",
      "2007\n",
      "2008\n",
      "2009\n",
      "2010\n",
      "2011\n",
      "2012\n",
      "2013\n",
      "2014\n",
      "2015\n",
      "2016\n",
      "2017\n",
      "2018\n",
      "2019\n",
      "2020\n",
      "2021\n"
     ]
    }
   ],
   "source": [
    "edad = int(input('Introduzca su edad:'))\n",
    "year = int(input('Introduzca el año actual:'))\n",
    "\n",
    "for i in range(year-edad, year +1):\n",
    "    print(i)"
   ]
  },
  {
   "cell_type": "markdown",
   "id": "846258b8-d092-4ed0-b619-d59d4c736c35",
   "metadata": {},
   "source": [
    "#### Ejericio 10\n",
    "\n",
    "Haz que el usuario introduzca un número entero. Muestra un cuadrado y luego un triángulo rectángulo de\n",
    "lado y altura, respectivamente, el número entero introducido. Por ejemplo, si el usuario introduce como\n",
    "número 5, se deberá mostrar:"
   ]
  },
  {
   "cell_type": "code",
   "execution_count": 89,
   "id": "612ebf78-7206-4da7-9d1c-d3814f933f81",
   "metadata": {},
   "outputs": [
    {
     "name": "stdin",
     "output_type": "stream",
     "text": [
      "Introduce un número entero: 5\n"
     ]
    },
    {
     "name": "stdout",
     "output_type": "stream",
     "text": [
      "*                    * * * * * \n",
      "* *                  * * * * * \n",
      "* * *                * * * * * \n",
      "* * * *              * * * * * \n",
      "* * * * *            * * * * * \n"
     ]
    }
   ],
   "source": [
    "n = int(input('Introduce un número entero:'))\n",
    "\n",
    "for i in range(n):\n",
    "    print('* ' * (i + 1) + ' ' * (20 - (2 * i + 2) + 1) + '* ' * n)"
   ]
  },
  {
   "cell_type": "code",
   "execution_count": null,
   "id": "15024042-46e9-460b-90a5-afca9fbc7e22",
   "metadata": {},
   "outputs": [],
   "source": []
  }
 ],
 "metadata": {
  "kernelspec": {
   "display_name": "Python 3 (ipykernel)",
   "language": "python",
   "name": "python3"
  },
  "language_info": {
   "codemirror_mode": {
    "name": "ipython",
    "version": 3
   },
   "file_extension": ".py",
   "mimetype": "text/x-python",
   "name": "python",
   "nbconvert_exporter": "python",
   "pygments_lexer": "ipython3",
   "version": "3.8.12"
  }
 },
 "nbformat": 4,
 "nbformat_minor": 5
}
